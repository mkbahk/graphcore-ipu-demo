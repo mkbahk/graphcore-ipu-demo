{
  "nbformat": 4,
  "nbformat_minor": 0,
  "metadata": {
    "colab": {
      "name": "MNIST-Keras-101-Sample-JSH.ipynb",
      "provenance": [],
      "collapsed_sections": [],
      "authorship_tag": "ABX9TyN7Zu7/tqu4Jk95pg4r656L",
      "include_colab_link": true
    },
    "kernelspec": {
      "name": "python3",
      "display_name": "Python 3"
    }
  },
  "cells": [
    {
      "cell_type": "markdown",
      "metadata": {
        "id": "view-in-github",
        "colab_type": "text"
      },
      "source": [
        "<a href=\"https://colab.research.google.com/github/mkbahk/graphcore-ipu-demo/blob/main/MNIST_Keras_101_Sample_JSH.ipynb\" target=\"_parent\"><img src=\"https://colab.research.google.com/assets/colab-badge.svg\" alt=\"Open In Colab\"/></a>"
      ]
    },
    {
      "cell_type": "markdown",
      "metadata": {
        "id": "c7GMXBHQvU7l"
      },
      "source": [
        "#Module Import"
      ]
    },
    {
      "cell_type": "code",
      "metadata": {
        "id": "57Lmu3UgvJoH"
      },
      "source": [
        "from tensorflow import keras\n",
        "from keras.models import load_model"
      ],
      "execution_count": 172,
      "outputs": []
    },
    {
      "cell_type": "markdown",
      "metadata": {
        "id": "f2o6ghk3vgj3"
      },
      "source": [
        "#Load MNIST DataSet\n"
      ]
    },
    {
      "cell_type": "code",
      "metadata": {
        "id": "UQ-Zd6MFvnP0",
        "colab": {
          "base_uri": "https://localhost:8080/"
        },
        "outputId": "70ec533b-b4ac-405c-b7f8-9c851b787a9e"
      },
      "source": [
        "(x_train, y_train), (x_test, y_test) = keras.datasets.mnist.load_data()\n",
        "\n",
        "print(\"# of x_train\", len(x_train))\n",
        "print(\"# of y_train\", len(y_train))\n",
        "print(\"# of x_test\", len(x_test))\n",
        "print(\"# of y_test\", len(y_test))"
      ],
      "execution_count": 173,
      "outputs": [
        {
          "output_type": "stream",
          "text": [
            "# of x_train 60000\n",
            "# of y_train 60000\n",
            "# of x_test 10000\n",
            "# of y_test 10000\n"
          ],
          "name": "stdout"
        }
      ]
    },
    {
      "cell_type": "markdown",
      "metadata": {
        "id": "raERFh4uJque"
      },
      "source": [
        "#Transfer Learning 데모를 위한 Training Set 슬라이싱\n",
        "\n"
      ]
    },
    {
      "cell_type": "code",
      "metadata": {
        "colab": {
          "base_uri": "https://localhost:8080/"
        },
        "id": "WpIloZblJzFw",
        "outputId": "0106be88-6b85-4f3b-e1cc-eb2861d32af9"
      },
      "source": [
        "tx_train = x_train[50000:]\n",
        "ty_train = y_train[50000:]\n",
        "\n",
        "x_train = x_train[0:50000]\n",
        "y_train = y_train[0:50000]\n",
        "\n",
        "print(\"# of x_train\", len(x_train))\n",
        "print(\"# of y_train\", len(y_train))\n",
        "\n",
        "print(\"# of tx_train\", len(tx_train))\n",
        "print(\"# of ty_train\", len(ty_train))"
      ],
      "execution_count": 174,
      "outputs": [
        {
          "output_type": "stream",
          "text": [
            "# of x_train 50000\n",
            "# of y_train 50000\n",
            "# of tx_train 10000\n",
            "# of ty_train 10000\n"
          ],
          "name": "stdout"
        }
      ]
    },
    {
      "cell_type": "markdown",
      "metadata": {
        "id": "cKMIfSetEwYQ"
      },
      "source": [
        "#ValidationSet을 위한 TestSet 슬라이싱"
      ]
    },
    {
      "cell_type": "code",
      "metadata": {
        "colab": {
          "base_uri": "https://localhost:8080/"
        },
        "id": "Gzz_2UlcE3Se",
        "outputId": "665c4946-6a76-4515-d15e-7bb14ac8353d"
      },
      "source": [
        "x_val = x_test[5000:]\n",
        "y_val = y_test[5000:]\n",
        "\n",
        "x_test = x_test[0:5000]\n",
        "y_test = y_test[0:5000]\n",
        "\n",
        "print(\"# of x_test\", len(x_test))\n",
        "print(\"# of y_test\", len(y_test))\n",
        "\n",
        "print(\"# of x_val\", len(x_val))\n",
        "print(\"# of y_val\", len(y_val))"
      ],
      "execution_count": 175,
      "outputs": [
        {
          "output_type": "stream",
          "text": [
            "# of x_test 5000\n",
            "# of y_test 5000\n",
            "# of x_val 5000\n",
            "# of y_val 5000\n"
          ],
          "name": "stdout"
        }
      ]
    },
    {
      "cell_type": "code",
      "metadata": {
        "id": "0Tklx1amapQb",
        "colab": {
          "base_uri": "https://localhost:8080/"
        },
        "outputId": "94014e8f-69f4-401a-c8d0-96cd1ce71469"
      },
      "source": [
        "for i in range(5):\n",
        "  print(y_train[i])\n",
        "#end of for"
      ],
      "execution_count": 176,
      "outputs": [
        {
          "output_type": "stream",
          "text": [
            "5\n",
            "0\n",
            "4\n",
            "1\n",
            "9\n"
          ],
          "name": "stdout"
        }
      ]
    },
    {
      "cell_type": "code",
      "metadata": {
        "id": "bjNWl5tCW9lJ",
        "colab": {
          "base_uri": "https://localhost:8080/",
          "height": 1000
        },
        "outputId": "7d013a0c-606a-4550-cf77-58747fd48286"
      },
      "source": [
        "import matplotlib.pyplot as plt\n",
        "\n",
        "image_index = 1 # You may select anything up to 60,000\n",
        "\n",
        "print(x_train[image_index], \"\\n\\n\") # The label is 0\n",
        "print(x_test[image_index], \"\\n\\n\") # The label is 2\n",
        "\n",
        "print(y_train[image_index], \"\\n\\n\")\n",
        "print(y_test[image_index], \"\\n\\n\")\n",
        "\n",
        "print(\"x_train\", x_train.shape, \"x_test\", x_test.shape, \"리스트(배열,행렬)\\n\\n\")\n",
        "print(\"y_train\", y_train.shape, \"y_test\", y_test.shape, \"리스트(배열,행렬)\\n\\n\")\n",
        "\n",
        "\n",
        "plt.imshow(x_train[image_index], cmap='Greys')\n",
        "\n"
      ],
      "execution_count": 177,
      "outputs": [
        {
          "output_type": "stream",
          "text": [
            "[[  0   0   0   0   0   0   0   0   0   0   0   0   0   0   0   0   0   0\n",
            "    0   0   0   0   0   0   0   0   0   0]\n",
            " [  0   0   0   0   0   0   0   0   0   0   0   0   0   0   0   0   0   0\n",
            "    0   0   0   0   0   0   0   0   0   0]\n",
            " [  0   0   0   0   0   0   0   0   0   0   0   0   0   0   0   0   0   0\n",
            "    0   0   0   0   0   0   0   0   0   0]\n",
            " [  0   0   0   0   0   0   0   0   0   0   0   0   0   0   0   0   0   0\n",
            "    0   0   0   0   0   0   0   0   0   0]\n",
            " [  0   0   0   0   0   0   0   0   0   0   0   0   0   0   0  51 159 253\n",
            "  159  50   0   0   0   0   0   0   0   0]\n",
            " [  0   0   0   0   0   0   0   0   0   0   0   0   0   0  48 238 252 252\n",
            "  252 237   0   0   0   0   0   0   0   0]\n",
            " [  0   0   0   0   0   0   0   0   0   0   0   0   0  54 227 253 252 239\n",
            "  233 252  57   6   0   0   0   0   0   0]\n",
            " [  0   0   0   0   0   0   0   0   0   0   0  10  60 224 252 253 252 202\n",
            "   84 252 253 122   0   0   0   0   0   0]\n",
            " [  0   0   0   0   0   0   0   0   0   0   0 163 252 252 252 253 252 252\n",
            "   96 189 253 167   0   0   0   0   0   0]\n",
            " [  0   0   0   0   0   0   0   0   0   0  51 238 253 253 190 114 253 228\n",
            "   47  79 255 168   0   0   0   0   0   0]\n",
            " [  0   0   0   0   0   0   0   0   0  48 238 252 252 179  12  75 121  21\n",
            "    0   0 253 243  50   0   0   0   0   0]\n",
            " [  0   0   0   0   0   0   0   0  38 165 253 233 208  84   0   0   0   0\n",
            "    0   0 253 252 165   0   0   0   0   0]\n",
            " [  0   0   0   0   0   0   0   7 178 252 240  71  19  28   0   0   0   0\n",
            "    0   0 253 252 195   0   0   0   0   0]\n",
            " [  0   0   0   0   0   0   0  57 252 252  63   0   0   0   0   0   0   0\n",
            "    0   0 253 252 195   0   0   0   0   0]\n",
            " [  0   0   0   0   0   0   0 198 253 190   0   0   0   0   0   0   0   0\n",
            "    0   0 255 253 196   0   0   0   0   0]\n",
            " [  0   0   0   0   0   0  76 246 252 112   0   0   0   0   0   0   0   0\n",
            "    0   0 253 252 148   0   0   0   0   0]\n",
            " [  0   0   0   0   0   0  85 252 230  25   0   0   0   0   0   0   0   0\n",
            "    7 135 253 186  12   0   0   0   0   0]\n",
            " [  0   0   0   0   0   0  85 252 223   0   0   0   0   0   0   0   0   7\n",
            "  131 252 225  71   0   0   0   0   0   0]\n",
            " [  0   0   0   0   0   0  85 252 145   0   0   0   0   0   0   0  48 165\n",
            "  252 173   0   0   0   0   0   0   0   0]\n",
            " [  0   0   0   0   0   0  86 253 225   0   0   0   0   0   0 114 238 253\n",
            "  162   0   0   0   0   0   0   0   0   0]\n",
            " [  0   0   0   0   0   0  85 252 249 146  48  29  85 178 225 253 223 167\n",
            "   56   0   0   0   0   0   0   0   0   0]\n",
            " [  0   0   0   0   0   0  85 252 252 252 229 215 252 252 252 196 130   0\n",
            "    0   0   0   0   0   0   0   0   0   0]\n",
            " [  0   0   0   0   0   0  28 199 252 252 253 252 252 233 145   0   0   0\n",
            "    0   0   0   0   0   0   0   0   0   0]\n",
            " [  0   0   0   0   0   0   0  25 128 252 253 252 141  37   0   0   0   0\n",
            "    0   0   0   0   0   0   0   0   0   0]\n",
            " [  0   0   0   0   0   0   0   0   0   0   0   0   0   0   0   0   0   0\n",
            "    0   0   0   0   0   0   0   0   0   0]\n",
            " [  0   0   0   0   0   0   0   0   0   0   0   0   0   0   0   0   0   0\n",
            "    0   0   0   0   0   0   0   0   0   0]\n",
            " [  0   0   0   0   0   0   0   0   0   0   0   0   0   0   0   0   0   0\n",
            "    0   0   0   0   0   0   0   0   0   0]\n",
            " [  0   0   0   0   0   0   0   0   0   0   0   0   0   0   0   0   0   0\n",
            "    0   0   0   0   0   0   0   0   0   0]] \n",
            "\n",
            "\n",
            "[[  0   0   0   0   0   0   0   0   0   0   0   0   0   0   0   0   0   0\n",
            "    0   0   0   0   0   0   0   0   0   0]\n",
            " [  0   0   0   0   0   0   0   0   0   0   0   0   0   0   0   0   0   0\n",
            "    0   0   0   0   0   0   0   0   0   0]\n",
            " [  0   0   0   0   0   0   0   0   0   0   0   0   0   0   0   0   0   0\n",
            "    0   0   0   0   0   0   0   0   0   0]\n",
            " [  0   0   0   0   0   0   0   0   0   0 116 125 171 255 255 150  93   0\n",
            "    0   0   0   0   0   0   0   0   0   0]\n",
            " [  0   0   0   0   0   0   0   0   0 169 253 253 253 253 253 253 218  30\n",
            "    0   0   0   0   0   0   0   0   0   0]\n",
            " [  0   0   0   0   0   0   0   0 169 253 253 253 213 142 176 253 253 122\n",
            "    0   0   0   0   0   0   0   0   0   0]\n",
            " [  0   0   0   0   0   0   0  52 250 253 210  32  12   0   6 206 253 140\n",
            "    0   0   0   0   0   0   0   0   0   0]\n",
            " [  0   0   0   0   0   0   0  77 251 210  25   0   0   0 122 248 253  65\n",
            "    0   0   0   0   0   0   0   0   0   0]\n",
            " [  0   0   0   0   0   0   0   0  31  18   0   0   0   0 209 253 253  65\n",
            "    0   0   0   0   0   0   0   0   0   0]\n",
            " [  0   0   0   0   0   0   0   0   0   0   0   0   0 117 247 253 198  10\n",
            "    0   0   0   0   0   0   0   0   0   0]\n",
            " [  0   0   0   0   0   0   0   0   0   0   0   0  76 247 253 231  63   0\n",
            "    0   0   0   0   0   0   0   0   0   0]\n",
            " [  0   0   0   0   0   0   0   0   0   0   0   0 128 253 253 144   0   0\n",
            "    0   0   0   0   0   0   0   0   0   0]\n",
            " [  0   0   0   0   0   0   0   0   0   0   0 176 246 253 159  12   0   0\n",
            "    0   0   0   0   0   0   0   0   0   0]\n",
            " [  0   0   0   0   0   0   0   0   0   0  25 234 253 233  35   0   0   0\n",
            "    0   0   0   0   0   0   0   0   0   0]\n",
            " [  0   0   0   0   0   0   0   0   0   0 198 253 253 141   0   0   0   0\n",
            "    0   0   0   0   0   0   0   0   0   0]\n",
            " [  0   0   0   0   0   0   0   0   0  78 248 253 189  12   0   0   0   0\n",
            "    0   0   0   0   0   0   0   0   0   0]\n",
            " [  0   0   0   0   0   0   0   0  19 200 253 253 141   0   0   0   0   0\n",
            "    0   0   0   0   0   0   0   0   0   0]\n",
            " [  0   0   0   0   0   0   0   0 134 253 253 173  12   0   0   0   0   0\n",
            "    0   0   0   0   0   0   0   0   0   0]\n",
            " [  0   0   0   0   0   0   0   0 248 253 253  25   0   0   0   0   0   0\n",
            "    0   0   0   0   0   0   0   0   0   0]\n",
            " [  0   0   0   0   0   0   0   0 248 253 253  43  20  20  20  20   5   0\n",
            "    5  20  20  37 150 150 150 147  10   0]\n",
            " [  0   0   0   0   0   0   0   0 248 253 253 253 253 253 253 253 168 143\n",
            "  166 253 253 253 253 253 253 253 123   0]\n",
            " [  0   0   0   0   0   0   0   0 174 253 253 253 253 253 253 253 253 253\n",
            "  253 253 249 247 247 169 117 117  57   0]\n",
            " [  0   0   0   0   0   0   0   0   0 118 123 123 123 166 253 253 253 155\n",
            "  123 123  41   0   0   0   0   0   0   0]\n",
            " [  0   0   0   0   0   0   0   0   0   0   0   0   0   0   0   0   0   0\n",
            "    0   0   0   0   0   0   0   0   0   0]\n",
            " [  0   0   0   0   0   0   0   0   0   0   0   0   0   0   0   0   0   0\n",
            "    0   0   0   0   0   0   0   0   0   0]\n",
            " [  0   0   0   0   0   0   0   0   0   0   0   0   0   0   0   0   0   0\n",
            "    0   0   0   0   0   0   0   0   0   0]\n",
            " [  0   0   0   0   0   0   0   0   0   0   0   0   0   0   0   0   0   0\n",
            "    0   0   0   0   0   0   0   0   0   0]\n",
            " [  0   0   0   0   0   0   0   0   0   0   0   0   0   0   0   0   0   0\n",
            "    0   0   0   0   0   0   0   0   0   0]] \n",
            "\n",
            "\n",
            "0 \n",
            "\n",
            "\n",
            "2 \n",
            "\n",
            "\n",
            "x_train (50000, 28, 28) x_test (5000, 28, 28) 리스트(배열,행렬)\n",
            "\n",
            "\n",
            "y_train (50000,) y_test (5000,) 리스트(배열,행렬)\n",
            "\n",
            "\n"
          ],
          "name": "stdout"
        },
        {
          "output_type": "execute_result",
          "data": {
            "text/plain": [
              "<matplotlib.image.AxesImage at 0x7fc74436f240>"
            ]
          },
          "metadata": {
            "tags": []
          },
          "execution_count": 177
        },
        {
          "output_type": "display_data",
          "data": {
            "image/png": "[encoded data removed]",
            "text/plain": [
              "<Figure size 432x288 with 1 Axes>"
            ]
          },
          "metadata": {
            "tags": [],
            "needs_background": "light"
          }
        }
      ]
    },
    {
      "cell_type": "markdown",
      "metadata": {
        "id": "vUDbkQ6FwIu9"
      },
      "source": [
        "#one-hot enconding 수행<br>\n",
        "5 --> 0 0 0 0 0 1 0 0 0 0<br>\n",
        "1 --> 0 1 0 0 0 0 0 0 0 0<br>\n"
      ]
    },
    {
      "cell_type": "code",
      "metadata": {
        "id": "fEv9hkBBwEJj",
        "colab": {
          "base_uri": "https://localhost:8080/"
        },
        "outputId": "cf9849d2-9889-4dc8-e6fe-46e2e8da7e34"
      },
      "source": [
        "y_train = keras.utils.to_categorical(y=y_train, num_classes = 10)\n",
        "ty_train = keras.utils.to_categorical(y=ty_train, num_classes = 10)\n",
        "y_test = keras.utils.to_categorical(y=y_test, num_classes=10)\n",
        "y_val = keras.utils.to_categorical(y=y_val, num_classes=10)\n",
        "\n",
        "#리스트 데이타들 출력해 보기\n",
        "for j in range(2):\n",
        "   print(\"\\n=====Y Train Value======\", y_train[j])\n",
        "#end of for\n",
        "\n",
        "for t in range(2):\n",
        "   print(\"\\n=====TY Train Value======\", ty_train[j])\n",
        "#end of for\n",
        "\n",
        "for k in range(2):\n",
        "   print(\"\\n=====Y Test Value======\", y_test[k])\n",
        "#end of for\n",
        "\n",
        "for v in range(2):\n",
        "   print(\"\\n=====Y Val Value======\", y_val[v])\n",
        "#end of for"
      ],
      "execution_count": 178,
      "outputs": [
        {
          "output_type": "stream",
          "text": [
            "\n",
            "=====Y Train Value====== [0. 0. 0. 0. 0. 1. 0. 0. 0. 0.]\n",
            "\n",
            "=====Y Train Value====== [1. 0. 0. 0. 0. 0. 0. 0. 0. 0.]\n",
            "\n",
            "=====TY Train Value====== [0. 0. 0. 0. 0. 0. 0. 0. 1. 0.]\n",
            "\n",
            "=====TY Train Value====== [0. 0. 0. 0. 0. 0. 0. 0. 1. 0.]\n",
            "\n",
            "=====Y Test Value====== [0. 0. 0. 0. 0. 0. 0. 1. 0. 0.]\n",
            "\n",
            "=====Y Test Value====== [0. 0. 1. 0. 0. 0. 0. 0. 0. 0.]\n",
            "\n",
            "=====Y Val Value====== [0. 0. 0. 1. 0. 0. 0. 0. 0. 0.]\n",
            "\n",
            "=====Y Val Value====== [0. 0. 0. 0. 0. 0. 0. 0. 0. 1.]\n"
          ],
          "name": "stdout"
        }
      ]
    },
    {
      "cell_type": "markdown",
      "metadata": {
        "id": "PWfwt_clw7Vt"
      },
      "source": [
        "#DataSet 형변환\n"
      ]
    },
    {
      "cell_type": "code",
      "metadata": {
        "id": "ZgegW8bww2bo",
        "colab": {
          "base_uri": "https://localhost:8080/"
        },
        "outputId": "00b47c4a-6921-4e88-9d16-ff508669cde9"
      },
      "source": [
        "x_train = x_train.reshape(50000, 28*28)\n",
        "tx_train = tx_train.reshape(10000, 28*28)\n",
        "\n",
        "x_test = x_test.reshape(5000, 28*28)\n",
        "x_val = x_val.reshape(5000, 28*28)\n",
        "\n",
        "print(x_train.shape, tx_train.shape,  x_test.shape, x_val.shape)\n",
        "print(y_train.shape, ty_train.shape, y_test.shape, x_val.shape)"
      ],
      "execution_count": 179,
      "outputs": [
        {
          "output_type": "stream",
          "text": [
            "(50000, 784) (10000, 784) (5000, 784) (5000, 784)\n",
            "(50000, 10) (10000, 10) (5000, 10) (5000, 784)\n"
          ],
          "name": "stdout"
        }
      ]
    },
    {
      "cell_type": "code",
      "metadata": {
        "id": "ZP3f4krFIO-N"
      },
      "source": [
        "# https://www.youtube.com/watch?v=UOvPeC8WOt8"
      ],
      "execution_count": 180,
      "outputs": []
    },
    {
      "cell_type": "markdown",
      "metadata": {
        "id": "t3iM_wFCxmfm"
      },
      "source": [
        "#모델 구조 생성\n"
      ]
    },
    {
      "cell_type": "code",
      "metadata": {
        "id": "dgYYrPFlxI1i"
      },
      "source": [
        "model = keras.Sequential()\n",
        "model.add(keras.layers.Dense(32, activation=\"sigmoid\", input_shape=(28*28,)))\n",
        "model.add(keras.layers.Dense(32, activation=\"sigmoid\"))\n",
        "model.add(keras.layers.Dense(10, activation=\"sigmoid\"))"
      ],
      "execution_count": 181,
      "outputs": []
    },
    {
      "cell_type": "markdown",
      "metadata": {
        "id": "-9VWPnAlNM17"
      },
      "source": [
        "모델구조 #보기"
      ]
    },
    {
      "cell_type": "code",
      "metadata": {
        "id": "uuoRRK3tNWej"
      },
      "source": [
        "model.compile(optimizer=keras.optimizers.SGD(learning_rate=0.1), loss=\"categorical_crossentropy\", metrics=['accuracy'])"
      ],
      "execution_count": 182,
      "outputs": []
    },
    {
      "cell_type": "markdown",
      "metadata": {
        "id": "Tmnw3IsqyYfc"
      },
      "source": [
        "#모델구성요소 컴파일 및 구조보기\n",
        "<br>파라메터 숫자: \n",
        "<br>dense_3: (28x28) x 32+32(bias) = 25120\n",
        "<br>dense_4: 32x32+32(bias) = 1056\n",
        "<br>dense_5: 32x10+10(bias) = 30"
      ]
    },
    {
      "cell_type": "code",
      "metadata": {
        "id": "6fpe0OuhyXW7",
        "colab": {
          "base_uri": "https://localhost:8080/"
        },
        "outputId": "1cce658a-4b8a-4dad-dce9-c94a3a3d7321"
      },
      "source": [
        "model.summary()"
      ],
      "execution_count": 183,
      "outputs": [
        {
          "output_type": "stream",
          "text": [
            "Model: \"sequential_12\"\n",
            "_________________________________________________________________\n",
            "Layer (type)                 Output Shape              Param #   \n",
            "=================================================================\n",
            "dense_33 (Dense)             (None, 32)                25120     \n",
            "_________________________________________________________________\n",
            "dense_34 (Dense)             (None, 32)                1056      \n",
            "_________________________________________________________________\n",
            "dense_35 (Dense)             (None, 10)                330       \n",
            "=================================================================\n",
            "Total params: 26,506\n",
            "Trainable params: 26,506\n",
            "Non-trainable params: 0\n",
            "_________________________________________________________________\n"
          ],
          "name": "stdout"
        }
      ]
    },
    {
      "cell_type": "markdown",
      "metadata": {
        "id": "O2_lwPmly8bG"
      },
      "source": [
        "#모델 훈련\n"
      ]
    },
    {
      "cell_type": "code",
      "metadata": {
        "id": "DBBANgGMyy-f",
        "colab": {
          "base_uri": "https://localhost:8080/"
        },
        "outputId": "f311ea88-fbfd-4c1c-bd80-2d4001c868ac"
      },
      "source": [
        "hist=model.fit(x=x_train, y=y_train, batch_size=1000, epochs=100, validation_data=(x_val, y_val))"
      ],
      "execution_count": 184,
      "outputs": [
        {
          "output_type": "stream",
          "text": [
            "Epoch 1/100\n",
            "50/50 [==============================] - 1s 12ms/step - loss: 2.2641 - accuracy: 0.2435 - val_loss: 1.9428 - val_accuracy: 0.6548\n",
            "Epoch 2/100\n",
            "50/50 [==============================] - 0s 9ms/step - loss: 1.8906 - accuracy: 0.6356 - val_loss: 1.6433 - val_accuracy: 0.7486\n",
            "Epoch 3/100\n",
            "50/50 [==============================] - 0s 9ms/step - loss: 1.6094 - accuracy: 0.7078 - val_loss: 1.3673 - val_accuracy: 0.7932\n",
            "Epoch 4/100\n",
            "50/50 [==============================] - 0s 9ms/step - loss: 1.3533 - accuracy: 0.7579 - val_loss: 1.1339 - val_accuracy: 0.8366\n",
            "Epoch 5/100\n",
            "50/50 [==============================] - 0s 9ms/step - loss: 1.1452 - accuracy: 0.7972 - val_loss: 0.9590 - val_accuracy: 0.8624\n",
            "Epoch 6/100\n",
            "50/50 [==============================] - 0s 9ms/step - loss: 0.9872 - accuracy: 0.8219 - val_loss: 0.8172 - val_accuracy: 0.8780\n",
            "Epoch 7/100\n",
            "50/50 [==============================] - 0s 9ms/step - loss: 0.8635 - accuracy: 0.8393 - val_loss: 0.7110 - val_accuracy: 0.8948\n",
            "Epoch 8/100\n",
            "50/50 [==============================] - 0s 9ms/step - loss: 0.7640 - accuracy: 0.8529 - val_loss: 0.6252 - val_accuracy: 0.9028\n",
            "Epoch 9/100\n",
            "50/50 [==============================] - 0s 9ms/step - loss: 0.6902 - accuracy: 0.8626 - val_loss: 0.5695 - val_accuracy: 0.9092\n",
            "Epoch 10/100\n",
            "50/50 [==============================] - 0s 9ms/step - loss: 0.6314 - accuracy: 0.8689 - val_loss: 0.5212 - val_accuracy: 0.9066\n",
            "Epoch 11/100\n",
            "50/50 [==============================] - 0s 8ms/step - loss: 0.5842 - accuracy: 0.8751 - val_loss: 0.4775 - val_accuracy: 0.9136\n",
            "Epoch 12/100\n",
            "50/50 [==============================] - 0s 9ms/step - loss: 0.5519 - accuracy: 0.8785 - val_loss: 0.4574 - val_accuracy: 0.9122\n",
            "Epoch 13/100\n",
            "50/50 [==============================] - 0s 9ms/step - loss: 0.5252 - accuracy: 0.8796 - val_loss: 0.4213 - val_accuracy: 0.9158\n",
            "Epoch 14/100\n",
            "50/50 [==============================] - 0s 9ms/step - loss: 0.4998 - accuracy: 0.8830 - val_loss: 0.4023 - val_accuracy: 0.9210\n",
            "Epoch 15/100\n",
            "50/50 [==============================] - 0s 9ms/step - loss: 0.4728 - accuracy: 0.8866 - val_loss: 0.3809 - val_accuracy: 0.9190\n",
            "Epoch 16/100\n",
            "50/50 [==============================] - 0s 9ms/step - loss: 0.4563 - accuracy: 0.8894 - val_loss: 0.3669 - val_accuracy: 0.9212\n",
            "Epoch 17/100\n",
            "50/50 [==============================] - 0s 9ms/step - loss: 0.4448 - accuracy: 0.8912 - val_loss: 0.3529 - val_accuracy: 0.9240\n",
            "Epoch 18/100\n",
            "50/50 [==============================] - 0s 9ms/step - loss: 0.4220 - accuracy: 0.8965 - val_loss: 0.3410 - val_accuracy: 0.9240\n",
            "Epoch 19/100\n",
            "50/50 [==============================] - 0s 9ms/step - loss: 0.4187 - accuracy: 0.8963 - val_loss: 0.3285 - val_accuracy: 0.9296\n",
            "Epoch 20/100\n",
            "50/50 [==============================] - 0s 9ms/step - loss: 0.3982 - accuracy: 0.8997 - val_loss: 0.3243 - val_accuracy: 0.9232\n",
            "Epoch 21/100\n",
            "50/50 [==============================] - 0s 9ms/step - loss: 0.3904 - accuracy: 0.9000 - val_loss: 0.3117 - val_accuracy: 0.9276\n",
            "Epoch 22/100\n",
            "50/50 [==============================] - 0s 9ms/step - loss: 0.3845 - accuracy: 0.9010 - val_loss: 0.3017 - val_accuracy: 0.9274\n",
            "Epoch 23/100\n",
            "50/50 [==============================] - 0s 9ms/step - loss: 0.3750 - accuracy: 0.9034 - val_loss: 0.3050 - val_accuracy: 0.9278\n",
            "Epoch 24/100\n",
            "50/50 [==============================] - 0s 9ms/step - loss: 0.3681 - accuracy: 0.9053 - val_loss: 0.2970 - val_accuracy: 0.9252\n",
            "Epoch 25/100\n",
            "50/50 [==============================] - 0s 9ms/step - loss: 0.3630 - accuracy: 0.9060 - val_loss: 0.2804 - val_accuracy: 0.9348\n",
            "Epoch 26/100\n",
            "50/50 [==============================] - 0s 9ms/step - loss: 0.3536 - accuracy: 0.9062 - val_loss: 0.2779 - val_accuracy: 0.9338\n",
            "Epoch 27/100\n",
            "50/50 [==============================] - 0s 9ms/step - loss: 0.3491 - accuracy: 0.9079 - val_loss: 0.2657 - val_accuracy: 0.9356\n",
            "Epoch 28/100\n",
            "50/50 [==============================] - 0s 9ms/step - loss: 0.3330 - accuracy: 0.9114 - val_loss: 0.2919 - val_accuracy: 0.9302\n",
            "Epoch 29/100\n",
            "50/50 [==============================] - 0s 9ms/step - loss: 0.3374 - accuracy: 0.9120 - val_loss: 0.2623 - val_accuracy: 0.9340\n",
            "Epoch 30/100\n",
            "50/50 [==============================] - 0s 9ms/step - loss: 0.3442 - accuracy: 0.9070 - val_loss: 0.2602 - val_accuracy: 0.9344\n",
            "Epoch 31/100\n",
            "50/50 [==============================] - 0s 9ms/step - loss: 0.3229 - accuracy: 0.9152 - val_loss: 0.2475 - val_accuracy: 0.9386\n",
            "Epoch 32/100\n",
            "50/50 [==============================] - 0s 9ms/step - loss: 0.3165 - accuracy: 0.9146 - val_loss: 0.2616 - val_accuracy: 0.9342\n",
            "Epoch 33/100\n",
            "50/50 [==============================] - 0s 9ms/step - loss: 0.3144 - accuracy: 0.9169 - val_loss: 0.2525 - val_accuracy: 0.9348\n",
            "Epoch 34/100\n",
            "50/50 [==============================] - 0s 9ms/step - loss: 0.3060 - accuracy: 0.9178 - val_loss: 0.2533 - val_accuracy: 0.9392\n",
            "Epoch 35/100\n",
            "50/50 [==============================] - 0s 9ms/step - loss: 0.3085 - accuracy: 0.9168 - val_loss: 0.2429 - val_accuracy: 0.9386\n",
            "Epoch 36/100\n",
            "50/50 [==============================] - 0s 8ms/step - loss: 0.3034 - accuracy: 0.9170 - val_loss: 0.2412 - val_accuracy: 0.9424\n",
            "Epoch 37/100\n",
            "50/50 [==============================] - 0s 9ms/step - loss: 0.2966 - accuracy: 0.9199 - val_loss: 0.2398 - val_accuracy: 0.9422\n",
            "Epoch 38/100\n",
            "50/50 [==============================] - 0s 9ms/step - loss: 0.2940 - accuracy: 0.9184 - val_loss: 0.2376 - val_accuracy: 0.9410\n",
            "Epoch 39/100\n",
            "50/50 [==============================] - 0s 9ms/step - loss: 0.2937 - accuracy: 0.9194 - val_loss: 0.2408 - val_accuracy: 0.9368\n",
            "Epoch 40/100\n",
            "50/50 [==============================] - 0s 9ms/step - loss: 0.2921 - accuracy: 0.9216 - val_loss: 0.2302 - val_accuracy: 0.9448\n",
            "Epoch 41/100\n",
            "50/50 [==============================] - 0s 9ms/step - loss: 0.2862 - accuracy: 0.9212 - val_loss: 0.2217 - val_accuracy: 0.9416\n",
            "Epoch 42/100\n",
            "50/50 [==============================] - 0s 9ms/step - loss: 0.2794 - accuracy: 0.9229 - val_loss: 0.2282 - val_accuracy: 0.9408\n",
            "Epoch 43/100\n",
            "50/50 [==============================] - 0s 9ms/step - loss: 0.2859 - accuracy: 0.9207 - val_loss: 0.2299 - val_accuracy: 0.9416\n",
            "Epoch 44/100\n",
            "50/50 [==============================] - 0s 9ms/step - loss: 0.2829 - accuracy: 0.9193 - val_loss: 0.2282 - val_accuracy: 0.9410\n",
            "Epoch 45/100\n",
            "50/50 [==============================] - 0s 9ms/step - loss: 0.2787 - accuracy: 0.9213 - val_loss: 0.2322 - val_accuracy: 0.9382\n",
            "Epoch 46/100\n",
            "50/50 [==============================] - 0s 9ms/step - loss: 0.2826 - accuracy: 0.9205 - val_loss: 0.2425 - val_accuracy: 0.9340\n",
            "Epoch 47/100\n",
            "50/50 [==============================] - 1s 14ms/step - loss: 0.2820 - accuracy: 0.9203 - val_loss: 0.2172 - val_accuracy: 0.9440\n",
            "Epoch 48/100\n",
            "50/50 [==============================] - 0s 9ms/step - loss: 0.2684 - accuracy: 0.9250 - val_loss: 0.2256 - val_accuracy: 0.9420\n",
            "Epoch 49/100\n",
            "50/50 [==============================] - 0s 9ms/step - loss: 0.2767 - accuracy: 0.9220 - val_loss: 0.2192 - val_accuracy: 0.9426\n",
            "Epoch 50/100\n",
            "50/50 [==============================] - 0s 9ms/step - loss: 0.2759 - accuracy: 0.9235 - val_loss: 0.2196 - val_accuracy: 0.9428\n",
            "Epoch 51/100\n",
            "50/50 [==============================] - 0s 9ms/step - loss: 0.2633 - accuracy: 0.9265 - val_loss: 0.2249 - val_accuracy: 0.9384\n",
            "Epoch 52/100\n",
            "50/50 [==============================] - 0s 9ms/step - loss: 0.2640 - accuracy: 0.9243 - val_loss: 0.2073 - val_accuracy: 0.9458\n",
            "Epoch 53/100\n",
            "50/50 [==============================] - 0s 9ms/step - loss: 0.2516 - accuracy: 0.9280 - val_loss: 0.2038 - val_accuracy: 0.9490\n",
            "Epoch 54/100\n",
            "50/50 [==============================] - 0s 9ms/step - loss: 0.2528 - accuracy: 0.9285 - val_loss: 0.2135 - val_accuracy: 0.9416\n",
            "Epoch 55/100\n",
            "50/50 [==============================] - 0s 9ms/step - loss: 0.2544 - accuracy: 0.9279 - val_loss: 0.2026 - val_accuracy: 0.9466\n",
            "Epoch 56/100\n",
            "50/50 [==============================] - 0s 9ms/step - loss: 0.2490 - accuracy: 0.9310 - val_loss: 0.2040 - val_accuracy: 0.9446\n",
            "Epoch 57/100\n",
            "50/50 [==============================] - 0s 9ms/step - loss: 0.2599 - accuracy: 0.9261 - val_loss: 0.1982 - val_accuracy: 0.9482\n",
            "Epoch 58/100\n",
            "50/50 [==============================] - 0s 9ms/step - loss: 0.2436 - accuracy: 0.9316 - val_loss: 0.2102 - val_accuracy: 0.9414\n",
            "Epoch 59/100\n",
            "50/50 [==============================] - 0s 9ms/step - loss: 0.2529 - accuracy: 0.9280 - val_loss: 0.2101 - val_accuracy: 0.9450\n",
            "Epoch 60/100\n",
            "50/50 [==============================] - 0s 9ms/step - loss: 0.2507 - accuracy: 0.9300 - val_loss: 0.1961 - val_accuracy: 0.9450\n",
            "Epoch 61/100\n",
            "50/50 [==============================] - 0s 8ms/step - loss: 0.2478 - accuracy: 0.9305 - val_loss: 0.2044 - val_accuracy: 0.9456\n",
            "Epoch 62/100\n",
            "50/50 [==============================] - 0s 9ms/step - loss: 0.2510 - accuracy: 0.9292 - val_loss: 0.1950 - val_accuracy: 0.9464\n",
            "Epoch 63/100\n",
            "50/50 [==============================] - 0s 9ms/step - loss: 0.2459 - accuracy: 0.9315 - val_loss: 0.1882 - val_accuracy: 0.9500\n",
            "Epoch 64/100\n",
            "50/50 [==============================] - 0s 9ms/step - loss: 0.2412 - accuracy: 0.9314 - val_loss: 0.1873 - val_accuracy: 0.9488\n",
            "Epoch 65/100\n",
            "50/50 [==============================] - 0s 9ms/step - loss: 0.2434 - accuracy: 0.9305 - val_loss: 0.1891 - val_accuracy: 0.9474\n",
            "Epoch 66/100\n",
            "50/50 [==============================] - 0s 9ms/step - loss: 0.2442 - accuracy: 0.9305 - val_loss: 0.1923 - val_accuracy: 0.9460\n",
            "Epoch 67/100\n",
            "50/50 [==============================] - 0s 9ms/step - loss: 0.2312 - accuracy: 0.9325 - val_loss: 0.1862 - val_accuracy: 0.9506\n",
            "Epoch 68/100\n",
            "50/50 [==============================] - 0s 9ms/step - loss: 0.2333 - accuracy: 0.9336 - val_loss: 0.2035 - val_accuracy: 0.9432\n",
            "Epoch 69/100\n",
            "50/50 [==============================] - 0s 9ms/step - loss: 0.2315 - accuracy: 0.9344 - val_loss: 0.2002 - val_accuracy: 0.9458\n",
            "Epoch 70/100\n",
            "50/50 [==============================] - 0s 9ms/step - loss: 0.2403 - accuracy: 0.9312 - val_loss: 0.1872 - val_accuracy: 0.9490\n",
            "Epoch 71/100\n",
            "50/50 [==============================] - 0s 10ms/step - loss: 0.2321 - accuracy: 0.9352 - val_loss: 0.1798 - val_accuracy: 0.9508\n",
            "Epoch 72/100\n",
            "50/50 [==============================] - 0s 9ms/step - loss: 0.2252 - accuracy: 0.9355 - val_loss: 0.1956 - val_accuracy: 0.9462\n",
            "Epoch 73/100\n",
            "50/50 [==============================] - 0s 9ms/step - loss: 0.2286 - accuracy: 0.9333 - val_loss: 0.1937 - val_accuracy: 0.9486\n",
            "Epoch 74/100\n",
            "50/50 [==============================] - 0s 10ms/step - loss: 0.2294 - accuracy: 0.9350 - val_loss: 0.1828 - val_accuracy: 0.9508\n",
            "Epoch 75/100\n",
            "50/50 [==============================] - 1s 10ms/step - loss: 0.2186 - accuracy: 0.9382 - val_loss: 0.1733 - val_accuracy: 0.9526\n",
            "Epoch 76/100\n",
            "50/50 [==============================] - 0s 10ms/step - loss: 0.2206 - accuracy: 0.9359 - val_loss: 0.1817 - val_accuracy: 0.9506\n",
            "Epoch 77/100\n",
            "50/50 [==============================] - 0s 9ms/step - loss: 0.2235 - accuracy: 0.9351 - val_loss: 0.1833 - val_accuracy: 0.9524\n",
            "Epoch 78/100\n",
            "50/50 [==============================] - 0s 9ms/step - loss: 0.2262 - accuracy: 0.9336 - val_loss: 0.1882 - val_accuracy: 0.9476\n",
            "Epoch 79/100\n",
            "50/50 [==============================] - 0s 9ms/step - loss: 0.2308 - accuracy: 0.9354 - val_loss: 0.1851 - val_accuracy: 0.9500\n",
            "Epoch 80/100\n",
            "50/50 [==============================] - 0s 9ms/step - loss: 0.2245 - accuracy: 0.9366 - val_loss: 0.1777 - val_accuracy: 0.9516\n",
            "Epoch 81/100\n",
            "50/50 [==============================] - 0s 9ms/step - loss: 0.2233 - accuracy: 0.9364 - val_loss: 0.1793 - val_accuracy: 0.9534\n",
            "Epoch 82/100\n",
            "50/50 [==============================] - 0s 9ms/step - loss: 0.2219 - accuracy: 0.9361 - val_loss: 0.1852 - val_accuracy: 0.9492\n",
            "Epoch 83/100\n",
            "50/50 [==============================] - 1s 16ms/step - loss: 0.2213 - accuracy: 0.9354 - val_loss: 0.1732 - val_accuracy: 0.9502\n",
            "Epoch 84/100\n",
            "50/50 [==============================] - 1s 16ms/step - loss: 0.2218 - accuracy: 0.9355 - val_loss: 0.1808 - val_accuracy: 0.9516\n",
            "Epoch 85/100\n",
            "50/50 [==============================] - 1s 18ms/step - loss: 0.2143 - accuracy: 0.9381 - val_loss: 0.1889 - val_accuracy: 0.9498\n",
            "Epoch 86/100\n",
            "50/50 [==============================] - 1s 17ms/step - loss: 0.2209 - accuracy: 0.9356 - val_loss: 0.1823 - val_accuracy: 0.9490\n",
            "Epoch 87/100\n",
            "50/50 [==============================] - 1s 17ms/step - loss: 0.2153 - accuracy: 0.9363 - val_loss: 0.1797 - val_accuracy: 0.9508\n",
            "Epoch 88/100\n",
            "50/50 [==============================] - 1s 16ms/step - loss: 0.2195 - accuracy: 0.9369 - val_loss: 0.1683 - val_accuracy: 0.9550\n",
            "Epoch 89/100\n",
            "50/50 [==============================] - 1s 15ms/step - loss: 0.2166 - accuracy: 0.9381 - val_loss: 0.1846 - val_accuracy: 0.9484\n",
            "Epoch 90/100\n",
            "50/50 [==============================] - 0s 9ms/step - loss: 0.2158 - accuracy: 0.9363 - val_loss: 0.1679 - val_accuracy: 0.9536\n",
            "Epoch 91/100\n",
            "50/50 [==============================] - 0s 9ms/step - loss: 0.2135 - accuracy: 0.9392 - val_loss: 0.1819 - val_accuracy: 0.9520\n",
            "Epoch 92/100\n",
            "50/50 [==============================] - 0s 9ms/step - loss: 0.2116 - accuracy: 0.9398 - val_loss: 0.1793 - val_accuracy: 0.9530\n",
            "Epoch 93/100\n",
            "50/50 [==============================] - 0s 9ms/step - loss: 0.2149 - accuracy: 0.9384 - val_loss: 0.1743 - val_accuracy: 0.9520\n",
            "Epoch 94/100\n",
            "50/50 [==============================] - 0s 9ms/step - loss: 0.2142 - accuracy: 0.9388 - val_loss: 0.1782 - val_accuracy: 0.9506\n",
            "Epoch 95/100\n",
            "50/50 [==============================] - 0s 9ms/step - loss: 0.2159 - accuracy: 0.9361 - val_loss: 0.1715 - val_accuracy: 0.9506\n",
            "Epoch 96/100\n",
            "50/50 [==============================] - 0s 9ms/step - loss: 0.2067 - accuracy: 0.9404 - val_loss: 0.1770 - val_accuracy: 0.9494\n",
            "Epoch 97/100\n",
            "50/50 [==============================] - 0s 9ms/step - loss: 0.2090 - accuracy: 0.9383 - val_loss: 0.1679 - val_accuracy: 0.9552\n",
            "Epoch 98/100\n",
            "50/50 [==============================] - 0s 9ms/step - loss: 0.2075 - accuracy: 0.9407 - val_loss: 0.1570 - val_accuracy: 0.9568\n",
            "Epoch 99/100\n",
            "50/50 [==============================] - 0s 9ms/step - loss: 0.2015 - accuracy: 0.9409 - val_loss: 0.1545 - val_accuracy: 0.9570\n",
            "Epoch 100/100\n",
            "50/50 [==============================] - 0s 10ms/step - loss: 0.1986 - accuracy: 0.9436 - val_loss: 0.1635 - val_accuracy: 0.9536\n"
          ],
          "name": "stdout"
        }
      ]
    },
    {
      "cell_type": "markdown",
      "metadata": {
        "id": "oWCAm0xgzmkE"
      },
      "source": [
        "#생성된 모델을 이용한 추론(평가, 예측)\n"
      ]
    },
    {
      "cell_type": "code",
      "metadata": {
        "id": "GnxTP2eMzRxb",
        "colab": {
          "base_uri": "https://localhost:8080/"
        },
        "outputId": "f93bc690-dd01-41f4-b8cb-e1f5e62261f1"
      },
      "source": [
        "model.evaluate(x_test, y_test )"
      ],
      "execution_count": 185,
      "outputs": [
        {
          "output_type": "stream",
          "text": [
            "157/157 [==============================] - 0s 1ms/step - loss: 0.2719 - accuracy: 0.9176\n"
          ],
          "name": "stdout"
        },
        {
          "output_type": "execute_result",
          "data": {
            "text/plain": [
              "[0.27187010645866394, 0.9175999760627747]"
            ]
          },
          "metadata": {
            "tags": []
          },
          "execution_count": 185
        }
      ]
    },
    {
      "cell_type": "markdown",
      "metadata": {
        "id": "_uANcounvIun"
      },
      "source": [
        "#모델 수행 히스토리 그래프보기"
      ]
    },
    {
      "cell_type": "code",
      "metadata": {
        "id": "SCBbM_KBMDjO",
        "colab": {
          "base_uri": "https://localhost:8080/",
          "height": 265
        },
        "outputId": "5c6442d7-cb81-4a39-b450-2978797ac6ab"
      },
      "source": [
        "import matplotlib\n",
        "import matplotlib.pyplot as plt\n",
        "\n",
        "fig, loss_ax =  plt.subplots()\n",
        "acc_ax = loss_ax.twinx()\n",
        "\n",
        "loss_ax.plot(hist.history['loss'], 'y', label='loss')\n",
        "#loss_ax.plot(hist.history['val_loss'], 'g', label='validation loss')\n",
        "acc_ax.plot(hist.history['accuracy'], 'b', label='accuracy')\n",
        "#acc_ax.plot(hist.history['val_accuracy'], 'r', label='validation accuracy')\n",
        "\n",
        "plt.legend(['loss', 'accuracy'])\n",
        "#plt.legend(['train loss', 'train accuracy', 'validation loss', 'validation accuracy'])\n",
        "plt.show()"
      ],
      "execution_count": 186,
      "outputs": [
        {
          "output_type": "display_data",
          "data": {
            "image/png": "[encoded data removed]",
            "text/plain": [
              "<Figure size 432x288 with 2 Axes>"
            ]
          },
          "metadata": {
            "tags": [],
            "needs_background": "light"
          }
        }
      ]
    },
    {
      "cell_type": "markdown",
      "metadata": {
        "id": "kmWHScXJQgSE"
      },
      "source": [
        "#모델 바이러리(Weight) 저장"
      ]
    },
    {
      "cell_type": "code",
      "metadata": {
        "id": "t44H7KrIQoQe"
      },
      "source": [
        "model.save(\"MNIST-Keras-101-Pre_trained.h5\")\n",
        "model.save_weights(\"MNIST-Keras-101-Pre_trained_weights\")"
      ],
      "execution_count": 187,
      "outputs": []
    },
    {
      "cell_type": "markdown",
      "metadata": {
        "id": "UOQQwtFmRMoJ"
      },
      "source": [
        "#저장된 모델 로드\n"
      ]
    },
    {
      "cell_type": "code",
      "metadata": {
        "colab": {
          "base_uri": "https://localhost:8080/"
        },
        "id": "4cWH_rcCRP7A",
        "outputId": "3995f81b-f5b3-4bc5-c81e-41d9e6d96692"
      },
      "source": [
        "\n",
        "ts_model = load_model(\"MNIST-Keras-101-Pre_trained.h5\")\n",
        "ts_model.summary()"
      ],
      "execution_count": 188,
      "outputs": [
        {
          "output_type": "stream",
          "text": [
            "Model: \"sequential_12\"\n",
            "_________________________________________________________________\n",
            "Layer (type)                 Output Shape              Param #   \n",
            "=================================================================\n",
            "dense_33 (Dense)             (None, 32)                25120     \n",
            "_________________________________________________________________\n",
            "dense_34 (Dense)             (None, 32)                1056      \n",
            "_________________________________________________________________\n",
            "dense_35 (Dense)             (None, 10)                330       \n",
            "=================================================================\n",
            "Total params: 26,506\n",
            "Trainable params: 26,506\n",
            "Non-trainable params: 0\n",
            "_________________________________________________________________\n"
          ],
          "name": "stdout"
        }
      ]
    },
    {
      "cell_type": "markdown",
      "metadata": {
        "id": "gum-itSIRQX9"
      },
      "source": [
        "#로드된 모델에 새로운 데이타 Re-Training(Transfer Learning)\n"
      ]
    },
    {
      "cell_type": "code",
      "metadata": {
        "colab": {
          "base_uri": "https://localhost:8080/"
        },
        "id": "Za-OTrT4RaSp",
        "outputId": "f55f1653-31e5-4281-9301-8d165957c88e"
      },
      "source": [
        "hist=ts_model.fit(x=tx_train, y=ty_train, batch_size=1000, epochs=100, validation_data=(x_val, y_val))"
      ],
      "execution_count": 189,
      "outputs": [
        {
          "output_type": "stream",
          "text": [
            "Epoch 1/100\n",
            "10/10 [==============================] - 0s 30ms/step - loss: 0.2147 - accuracy: 0.9379 - val_loss: 0.1684 - val_accuracy: 0.9514\n",
            "Epoch 2/100\n",
            "10/10 [==============================] - 0s 16ms/step - loss: 0.2193 - accuracy: 0.9353 - val_loss: 0.1741 - val_accuracy: 0.9516\n",
            "Epoch 3/100\n",
            "10/10 [==============================] - 0s 15ms/step - loss: 0.2135 - accuracy: 0.9371 - val_loss: 0.1749 - val_accuracy: 0.9504\n",
            "Epoch 4/100\n",
            "10/10 [==============================] - 0s 14ms/step - loss: 0.2174 - accuracy: 0.9370 - val_loss: 0.1682 - val_accuracy: 0.9538\n",
            "Epoch 5/100\n",
            "10/10 [==============================] - 0s 15ms/step - loss: 0.2017 - accuracy: 0.9408 - val_loss: 0.1615 - val_accuracy: 0.9564\n",
            "Epoch 6/100\n",
            "10/10 [==============================] - 0s 14ms/step - loss: 0.2006 - accuracy: 0.9410 - val_loss: 0.1681 - val_accuracy: 0.9496\n",
            "Epoch 7/100\n",
            "10/10 [==============================] - 0s 14ms/step - loss: 0.2055 - accuracy: 0.9401 - val_loss: 0.1688 - val_accuracy: 0.9504\n",
            "Epoch 8/100\n",
            "10/10 [==============================] - 0s 14ms/step - loss: 0.1935 - accuracy: 0.9445 - val_loss: 0.1648 - val_accuracy: 0.9552\n",
            "Epoch 9/100\n",
            "10/10 [==============================] - 0s 14ms/step - loss: 0.1935 - accuracy: 0.9456 - val_loss: 0.1571 - val_accuracy: 0.9564\n",
            "Epoch 10/100\n",
            "10/10 [==============================] - 0s 14ms/step - loss: 0.1934 - accuracy: 0.9457 - val_loss: 0.1622 - val_accuracy: 0.9528\n",
            "Epoch 11/100\n",
            "10/10 [==============================] - 0s 13ms/step - loss: 0.1874 - accuracy: 0.9474 - val_loss: 0.1573 - val_accuracy: 0.9532\n",
            "Epoch 12/100\n",
            "10/10 [==============================] - 0s 14ms/step - loss: 0.1906 - accuracy: 0.9451 - val_loss: 0.1579 - val_accuracy: 0.9568\n",
            "Epoch 13/100\n",
            "10/10 [==============================] - 0s 15ms/step - loss: 0.1921 - accuracy: 0.9436 - val_loss: 0.1734 - val_accuracy: 0.9484\n",
            "Epoch 14/100\n",
            "10/10 [==============================] - 0s 14ms/step - loss: 0.1997 - accuracy: 0.9413 - val_loss: 0.1718 - val_accuracy: 0.9506\n",
            "Epoch 15/100\n",
            "10/10 [==============================] - 0s 14ms/step - loss: 0.1950 - accuracy: 0.9432 - val_loss: 0.1629 - val_accuracy: 0.9532\n",
            "Epoch 16/100\n",
            "10/10 [==============================] - 0s 13ms/step - loss: 0.1924 - accuracy: 0.9464 - val_loss: 0.1641 - val_accuracy: 0.9524\n",
            "Epoch 17/100\n",
            "10/10 [==============================] - 0s 14ms/step - loss: 0.1849 - accuracy: 0.9460 - val_loss: 0.1648 - val_accuracy: 0.9548\n",
            "Epoch 18/100\n",
            "10/10 [==============================] - 0s 13ms/step - loss: 0.1826 - accuracy: 0.9484 - val_loss: 0.1715 - val_accuracy: 0.9500\n",
            "Epoch 19/100\n",
            "10/10 [==============================] - 0s 14ms/step - loss: 0.1841 - accuracy: 0.9462 - val_loss: 0.1641 - val_accuracy: 0.9520\n",
            "Epoch 20/100\n",
            "10/10 [==============================] - 0s 14ms/step - loss: 0.1822 - accuracy: 0.9479 - val_loss: 0.1709 - val_accuracy: 0.9484\n",
            "Epoch 21/100\n",
            "10/10 [==============================] - 0s 14ms/step - loss: 0.1814 - accuracy: 0.9467 - val_loss: 0.1648 - val_accuracy: 0.9536\n",
            "Epoch 22/100\n",
            "10/10 [==============================] - 0s 13ms/step - loss: 0.1766 - accuracy: 0.9519 - val_loss: 0.1663 - val_accuracy: 0.9520\n",
            "Epoch 23/100\n",
            "10/10 [==============================] - 0s 14ms/step - loss: 0.1733 - accuracy: 0.9525 - val_loss: 0.1661 - val_accuracy: 0.9534\n",
            "Epoch 24/100\n",
            "10/10 [==============================] - 0s 15ms/step - loss: 0.1742 - accuracy: 0.9509 - val_loss: 0.1616 - val_accuracy: 0.9540\n",
            "Epoch 25/100\n",
            "10/10 [==============================] - 0s 14ms/step - loss: 0.1747 - accuracy: 0.9523 - val_loss: 0.1668 - val_accuracy: 0.9552\n",
            "Epoch 26/100\n",
            "10/10 [==============================] - 0s 14ms/step - loss: 0.1828 - accuracy: 0.9479 - val_loss: 0.1637 - val_accuracy: 0.9556\n",
            "Epoch 27/100\n",
            "10/10 [==============================] - 0s 15ms/step - loss: 0.1706 - accuracy: 0.9520 - val_loss: 0.1633 - val_accuracy: 0.9508\n",
            "Epoch 28/100\n",
            "10/10 [==============================] - 0s 14ms/step - loss: 0.1738 - accuracy: 0.9516 - val_loss: 0.1687 - val_accuracy: 0.9508\n",
            "Epoch 29/100\n",
            "10/10 [==============================] - 0s 13ms/step - loss: 0.1674 - accuracy: 0.9524 - val_loss: 0.1633 - val_accuracy: 0.9516\n",
            "Epoch 30/100\n",
            "10/10 [==============================] - 0s 13ms/step - loss: 0.1737 - accuracy: 0.9497 - val_loss: 0.1512 - val_accuracy: 0.9568\n",
            "Epoch 31/100\n",
            "10/10 [==============================] - 0s 14ms/step - loss: 0.1692 - accuracy: 0.9534 - val_loss: 0.1583 - val_accuracy: 0.9546\n",
            "Epoch 32/100\n",
            "10/10 [==============================] - 0s 14ms/step - loss: 0.1738 - accuracy: 0.9510 - val_loss: 0.1657 - val_accuracy: 0.9536\n",
            "Epoch 33/100\n",
            "10/10 [==============================] - 0s 14ms/step - loss: 0.1638 - accuracy: 0.9535 - val_loss: 0.1556 - val_accuracy: 0.9554\n",
            "Epoch 34/100\n",
            "10/10 [==============================] - 0s 14ms/step - loss: 0.1595 - accuracy: 0.9576 - val_loss: 0.1581 - val_accuracy: 0.9550\n",
            "Epoch 35/100\n",
            "10/10 [==============================] - 0s 15ms/step - loss: 0.1609 - accuracy: 0.9562 - val_loss: 0.1564 - val_accuracy: 0.9572\n",
            "Epoch 36/100\n",
            "10/10 [==============================] - 0s 14ms/step - loss: 0.1611 - accuracy: 0.9567 - val_loss: 0.1585 - val_accuracy: 0.9564\n",
            "Epoch 37/100\n",
            "10/10 [==============================] - 0s 14ms/step - loss: 0.1591 - accuracy: 0.9567 - val_loss: 0.1639 - val_accuracy: 0.9534\n",
            "Epoch 38/100\n",
            "10/10 [==============================] - 0s 13ms/step - loss: 0.1573 - accuracy: 0.9562 - val_loss: 0.1624 - val_accuracy: 0.9556\n",
            "Epoch 39/100\n",
            "10/10 [==============================] - 0s 15ms/step - loss: 0.1632 - accuracy: 0.9544 - val_loss: 0.1658 - val_accuracy: 0.9544\n",
            "Epoch 40/100\n",
            "10/10 [==============================] - 0s 14ms/step - loss: 0.1609 - accuracy: 0.9560 - val_loss: 0.1588 - val_accuracy: 0.9560\n",
            "Epoch 41/100\n",
            "10/10 [==============================] - 0s 13ms/step - loss: 0.1604 - accuracy: 0.9550 - val_loss: 0.1642 - val_accuracy: 0.9536\n",
            "Epoch 42/100\n",
            "10/10 [==============================] - 0s 30ms/step - loss: 0.1654 - accuracy: 0.9545 - val_loss: 0.1664 - val_accuracy: 0.9530\n",
            "Epoch 43/100\n",
            "10/10 [==============================] - 0s 14ms/step - loss: 0.1643 - accuracy: 0.9549 - val_loss: 0.1672 - val_accuracy: 0.9528\n",
            "Epoch 44/100\n",
            "10/10 [==============================] - 0s 14ms/step - loss: 0.1608 - accuracy: 0.9567 - val_loss: 0.1632 - val_accuracy: 0.9556\n",
            "Epoch 45/100\n",
            "10/10 [==============================] - 0s 14ms/step - loss: 0.1572 - accuracy: 0.9565 - val_loss: 0.1712 - val_accuracy: 0.9480\n",
            "Epoch 46/100\n",
            "10/10 [==============================] - 0s 14ms/step - loss: 0.1581 - accuracy: 0.9556 - val_loss: 0.1585 - val_accuracy: 0.9532\n",
            "Epoch 47/100\n",
            "10/10 [==============================] - 0s 14ms/step - loss: 0.1519 - accuracy: 0.9583 - val_loss: 0.1545 - val_accuracy: 0.9574\n",
            "Epoch 48/100\n",
            "10/10 [==============================] - 0s 14ms/step - loss: 0.1552 - accuracy: 0.9581 - val_loss: 0.1597 - val_accuracy: 0.9538\n",
            "Epoch 49/100\n",
            "10/10 [==============================] - 0s 14ms/step - loss: 0.1524 - accuracy: 0.9577 - val_loss: 0.1584 - val_accuracy: 0.9548\n",
            "Epoch 50/100\n",
            "10/10 [==============================] - 0s 15ms/step - loss: 0.1509 - accuracy: 0.9590 - val_loss: 0.1503 - val_accuracy: 0.9546\n",
            "Epoch 51/100\n",
            "10/10 [==============================] - 0s 13ms/step - loss: 0.1507 - accuracy: 0.9577 - val_loss: 0.1538 - val_accuracy: 0.9544\n",
            "Epoch 52/100\n",
            "10/10 [==============================] - 0s 14ms/step - loss: 0.1458 - accuracy: 0.9603 - val_loss: 0.1537 - val_accuracy: 0.9542\n",
            "Epoch 53/100\n",
            "10/10 [==============================] - 0s 14ms/step - loss: 0.1451 - accuracy: 0.9611 - val_loss: 0.1561 - val_accuracy: 0.9554\n",
            "Epoch 54/100\n",
            "10/10 [==============================] - 0s 14ms/step - loss: 0.1430 - accuracy: 0.9615 - val_loss: 0.1534 - val_accuracy: 0.9578\n",
            "Epoch 55/100\n",
            "10/10 [==============================] - 0s 14ms/step - loss: 0.1464 - accuracy: 0.9605 - val_loss: 0.1588 - val_accuracy: 0.9548\n",
            "Epoch 56/100\n",
            "10/10 [==============================] - 0s 13ms/step - loss: 0.1442 - accuracy: 0.9605 - val_loss: 0.1574 - val_accuracy: 0.9566\n",
            "Epoch 57/100\n",
            "10/10 [==============================] - 0s 14ms/step - loss: 0.1449 - accuracy: 0.9597 - val_loss: 0.1540 - val_accuracy: 0.9566\n",
            "Epoch 58/100\n",
            "10/10 [==============================] - 0s 13ms/step - loss: 0.1442 - accuracy: 0.9597 - val_loss: 0.1620 - val_accuracy: 0.9528\n",
            "Epoch 59/100\n",
            "10/10 [==============================] - 0s 14ms/step - loss: 0.1437 - accuracy: 0.9596 - val_loss: 0.1611 - val_accuracy: 0.9526\n",
            "Epoch 60/100\n",
            "10/10 [==============================] - 0s 13ms/step - loss: 0.1451 - accuracy: 0.9594 - val_loss: 0.1585 - val_accuracy: 0.9568\n",
            "Epoch 61/100\n",
            "10/10 [==============================] - 0s 13ms/step - loss: 0.1449 - accuracy: 0.9597 - val_loss: 0.1563 - val_accuracy: 0.9548\n",
            "Epoch 62/100\n",
            "10/10 [==============================] - 0s 15ms/step - loss: 0.1485 - accuracy: 0.9578 - val_loss: 0.1672 - val_accuracy: 0.9522\n",
            "Epoch 63/100\n",
            "10/10 [==============================] - 0s 15ms/step - loss: 0.1432 - accuracy: 0.9597 - val_loss: 0.1583 - val_accuracy: 0.9542\n",
            "Epoch 64/100\n",
            "10/10 [==============================] - 0s 13ms/step - loss: 0.1396 - accuracy: 0.9624 - val_loss: 0.1557 - val_accuracy: 0.9540\n",
            "Epoch 65/100\n",
            "10/10 [==============================] - 0s 13ms/step - loss: 0.1378 - accuracy: 0.9620 - val_loss: 0.1561 - val_accuracy: 0.9540\n",
            "Epoch 66/100\n",
            "10/10 [==============================] - 0s 13ms/step - loss: 0.1377 - accuracy: 0.9627 - val_loss: 0.1596 - val_accuracy: 0.9544\n",
            "Epoch 67/100\n",
            "10/10 [==============================] - 0s 15ms/step - loss: 0.1422 - accuracy: 0.9609 - val_loss: 0.1589 - val_accuracy: 0.9522\n",
            "Epoch 68/100\n",
            "10/10 [==============================] - 0s 14ms/step - loss: 0.1387 - accuracy: 0.9612 - val_loss: 0.1557 - val_accuracy: 0.9552\n",
            "Epoch 69/100\n",
            "10/10 [==============================] - 0s 14ms/step - loss: 0.1373 - accuracy: 0.9615 - val_loss: 0.1586 - val_accuracy: 0.9534\n",
            "Epoch 70/100\n",
            "10/10 [==============================] - 0s 15ms/step - loss: 0.1351 - accuracy: 0.9627 - val_loss: 0.1542 - val_accuracy: 0.9542\n",
            "Epoch 71/100\n",
            "10/10 [==============================] - 0s 13ms/step - loss: 0.1358 - accuracy: 0.9633 - val_loss: 0.1565 - val_accuracy: 0.9538\n",
            "Epoch 72/100\n",
            "10/10 [==============================] - 0s 14ms/step - loss: 0.1425 - accuracy: 0.9607 - val_loss: 0.1552 - val_accuracy: 0.9560\n",
            "Epoch 73/100\n",
            "10/10 [==============================] - 0s 14ms/step - loss: 0.1417 - accuracy: 0.9620 - val_loss: 0.1567 - val_accuracy: 0.9534\n",
            "Epoch 74/100\n",
            "10/10 [==============================] - 0s 15ms/step - loss: 0.1368 - accuracy: 0.9620 - val_loss: 0.1555 - val_accuracy: 0.9552\n",
            "Epoch 75/100\n",
            "10/10 [==============================] - 0s 16ms/step - loss: 0.1312 - accuracy: 0.9641 - val_loss: 0.1518 - val_accuracy: 0.9562\n",
            "Epoch 76/100\n",
            "10/10 [==============================] - 0s 16ms/step - loss: 0.1289 - accuracy: 0.9639 - val_loss: 0.1525 - val_accuracy: 0.9550\n",
            "Epoch 77/100\n",
            "10/10 [==============================] - 0s 15ms/step - loss: 0.1280 - accuracy: 0.9639 - val_loss: 0.1547 - val_accuracy: 0.9526\n",
            "Epoch 78/100\n",
            "10/10 [==============================] - 0s 14ms/step - loss: 0.1276 - accuracy: 0.9652 - val_loss: 0.1575 - val_accuracy: 0.9536\n",
            "Epoch 79/100\n",
            "10/10 [==============================] - 0s 15ms/step - loss: 0.1369 - accuracy: 0.9595 - val_loss: 0.1608 - val_accuracy: 0.9532\n",
            "Epoch 80/100\n",
            "10/10 [==============================] - 0s 14ms/step - loss: 0.1325 - accuracy: 0.9617 - val_loss: 0.1552 - val_accuracy: 0.9546\n",
            "Epoch 81/100\n",
            "10/10 [==============================] - 0s 14ms/step - loss: 0.1310 - accuracy: 0.9644 - val_loss: 0.1540 - val_accuracy: 0.9546\n",
            "Epoch 82/100\n",
            "10/10 [==============================] - 0s 15ms/step - loss: 0.1320 - accuracy: 0.9648 - val_loss: 0.1590 - val_accuracy: 0.9532\n",
            "Epoch 83/100\n",
            "10/10 [==============================] - 0s 14ms/step - loss: 0.1387 - accuracy: 0.9626 - val_loss: 0.1596 - val_accuracy: 0.9526\n",
            "Epoch 84/100\n",
            "10/10 [==============================] - 0s 15ms/step - loss: 0.1343 - accuracy: 0.9639 - val_loss: 0.1569 - val_accuracy: 0.9560\n",
            "Epoch 85/100\n",
            "10/10 [==============================] - 0s 14ms/step - loss: 0.1301 - accuracy: 0.9644 - val_loss: 0.1568 - val_accuracy: 0.9554\n",
            "Epoch 86/100\n",
            "10/10 [==============================] - 0s 14ms/step - loss: 0.1281 - accuracy: 0.9661 - val_loss: 0.1543 - val_accuracy: 0.9534\n",
            "Epoch 87/100\n",
            "10/10 [==============================] - 0s 14ms/step - loss: 0.1251 - accuracy: 0.9657 - val_loss: 0.1551 - val_accuracy: 0.9522\n",
            "Epoch 88/100\n",
            "10/10 [==============================] - 0s 15ms/step - loss: 0.1216 - accuracy: 0.9680 - val_loss: 0.1492 - val_accuracy: 0.9552\n",
            "Epoch 89/100\n",
            "10/10 [==============================] - 0s 15ms/step - loss: 0.1217 - accuracy: 0.9671 - val_loss: 0.1480 - val_accuracy: 0.9558\n",
            "Epoch 90/100\n",
            "10/10 [==============================] - 0s 15ms/step - loss: 0.1189 - accuracy: 0.9679 - val_loss: 0.1491 - val_accuracy: 0.9560\n",
            "Epoch 91/100\n",
            "10/10 [==============================] - 0s 14ms/step - loss: 0.1227 - accuracy: 0.9675 - val_loss: 0.1511 - val_accuracy: 0.9554\n",
            "Epoch 92/100\n",
            "10/10 [==============================] - 0s 14ms/step - loss: 0.1202 - accuracy: 0.9674 - val_loss: 0.1497 - val_accuracy: 0.9546\n",
            "Epoch 93/100\n",
            "10/10 [==============================] - 0s 14ms/step - loss: 0.1154 - accuracy: 0.9689 - val_loss: 0.1523 - val_accuracy: 0.9532\n",
            "Epoch 94/100\n",
            "10/10 [==============================] - 0s 14ms/step - loss: 0.1157 - accuracy: 0.9690 - val_loss: 0.1500 - val_accuracy: 0.9546\n",
            "Epoch 95/100\n",
            "10/10 [==============================] - 0s 14ms/step - loss: 0.1154 - accuracy: 0.9693 - val_loss: 0.1481 - val_accuracy: 0.9552\n",
            "Epoch 96/100\n",
            "10/10 [==============================] - 0s 14ms/step - loss: 0.1175 - accuracy: 0.9675 - val_loss: 0.1534 - val_accuracy: 0.9550\n",
            "Epoch 97/100\n",
            "10/10 [==============================] - 0s 14ms/step - loss: 0.1207 - accuracy: 0.9658 - val_loss: 0.1505 - val_accuracy: 0.9562\n",
            "Epoch 98/100\n",
            "10/10 [==============================] - 0s 15ms/step - loss: 0.1160 - accuracy: 0.9674 - val_loss: 0.1514 - val_accuracy: 0.9574\n",
            "Epoch 99/100\n",
            "10/10 [==============================] - 0s 14ms/step - loss: 0.1189 - accuracy: 0.9667 - val_loss: 0.1502 - val_accuracy: 0.9568\n",
            "Epoch 100/100\n",
            "10/10 [==============================] - 0s 28ms/step - loss: 0.1140 - accuracy: 0.9695 - val_loss: 0.1472 - val_accuracy: 0.9592\n"
          ],
          "name": "stdout"
        }
      ]
    },
    {
      "cell_type": "code",
      "metadata": {
        "colab": {
          "base_uri": "https://localhost:8080/"
        },
        "id": "kctpWPoVVdfT",
        "outputId": "90c5bf89-b8a4-48c4-a7fa-06d94c85924d"
      },
      "source": [
        "ts_model.evaluate(x_test, y_test)"
      ],
      "execution_count": 190,
      "outputs": [
        {
          "output_type": "stream",
          "text": [
            "157/157 [==============================] - 0s 2ms/step - loss: 0.2554 - accuracy: 0.9210\n"
          ],
          "name": "stdout"
        },
        {
          "output_type": "execute_result",
          "data": {
            "text/plain": [
              "[0.2554292380809784, 0.9210000038146973]"
            ]
          },
          "metadata": {
            "tags": []
          },
          "execution_count": 190
        }
      ]
    },
    {
      "cell_type": "code",
      "metadata": {
        "id": "aKfJLRG0XFJm"
      },
      "source": [
        "model.save(\"MNIST-Keras-101-Transfer_learned.h5\")\n",
        "model.save_weights(\"MNIST-Keras-101-Transfer_learned_weights\")"
      ],
      "execution_count": 191,
      "outputs": []
    }
  ]
}