{
  "nbformat": 4,
  "nbformat_minor": 0,
  "metadata": {
    "colab": {
      "name": "MNIST-Keras-101-Sample-JSH.ipynb",
      "provenance": [],
      "collapsed_sections": [],
      "authorship_tag": "ABX9TyMNGxNK87l+/f/AXVxJV9gF",
      "include_colab_link": true
    },
    "kernelspec": {
      "name": "python3",
      "display_name": "Python 3"
    }
  },
  "cells": [
    {
      "cell_type": "markdown",
      "metadata": {
        "id": "view-in-github",
        "colab_type": "text"
      },
      "source": [
        "<a href=\"https://colab.research.google.com/github/mkbahk/graphcore-ipu-demo/blob/main/MNIST_Keras_101_Sample_JSH.ipynb\" target=\"_parent\"><img src=\"https://colab.research.google.com/assets/colab-badge.svg\" alt=\"Open In Colab\"/></a>"
      ]
    },
    {
      "cell_type": "markdown",
      "metadata": {
        "id": "c7GMXBHQvU7l"
      },
      "source": [
        "#Module Import"
      ]
    },
    {
      "cell_type": "code",
      "metadata": {
        "id": "57Lmu3UgvJoH"
      },
      "source": [
        "from tensorflow import keras"
      ],
      "execution_count": 132,
      "outputs": []
    },
    {
      "cell_type": "markdown",
      "metadata": {
        "id": "f2o6ghk3vgj3"
      },
      "source": [
        "#Load MNIST DataSet\n"
      ]
    },
    {
      "cell_type": "code",
      "metadata": {
        "id": "UQ-Zd6MFvnP0",
        "colab": {
          "base_uri": "https://localhost:8080/"
        },
        "outputId": "fad6e1d7-26c1-42a5-ce3f-c2bbc3cb33e5"
      },
      "source": [
        "(x_train, y_train), (x_test, y_test) = keras.datasets.mnist.load_data()\n",
        "\n",
        "print(\"# of x_train\", len(x_train))\n",
        "print(\"# of y_train\", len(y_train))\n",
        "print(\"# of x_test\", len(x_test))\n",
        "print(\"# of y_test\", len(y_test))"
      ],
      "execution_count": 133,
      "outputs": [
        {
          "output_type": "stream",
          "text": [
            "# of x_train 60000\n",
            "# of y_train 60000\n",
            "# of x_test 10000\n",
            "# of y_test 10000\n"
          ],
          "name": "stdout"
        }
      ]
    },
    {
      "cell_type": "markdown",
      "metadata": {
        "id": "raERFh4uJque"
      },
      "source": [
        "#Transfer Learning 데모를 위한 Training Set 슬라이싱\n",
        "\n"
      ]
    },
    {
      "cell_type": "code",
      "metadata": {
        "colab": {
          "base_uri": "https://localhost:8080/"
        },
        "id": "WpIloZblJzFw",
        "outputId": "3016dc1f-fc63-40ab-fc45-06bf64e6428b"
      },
      "source": [
        "tx_train = x_train[50000:]\n",
        "ty_train = y_train[50000:]\n",
        "\n",
        "x_train = x_train[0:50000]\n",
        "y_train = y_train[0:50000]\n",
        "\n",
        "print(\"# of x_train\", len(x_train))\n",
        "print(\"# of y_train\", len(y_train))\n",
        "\n",
        "print(\"# of tx_train\", len(tx_train))\n",
        "print(\"# of ty_train\", len(ty_train))"
      ],
      "execution_count": 134,
      "outputs": [
        {
          "output_type": "stream",
          "text": [
            "# of x_train 50000\n",
            "# of y_train 50000\n",
            "# of tx_train 10000\n",
            "# of ty_train 10000\n"
          ],
          "name": "stdout"
        }
      ]
    },
    {
      "cell_type": "markdown",
      "metadata": {
        "id": "cKMIfSetEwYQ"
      },
      "source": [
        "#ValidationSet을 위한 리스트 슬라이싱"
      ]
    },
    {
      "cell_type": "code",
      "metadata": {
        "colab": {
          "base_uri": "https://localhost:8080/"
        },
        "id": "Gzz_2UlcE3Se",
        "outputId": "a0791d91-dcd4-4811-a6fb-4e7d1ce8e9e8"
      },
      "source": [
        "x_val = x_test[5000:]\n",
        "y_val = y_test[5000:]\n",
        "\n",
        "x_test = x_test[0:5000]\n",
        "y_test = y_test[0:5000]\n",
        "\n",
        "print(\"# of x_test\", len(x_test))\n",
        "print(\"# of y_test\", len(y_test))\n",
        "\n",
        "print(\"# of x_val\", len(x_val))\n",
        "print(\"# of y_val\", len(y_val))"
      ],
      "execution_count": 135,
      "outputs": [
        {
          "output_type": "stream",
          "text": [
            "# of x_test 5000\n",
            "# of y_test 5000\n",
            "# of x_val 5000\n",
            "# of y_val 5000\n"
          ],
          "name": "stdout"
        }
      ]
    },
    {
      "cell_type": "code",
      "metadata": {
        "id": "0Tklx1amapQb",
        "colab": {
          "base_uri": "https://localhost:8080/"
        },
        "outputId": "554546c9-26ec-4e34-b509-3b55d0033549"
      },
      "source": [
        "for i in range(5):\n",
        "  print(y_train[i])\n",
        "#end of for"
      ],
      "execution_count": 136,
      "outputs": [
        {
          "output_type": "stream",
          "text": [
            "5\n",
            "0\n",
            "4\n",
            "1\n",
            "9\n"
          ],
          "name": "stdout"
        }
      ]
    },
    {
      "cell_type": "code",
      "metadata": {
        "id": "bjNWl5tCW9lJ",
        "colab": {
          "base_uri": "https://localhost:8080/",
          "height": 1000
        },
        "outputId": "7f33b4c7-5650-4145-c452-f62eeeed3f0c"
      },
      "source": [
        "import matplotlib.pyplot as plt\n",
        "\n",
        "image_index = 1 # You may select anything up to 60,000\n",
        "\n",
        "print(x_train[image_index], \"\\n\\n\") # The label is 0\n",
        "print(x_test[image_index], \"\\n\\n\") # The label is 2\n",
        "\n",
        "print(y_train[image_index], \"\\n\\n\")\n",
        "print(y_test[image_index], \"\\n\\n\")\n",
        "\n",
        "print(\"x_train\", x_train.shape, \"x_test\", x_test.shape, \"리스트(배열,행렬)\\n\\n\")\n",
        "print(\"y_train\", y_train.shape, \"y_test\", y_test.shape, \"리스트(배열,행렬)\\n\\n\")\n",
        "\n",
        "\n",
        "plt.imshow(x_train[image_index], cmap='Greys')\n",
        "\n"
      ],
      "execution_count": 137,
      "outputs": [
        {
          "output_type": "stream",
          "text": [
            "[[  0   0   0   0   0   0   0   0   0   0   0   0   0   0   0   0   0   0\n",
            "    0   0   0   0   0   0   0   0   0   0]\n",
            " [  0   0   0   0   0   0   0   0   0   0   0   0   0   0   0   0   0   0\n",
            "    0   0   0   0   0   0   0   0   0   0]\n",
            " [  0   0   0   0   0   0   0   0   0   0   0   0   0   0   0   0   0   0\n",
            "    0   0   0   0   0   0   0   0   0   0]\n",
            " [  0   0   0   0   0   0   0   0   0   0   0   0   0   0   0   0   0   0\n",
            "    0   0   0   0   0   0   0   0   0   0]\n",
            " [  0   0   0   0   0   0   0   0   0   0   0   0   0   0   0  51 159 253\n",
            "  159  50   0   0   0   0   0   0   0   0]\n",
            " [  0   0   0   0   0   0   0   0   0   0   0   0   0   0  48 238 252 252\n",
            "  252 237   0   0   0   0   0   0   0   0]\n",
            " [  0   0   0   0   0   0   0   0   0   0   0   0   0  54 227 253 252 239\n",
            "  233 252  57   6   0   0   0   0   0   0]\n",
            " [  0   0   0   0   0   0   0   0   0   0   0  10  60 224 252 253 252 202\n",
            "   84 252 253 122   0   0   0   0   0   0]\n",
            " [  0   0   0   0   0   0   0   0   0   0   0 163 252 252 252 253 252 252\n",
            "   96 189 253 167   0   0   0   0   0   0]\n",
            " [  0   0   0   0   0   0   0   0   0   0  51 238 253 253 190 114 253 228\n",
            "   47  79 255 168   0   0   0   0   0   0]\n",
            " [  0   0   0   0   0   0   0   0   0  48 238 252 252 179  12  75 121  21\n",
            "    0   0 253 243  50   0   0   0   0   0]\n",
            " [  0   0   0   0   0   0   0   0  38 165 253 233 208  84   0   0   0   0\n",
            "    0   0 253 252 165   0   0   0   0   0]\n",
            " [  0   0   0   0   0   0   0   7 178 252 240  71  19  28   0   0   0   0\n",
            "    0   0 253 252 195   0   0   0   0   0]\n",
            " [  0   0   0   0   0   0   0  57 252 252  63   0   0   0   0   0   0   0\n",
            "    0   0 253 252 195   0   0   0   0   0]\n",
            " [  0   0   0   0   0   0   0 198 253 190   0   0   0   0   0   0   0   0\n",
            "    0   0 255 253 196   0   0   0   0   0]\n",
            " [  0   0   0   0   0   0  76 246 252 112   0   0   0   0   0   0   0   0\n",
            "    0   0 253 252 148   0   0   0   0   0]\n",
            " [  0   0   0   0   0   0  85 252 230  25   0   0   0   0   0   0   0   0\n",
            "    7 135 253 186  12   0   0   0   0   0]\n",
            " [  0   0   0   0   0   0  85 252 223   0   0   0   0   0   0   0   0   7\n",
            "  131 252 225  71   0   0   0   0   0   0]\n",
            " [  0   0   0   0   0   0  85 252 145   0   0   0   0   0   0   0  48 165\n",
            "  252 173   0   0   0   0   0   0   0   0]\n",
            " [  0   0   0   0   0   0  86 253 225   0   0   0   0   0   0 114 238 253\n",
            "  162   0   0   0   0   0   0   0   0   0]\n",
            " [  0   0   0   0   0   0  85 252 249 146  48  29  85 178 225 253 223 167\n",
            "   56   0   0   0   0   0   0   0   0   0]\n",
            " [  0   0   0   0   0   0  85 252 252 252 229 215 252 252 252 196 130   0\n",
            "    0   0   0   0   0   0   0   0   0   0]\n",
            " [  0   0   0   0   0   0  28 199 252 252 253 252 252 233 145   0   0   0\n",
            "    0   0   0   0   0   0   0   0   0   0]\n",
            " [  0   0   0   0   0   0   0  25 128 252 253 252 141  37   0   0   0   0\n",
            "    0   0   0   0   0   0   0   0   0   0]\n",
            " [  0   0   0   0   0   0   0   0   0   0   0   0   0   0   0   0   0   0\n",
            "    0   0   0   0   0   0   0   0   0   0]\n",
            " [  0   0   0   0   0   0   0   0   0   0   0   0   0   0   0   0   0   0\n",
            "    0   0   0   0   0   0   0   0   0   0]\n",
            " [  0   0   0   0   0   0   0   0   0   0   0   0   0   0   0   0   0   0\n",
            "    0   0   0   0   0   0   0   0   0   0]\n",
            " [  0   0   0   0   0   0   0   0   0   0   0   0   0   0   0   0   0   0\n",
            "    0   0   0   0   0   0   0   0   0   0]] \n",
            "\n",
            "\n",
            "[[  0   0   0   0   0   0   0   0   0   0   0   0   0   0   0   0   0   0\n",
            "    0   0   0   0   0   0   0   0   0   0]\n",
            " [  0   0   0   0   0   0   0   0   0   0   0   0   0   0   0   0   0   0\n",
            "    0   0   0   0   0   0   0   0   0   0]\n",
            " [  0   0   0   0   0   0   0   0   0   0   0   0   0   0   0   0   0   0\n",
            "    0   0   0   0   0   0   0   0   0   0]\n",
            " [  0   0   0   0   0   0   0   0   0   0 116 125 171 255 255 150  93   0\n",
            "    0   0   0   0   0   0   0   0   0   0]\n",
            " [  0   0   0   0   0   0   0   0   0 169 253 253 253 253 253 253 218  30\n",
            "    0   0   0   0   0   0   0   0   0   0]\n",
            " [  0   0   0   0   0   0   0   0 169 253 253 253 213 142 176 253 253 122\n",
            "    0   0   0   0   0   0   0   0   0   0]\n",
            " [  0   0   0   0   0   0   0  52 250 253 210  32  12   0   6 206 253 140\n",
            "    0   0   0   0   0   0   0   0   0   0]\n",
            " [  0   0   0   0   0   0   0  77 251 210  25   0   0   0 122 248 253  65\n",
            "    0   0   0   0   0   0   0   0   0   0]\n",
            " [  0   0   0   0   0   0   0   0  31  18   0   0   0   0 209 253 253  65\n",
            "    0   0   0   0   0   0   0   0   0   0]\n",
            " [  0   0   0   0   0   0   0   0   0   0   0   0   0 117 247 253 198  10\n",
            "    0   0   0   0   0   0   0   0   0   0]\n",
            " [  0   0   0   0   0   0   0   0   0   0   0   0  76 247 253 231  63   0\n",
            "    0   0   0   0   0   0   0   0   0   0]\n",
            " [  0   0   0   0   0   0   0   0   0   0   0   0 128 253 253 144   0   0\n",
            "    0   0   0   0   0   0   0   0   0   0]\n",
            " [  0   0   0   0   0   0   0   0   0   0   0 176 246 253 159  12   0   0\n",
            "    0   0   0   0   0   0   0   0   0   0]\n",
            " [  0   0   0   0   0   0   0   0   0   0  25 234 253 233  35   0   0   0\n",
            "    0   0   0   0   0   0   0   0   0   0]\n",
            " [  0   0   0   0   0   0   0   0   0   0 198 253 253 141   0   0   0   0\n",
            "    0   0   0   0   0   0   0   0   0   0]\n",
            " [  0   0   0   0   0   0   0   0   0  78 248 253 189  12   0   0   0   0\n",
            "    0   0   0   0   0   0   0   0   0   0]\n",
            " [  0   0   0   0   0   0   0   0  19 200 253 253 141   0   0   0   0   0\n",
            "    0   0   0   0   0   0   0   0   0   0]\n",
            " [  0   0   0   0   0   0   0   0 134 253 253 173  12   0   0   0   0   0\n",
            "    0   0   0   0   0   0   0   0   0   0]\n",
            " [  0   0   0   0   0   0   0   0 248 253 253  25   0   0   0   0   0   0\n",
            "    0   0   0   0   0   0   0   0   0   0]\n",
            " [  0   0   0   0   0   0   0   0 248 253 253  43  20  20  20  20   5   0\n",
            "    5  20  20  37 150 150 150 147  10   0]\n",
            " [  0   0   0   0   0   0   0   0 248 253 253 253 253 253 253 253 168 143\n",
            "  166 253 253 253 253 253 253 253 123   0]\n",
            " [  0   0   0   0   0   0   0   0 174 253 253 253 253 253 253 253 253 253\n",
            "  253 253 249 247 247 169 117 117  57   0]\n",
            " [  0   0   0   0   0   0   0   0   0 118 123 123 123 166 253 253 253 155\n",
            "  123 123  41   0   0   0   0   0   0   0]\n",
            " [  0   0   0   0   0   0   0   0   0   0   0   0   0   0   0   0   0   0\n",
            "    0   0   0   0   0   0   0   0   0   0]\n",
            " [  0   0   0   0   0   0   0   0   0   0   0   0   0   0   0   0   0   0\n",
            "    0   0   0   0   0   0   0   0   0   0]\n",
            " [  0   0   0   0   0   0   0   0   0   0   0   0   0   0   0   0   0   0\n",
            "    0   0   0   0   0   0   0   0   0   0]\n",
            " [  0   0   0   0   0   0   0   0   0   0   0   0   0   0   0   0   0   0\n",
            "    0   0   0   0   0   0   0   0   0   0]\n",
            " [  0   0   0   0   0   0   0   0   0   0   0   0   0   0   0   0   0   0\n",
            "    0   0   0   0   0   0   0   0   0   0]] \n",
            "\n",
            "\n",
            "0 \n",
            "\n",
            "\n",
            "2 \n",
            "\n",
            "\n",
            "x_train (50000, 28, 28) x_test (5000, 28, 28) 리스트(배열,행렬)\n",
            "\n",
            "\n",
            "y_train (50000,) y_test (5000,) 리스트(배열,행렬)\n",
            "\n",
            "\n"
          ],
          "name": "stdout"
        },
        {
          "output_type": "execute_result",
          "data": {
            "text/plain": [
              "<matplotlib.image.AxesImage at 0x7fc7443e4940>"
            ]
          },
          "metadata": {
            "tags": []
          },
          "execution_count": 137
        },
        {
          "output_type": "display_data",
          "data": {
            "image/png": "[encoded data removed]",
            "text/plain": [
              "<Figure size 432x288 with 1 Axes>"
            ]
          },
          "metadata": {
            "tags": [],
            "needs_background": "light"
          }
        }
      ]
    },
    {
      "cell_type": "markdown",
      "metadata": {
        "id": "vUDbkQ6FwIu9"
      },
      "source": [
        "#one-hot enconding 수행<br>\n",
        "5 --> 0 0 0 0 0 1 0 0 0 0<br>\n",
        "1 --> 0 1 0 0 0 0 0 0 0 0<br>\n"
      ]
    },
    {
      "cell_type": "code",
      "metadata": {
        "id": "fEv9hkBBwEJj",
        "colab": {
          "base_uri": "https://localhost:8080/"
        },
        "outputId": "96f665e6-0a15-4c82-dc6f-69311c45be99"
      },
      "source": [
        "y_train = keras.utils.to_categorical(y=y_train, num_classes = 10)\n",
        "ty_train = keras.utils.to_categorical(y=ty_train, num_classes = 10)\n",
        "y_test = keras.utils.to_categorical(y=y_test, num_classes=10)\n",
        "y_val = keras.utils.to_categorical(y=y_val, num_classes=10)\n",
        "\n",
        "#리스트 데이타들 출력해 보기\n",
        "for j in range(2):\n",
        "   print(\"\\n=====Y Train Value======\", y_train[j])\n",
        "#end of for\n",
        "\n",
        "for t in range(2):\n",
        "   print(\"\\n=====TY Train Value======\", ty_train[j])\n",
        "#end of for\n",
        "\n",
        "for k in range(2):\n",
        "   print(\"\\n=====Y Test Value======\", y_test[k])\n",
        "#end of for\n",
        "\n",
        "for v in range(2):\n",
        "   print(\"\\n=====Y Val Value======\", y_val[v])\n",
        "#end of for"
      ],
      "execution_count": 138,
      "outputs": [
        {
          "output_type": "stream",
          "text": [
            "\n",
            "=====Y Train Value====== [0. 0. 0. 0. 0. 1. 0. 0. 0. 0.]\n",
            "\n",
            "=====Y Train Value====== [1. 0. 0. 0. 0. 0. 0. 0. 0. 0.]\n",
            "\n",
            "=====TY Train Value====== [0. 0. 0. 0. 0. 0. 0. 0. 1. 0.]\n",
            "\n",
            "=====TY Train Value====== [0. 0. 0. 0. 0. 0. 0. 0. 1. 0.]\n",
            "\n",
            "=====Y Test Value====== [0. 0. 0. 0. 0. 0. 0. 1. 0. 0.]\n",
            "\n",
            "=====Y Test Value====== [0. 0. 1. 0. 0. 0. 0. 0. 0. 0.]\n",
            "\n",
            "=====Y Val Value====== [0. 0. 0. 1. 0. 0. 0. 0. 0. 0.]\n",
            "\n",
            "=====Y Val Value====== [0. 0. 0. 0. 0. 0. 0. 0. 0. 1.]\n"
          ],
          "name": "stdout"
        }
      ]
    },
    {
      "cell_type": "markdown",
      "metadata": {
        "id": "PWfwt_clw7Vt"
      },
      "source": [
        "#DataSet 형변환\n"
      ]
    },
    {
      "cell_type": "code",
      "metadata": {
        "id": "ZgegW8bww2bo",
        "colab": {
          "base_uri": "https://localhost:8080/"
        },
        "outputId": "02ddf9a4-d3fa-4571-934f-d6c1c0ed2c14"
      },
      "source": [
        "x_train = x_train.reshape(50000, 28*28)\n",
        "tx_train = tx_train.reshape(10000, 28*28)\n",
        "\n",
        "x_test = x_test.reshape(5000, 28*28)\n",
        "x_val = x_val.reshape(5000, 28*28)\n",
        "\n",
        "print(x_train.shape, tx_train.shape,  x_test.shape, x_val.shape)\n",
        "print(y_train.shape, ty_train.shape, y_test.shape, x_val.shape)"
      ],
      "execution_count": 139,
      "outputs": [
        {
          "output_type": "stream",
          "text": [
            "(50000, 784) (10000, 784) (5000, 784) (5000, 784)\n",
            "(50000, 10) (10000, 10) (5000, 10) (5000, 784)\n"
          ],
          "name": "stdout"
        }
      ]
    },
    {
      "cell_type": "code",
      "metadata": {
        "id": "ZP3f4krFIO-N"
      },
      "source": [
        "# https://www.youtube.com/watch?v=UOvPeC8WOt8"
      ],
      "execution_count": 140,
      "outputs": []
    },
    {
      "cell_type": "markdown",
      "metadata": {
        "id": "t3iM_wFCxmfm"
      },
      "source": [
        "#모델 구조 생성\n"
      ]
    },
    {
      "cell_type": "code",
      "metadata": {
        "id": "dgYYrPFlxI1i"
      },
      "source": [
        "model = keras.Sequential()\n",
        "model.add(keras.layers.Dense(32, activation=\"sigmoid\", input_shape=(28*28,)))\n",
        "model.add(keras.layers.Dense(32, activation=\"sigmoid\"))\n",
        "model.add(keras.layers.Dense(10, activation=\"sigmoid\"))"
      ],
      "execution_count": 141,
      "outputs": []
    },
    {
      "cell_type": "markdown",
      "metadata": {
        "id": "-9VWPnAlNM17"
      },
      "source": [
        "모델구조 #보기"
      ]
    },
    {
      "cell_type": "code",
      "metadata": {
        "id": "uuoRRK3tNWej"
      },
      "source": [
        "model.compile(optimizer=keras.optimizers.SGD(learning_rate=0.1), loss=\"categorical_crossentropy\", metrics=['accuracy'])"
      ],
      "execution_count": 142,
      "outputs": []
    },
    {
      "cell_type": "markdown",
      "metadata": {
        "id": "Tmnw3IsqyYfc"
      },
      "source": [
        "#모델구성요소 컴파일 및 구조보기\n",
        "<br>파라메터 숫자: \n",
        "<br>dense_3: (28x28) x 32+32(bias) = 25120\n",
        "<br>dense_4: 32x32+32(bias) = 1056\n",
        "<br>dense_5: 32x10+10(bias) = 30"
      ]
    },
    {
      "cell_type": "code",
      "metadata": {
        "id": "6fpe0OuhyXW7",
        "colab": {
          "base_uri": "https://localhost:8080/"
        },
        "outputId": "83a80af7-57e3-482d-e4aa-040d17fdfebf"
      },
      "source": [
        "model.summary()"
      ],
      "execution_count": 143,
      "outputs": [
        {
          "output_type": "stream",
          "text": [
            "Model: \"sequential_10\"\n",
            "_________________________________________________________________\n",
            "Layer (type)                 Output Shape              Param #   \n",
            "=================================================================\n",
            "dense_27 (Dense)             (None, 32)                25120     \n",
            "_________________________________________________________________\n",
            "dense_28 (Dense)             (None, 32)                1056      \n",
            "_________________________________________________________________\n",
            "dense_29 (Dense)             (None, 10)                330       \n",
            "=================================================================\n",
            "Total params: 26,506\n",
            "Trainable params: 26,506\n",
            "Non-trainable params: 0\n",
            "_________________________________________________________________\n"
          ],
          "name": "stdout"
        }
      ]
    },
    {
      "cell_type": "markdown",
      "metadata": {
        "id": "O2_lwPmly8bG"
      },
      "source": [
        "#모델 훈련\n"
      ]
    },
    {
      "cell_type": "code",
      "metadata": {
        "id": "DBBANgGMyy-f",
        "colab": {
          "base_uri": "https://localhost:8080/"
        },
        "outputId": "aeb974a9-d16a-41e4-f89a-8093116f1672"
      },
      "source": [
        "hist=model.fit(x=x_train, y=y_train, batch_size=1000, epochs=100, validation_data=(x_val, y_val))"
      ],
      "execution_count": 144,
      "outputs": [
        {
          "output_type": "stream",
          "text": [
            "Epoch 1/100\n",
            "50/50 [==============================] - 1s 12ms/step - loss: 2.2563 - accuracy: 0.2334 - val_loss: 1.9752 - val_accuracy: 0.6330\n",
            "Epoch 2/100\n",
            "50/50 [==============================] - 0s 9ms/step - loss: 1.9372 - accuracy: 0.6069 - val_loss: 1.7173 - val_accuracy: 0.7086\n",
            "Epoch 3/100\n",
            "50/50 [==============================] - 0s 9ms/step - loss: 1.6876 - accuracy: 0.7006 - val_loss: 1.4497 - val_accuracy: 0.8036\n",
            "Epoch 4/100\n",
            "50/50 [==============================] - 0s 8ms/step - loss: 1.4379 - accuracy: 0.7633 - val_loss: 1.2058 - val_accuracy: 0.8408\n",
            "Epoch 5/100\n",
            "50/50 [==============================] - 0s 9ms/step - loss: 1.2195 - accuracy: 0.8022 - val_loss: 1.0098 - val_accuracy: 0.8594\n",
            "Epoch 6/100\n",
            "50/50 [==============================] - 0s 9ms/step - loss: 1.0407 - accuracy: 0.8261 - val_loss: 0.8584 - val_accuracy: 0.8738\n",
            "Epoch 7/100\n",
            "50/50 [==============================] - 0s 9ms/step - loss: 0.9067 - accuracy: 0.8421 - val_loss: 0.7538 - val_accuracy: 0.8890\n",
            "Epoch 8/100\n",
            "50/50 [==============================] - 0s 9ms/step - loss: 0.8021 - accuracy: 0.8552 - val_loss: 0.6659 - val_accuracy: 0.8992\n",
            "Epoch 9/100\n",
            "50/50 [==============================] - 0s 9ms/step - loss: 0.7190 - accuracy: 0.8673 - val_loss: 0.5822 - val_accuracy: 0.9130\n",
            "Epoch 10/100\n",
            "50/50 [==============================] - 0s 9ms/step - loss: 0.6539 - accuracy: 0.8740 - val_loss: 0.5367 - val_accuracy: 0.9146\n",
            "Epoch 11/100\n",
            "50/50 [==============================] - 0s 9ms/step - loss: 0.5975 - accuracy: 0.8822 - val_loss: 0.4846 - val_accuracy: 0.9168\n",
            "Epoch 12/100\n",
            "50/50 [==============================] - 0s 9ms/step - loss: 0.5557 - accuracy: 0.8841 - val_loss: 0.4501 - val_accuracy: 0.9210\n",
            "Epoch 13/100\n",
            "50/50 [==============================] - 0s 9ms/step - loss: 0.5206 - accuracy: 0.8892 - val_loss: 0.4268 - val_accuracy: 0.9264\n",
            "Epoch 14/100\n",
            "50/50 [==============================] - 0s 9ms/step - loss: 0.4977 - accuracy: 0.8915 - val_loss: 0.3937 - val_accuracy: 0.9246\n",
            "Epoch 15/100\n",
            "50/50 [==============================] - 0s 9ms/step - loss: 0.4654 - accuracy: 0.8963 - val_loss: 0.3747 - val_accuracy: 0.9272\n",
            "Epoch 16/100\n",
            "50/50 [==============================] - 0s 9ms/step - loss: 0.4441 - accuracy: 0.8977 - val_loss: 0.3484 - val_accuracy: 0.9312\n",
            "Epoch 17/100\n",
            "50/50 [==============================] - 0s 9ms/step - loss: 0.4257 - accuracy: 0.9004 - val_loss: 0.3384 - val_accuracy: 0.9290\n",
            "Epoch 18/100\n",
            "50/50 [==============================] - 0s 9ms/step - loss: 0.4110 - accuracy: 0.9028 - val_loss: 0.3248 - val_accuracy: 0.9342\n",
            "Epoch 19/100\n",
            "50/50 [==============================] - 0s 9ms/step - loss: 0.3945 - accuracy: 0.9050 - val_loss: 0.3283 - val_accuracy: 0.9334\n",
            "Epoch 20/100\n",
            "50/50 [==============================] - 0s 8ms/step - loss: 0.3796 - accuracy: 0.9090 - val_loss: 0.3021 - val_accuracy: 0.9322\n",
            "Epoch 21/100\n",
            "50/50 [==============================] - 0s 9ms/step - loss: 0.3711 - accuracy: 0.9089 - val_loss: 0.2947 - val_accuracy: 0.9374\n",
            "Epoch 22/100\n",
            "50/50 [==============================] - 0s 9ms/step - loss: 0.3677 - accuracy: 0.9084 - val_loss: 0.2907 - val_accuracy: 0.9374\n",
            "Epoch 23/100\n",
            "50/50 [==============================] - 0s 9ms/step - loss: 0.3562 - accuracy: 0.9097 - val_loss: 0.2746 - val_accuracy: 0.9378\n",
            "Epoch 24/100\n",
            "50/50 [==============================] - 0s 9ms/step - loss: 0.3499 - accuracy: 0.9114 - val_loss: 0.2762 - val_accuracy: 0.9378\n",
            "Epoch 25/100\n",
            "50/50 [==============================] - 0s 9ms/step - loss: 0.3434 - accuracy: 0.9121 - val_loss: 0.2669 - val_accuracy: 0.9388\n",
            "Epoch 26/100\n",
            "50/50 [==============================] - 0s 9ms/step - loss: 0.3338 - accuracy: 0.9151 - val_loss: 0.2693 - val_accuracy: 0.9384\n",
            "Epoch 27/100\n",
            "50/50 [==============================] - 0s 9ms/step - loss: 0.3288 - accuracy: 0.9155 - val_loss: 0.2628 - val_accuracy: 0.9374\n",
            "Epoch 28/100\n",
            "50/50 [==============================] - 0s 9ms/step - loss: 0.3225 - accuracy: 0.9170 - val_loss: 0.2562 - val_accuracy: 0.9400\n",
            "Epoch 29/100\n",
            "50/50 [==============================] - 0s 9ms/step - loss: 0.3163 - accuracy: 0.9174 - val_loss: 0.2658 - val_accuracy: 0.9412\n",
            "Epoch 30/100\n",
            "50/50 [==============================] - 0s 9ms/step - loss: 0.3142 - accuracy: 0.9162 - val_loss: 0.2427 - val_accuracy: 0.9440\n",
            "Epoch 31/100\n",
            "50/50 [==============================] - 0s 8ms/step - loss: 0.3138 - accuracy: 0.9163 - val_loss: 0.2382 - val_accuracy: 0.9442\n",
            "Epoch 32/100\n",
            "50/50 [==============================] - 0s 8ms/step - loss: 0.3028 - accuracy: 0.9195 - val_loss: 0.2342 - val_accuracy: 0.9462\n",
            "Epoch 33/100\n",
            "50/50 [==============================] - 0s 9ms/step - loss: 0.3120 - accuracy: 0.9148 - val_loss: 0.2339 - val_accuracy: 0.9446\n",
            "Epoch 34/100\n",
            "50/50 [==============================] - 0s 8ms/step - loss: 0.2970 - accuracy: 0.9203 - val_loss: 0.2367 - val_accuracy: 0.9436\n",
            "Epoch 35/100\n",
            "50/50 [==============================] - 0s 9ms/step - loss: 0.2947 - accuracy: 0.9205 - val_loss: 0.2189 - val_accuracy: 0.9438\n",
            "Epoch 36/100\n",
            "50/50 [==============================] - 0s 9ms/step - loss: 0.2870 - accuracy: 0.9220 - val_loss: 0.2283 - val_accuracy: 0.9408\n",
            "Epoch 37/100\n",
            "50/50 [==============================] - 0s 9ms/step - loss: 0.2933 - accuracy: 0.9210 - val_loss: 0.2218 - val_accuracy: 0.9460\n",
            "Epoch 38/100\n",
            "50/50 [==============================] - 0s 9ms/step - loss: 0.2786 - accuracy: 0.9241 - val_loss: 0.2144 - val_accuracy: 0.9430\n",
            "Epoch 39/100\n",
            "50/50 [==============================] - 0s 9ms/step - loss: 0.2827 - accuracy: 0.9237 - val_loss: 0.2299 - val_accuracy: 0.9426\n",
            "Epoch 40/100\n",
            "50/50 [==============================] - 0s 9ms/step - loss: 0.2804 - accuracy: 0.9238 - val_loss: 0.2241 - val_accuracy: 0.9426\n",
            "Epoch 41/100\n",
            "50/50 [==============================] - 0s 9ms/step - loss: 0.2757 - accuracy: 0.9239 - val_loss: 0.2353 - val_accuracy: 0.9416\n",
            "Epoch 42/100\n",
            "50/50 [==============================] - 0s 9ms/step - loss: 0.2863 - accuracy: 0.9211 - val_loss: 0.2125 - val_accuracy: 0.9502\n",
            "Epoch 43/100\n",
            "50/50 [==============================] - 0s 9ms/step - loss: 0.2716 - accuracy: 0.9251 - val_loss: 0.2203 - val_accuracy: 0.9468\n",
            "Epoch 44/100\n",
            "50/50 [==============================] - 0s 9ms/step - loss: 0.2701 - accuracy: 0.9257 - val_loss: 0.2191 - val_accuracy: 0.9460\n",
            "Epoch 45/100\n",
            "50/50 [==============================] - 1s 12ms/step - loss: 0.2626 - accuracy: 0.9282 - val_loss: 0.2139 - val_accuracy: 0.9440\n",
            "Epoch 46/100\n",
            "50/50 [==============================] - 0s 9ms/step - loss: 0.2606 - accuracy: 0.9293 - val_loss: 0.2100 - val_accuracy: 0.9480\n",
            "Epoch 47/100\n",
            "50/50 [==============================] - 0s 9ms/step - loss: 0.2654 - accuracy: 0.9272 - val_loss: 0.2158 - val_accuracy: 0.9436\n",
            "Epoch 48/100\n",
            "50/50 [==============================] - 0s 9ms/step - loss: 0.2608 - accuracy: 0.9274 - val_loss: 0.2034 - val_accuracy: 0.9486\n",
            "Epoch 49/100\n",
            "50/50 [==============================] - 0s 9ms/step - loss: 0.2562 - accuracy: 0.9304 - val_loss: 0.2014 - val_accuracy: 0.9480\n",
            "Epoch 50/100\n",
            "50/50 [==============================] - 0s 9ms/step - loss: 0.2482 - accuracy: 0.9315 - val_loss: 0.2052 - val_accuracy: 0.9498\n",
            "Epoch 51/100\n",
            "50/50 [==============================] - 0s 9ms/step - loss: 0.2541 - accuracy: 0.9290 - val_loss: 0.1999 - val_accuracy: 0.9512\n",
            "Epoch 52/100\n",
            "50/50 [==============================] - 0s 9ms/step - loss: 0.2519 - accuracy: 0.9278 - val_loss: 0.1984 - val_accuracy: 0.9470\n",
            "Epoch 53/100\n",
            "50/50 [==============================] - 0s 9ms/step - loss: 0.2448 - accuracy: 0.9299 - val_loss: 0.1980 - val_accuracy: 0.9506\n",
            "Epoch 54/100\n",
            "50/50 [==============================] - 0s 9ms/step - loss: 0.2500 - accuracy: 0.9311 - val_loss: 0.1967 - val_accuracy: 0.9494\n",
            "Epoch 55/100\n",
            "50/50 [==============================] - 0s 9ms/step - loss: 0.2422 - accuracy: 0.9340 - val_loss: 0.2098 - val_accuracy: 0.9420\n",
            "Epoch 56/100\n",
            "50/50 [==============================] - 0s 8ms/step - loss: 0.2528 - accuracy: 0.9288 - val_loss: 0.1991 - val_accuracy: 0.9474\n",
            "Epoch 57/100\n",
            "50/50 [==============================] - 0s 9ms/step - loss: 0.2455 - accuracy: 0.9306 - val_loss: 0.1908 - val_accuracy: 0.9514\n",
            "Epoch 58/100\n",
            "50/50 [==============================] - 0s 9ms/step - loss: 0.2382 - accuracy: 0.9321 - val_loss: 0.1917 - val_accuracy: 0.9510\n",
            "Epoch 59/100\n",
            "50/50 [==============================] - 0s 9ms/step - loss: 0.2364 - accuracy: 0.9342 - val_loss: 0.2010 - val_accuracy: 0.9472\n",
            "Epoch 60/100\n",
            "50/50 [==============================] - 0s 9ms/step - loss: 0.2342 - accuracy: 0.9346 - val_loss: 0.2036 - val_accuracy: 0.9460\n",
            "Epoch 61/100\n",
            "50/50 [==============================] - 0s 9ms/step - loss: 0.2380 - accuracy: 0.9346 - val_loss: 0.1846 - val_accuracy: 0.9500\n",
            "Epoch 62/100\n",
            "50/50 [==============================] - 0s 9ms/step - loss: 0.2317 - accuracy: 0.9338 - val_loss: 0.1903 - val_accuracy: 0.9504\n",
            "Epoch 63/100\n",
            "50/50 [==============================] - 0s 9ms/step - loss: 0.2428 - accuracy: 0.9305 - val_loss: 0.1809 - val_accuracy: 0.9558\n",
            "Epoch 64/100\n",
            "50/50 [==============================] - 0s 9ms/step - loss: 0.2313 - accuracy: 0.9344 - val_loss: 0.1906 - val_accuracy: 0.9496\n",
            "Epoch 65/100\n",
            "50/50 [==============================] - 0s 9ms/step - loss: 0.2388 - accuracy: 0.9321 - val_loss: 0.1961 - val_accuracy: 0.9494\n",
            "Epoch 66/100\n",
            "50/50 [==============================] - 0s 8ms/step - loss: 0.2315 - accuracy: 0.9357 - val_loss: 0.1832 - val_accuracy: 0.9528\n",
            "Epoch 67/100\n",
            "50/50 [==============================] - 0s 9ms/step - loss: 0.2272 - accuracy: 0.9371 - val_loss: 0.1909 - val_accuracy: 0.9506\n",
            "Epoch 68/100\n",
            "50/50 [==============================] - 0s 9ms/step - loss: 0.2252 - accuracy: 0.9369 - val_loss: 0.1848 - val_accuracy: 0.9526\n",
            "Epoch 69/100\n",
            "50/50 [==============================] - 0s 9ms/step - loss: 0.2231 - accuracy: 0.9372 - val_loss: 0.1729 - val_accuracy: 0.9540\n",
            "Epoch 70/100\n",
            "50/50 [==============================] - 0s 9ms/step - loss: 0.2198 - accuracy: 0.9386 - val_loss: 0.1807 - val_accuracy: 0.9516\n",
            "Epoch 71/100\n",
            "50/50 [==============================] - 0s 9ms/step - loss: 0.2188 - accuracy: 0.9383 - val_loss: 0.1866 - val_accuracy: 0.9474\n",
            "Epoch 72/100\n",
            "50/50 [==============================] - 0s 9ms/step - loss: 0.2238 - accuracy: 0.9357 - val_loss: 0.1876 - val_accuracy: 0.9488\n",
            "Epoch 73/100\n",
            "50/50 [==============================] - 0s 9ms/step - loss: 0.2205 - accuracy: 0.9382 - val_loss: 0.1818 - val_accuracy: 0.9482\n",
            "Epoch 74/100\n",
            "50/50 [==============================] - 0s 9ms/step - loss: 0.2192 - accuracy: 0.9355 - val_loss: 0.1787 - val_accuracy: 0.9524\n",
            "Epoch 75/100\n",
            "50/50 [==============================] - 0s 9ms/step - loss: 0.2182 - accuracy: 0.9380 - val_loss: 0.1764 - val_accuracy: 0.9518\n",
            "Epoch 76/100\n",
            "50/50 [==============================] - 0s 9ms/step - loss: 0.2136 - accuracy: 0.9397 - val_loss: 0.1820 - val_accuracy: 0.9488\n",
            "Epoch 77/100\n",
            "50/50 [==============================] - 0s 9ms/step - loss: 0.2218 - accuracy: 0.9359 - val_loss: 0.1861 - val_accuracy: 0.9492\n",
            "Epoch 78/100\n",
            "50/50 [==============================] - 0s 9ms/step - loss: 0.2082 - accuracy: 0.9408 - val_loss: 0.1704 - val_accuracy: 0.9538\n",
            "Epoch 79/100\n",
            "50/50 [==============================] - 0s 9ms/step - loss: 0.2092 - accuracy: 0.9400 - val_loss: 0.1813 - val_accuracy: 0.9538\n",
            "Epoch 80/100\n",
            "50/50 [==============================] - 0s 9ms/step - loss: 0.2140 - accuracy: 0.9393 - val_loss: 0.1779 - val_accuracy: 0.9472\n",
            "Epoch 81/100\n",
            "50/50 [==============================] - 0s 9ms/step - loss: 0.2157 - accuracy: 0.9394 - val_loss: 0.1763 - val_accuracy: 0.9526\n",
            "Epoch 82/100\n",
            "50/50 [==============================] - 0s 9ms/step - loss: 0.2022 - accuracy: 0.9427 - val_loss: 0.1711 - val_accuracy: 0.9516\n",
            "Epoch 83/100\n",
            "50/50 [==============================] - 0s 9ms/step - loss: 0.2073 - accuracy: 0.9405 - val_loss: 0.1779 - val_accuracy: 0.9530\n",
            "Epoch 84/100\n",
            "50/50 [==============================] - 0s 9ms/step - loss: 0.2223 - accuracy: 0.9367 - val_loss: 0.1796 - val_accuracy: 0.9522\n",
            "Epoch 85/100\n",
            "50/50 [==============================] - 0s 9ms/step - loss: 0.2080 - accuracy: 0.9401 - val_loss: 0.1715 - val_accuracy: 0.9522\n",
            "Epoch 86/100\n",
            "50/50 [==============================] - 0s 9ms/step - loss: 0.2074 - accuracy: 0.9403 - val_loss: 0.1753 - val_accuracy: 0.9526\n",
            "Epoch 87/100\n",
            "50/50 [==============================] - 0s 9ms/step - loss: 0.2069 - accuracy: 0.9404 - val_loss: 0.1765 - val_accuracy: 0.9526\n",
            "Epoch 88/100\n",
            "50/50 [==============================] - 0s 9ms/step - loss: 0.2079 - accuracy: 0.9399 - val_loss: 0.1700 - val_accuracy: 0.9518\n",
            "Epoch 89/100\n",
            "50/50 [==============================] - 0s 9ms/step - loss: 0.2033 - accuracy: 0.9400 - val_loss: 0.1598 - val_accuracy: 0.9560\n",
            "Epoch 90/100\n",
            "50/50 [==============================] - 0s 9ms/step - loss: 0.2086 - accuracy: 0.9398 - val_loss: 0.1775 - val_accuracy: 0.9508\n",
            "Epoch 91/100\n",
            "50/50 [==============================] - 0s 9ms/step - loss: 0.2027 - accuracy: 0.9403 - val_loss: 0.1575 - val_accuracy: 0.9570\n",
            "Epoch 92/100\n",
            "50/50 [==============================] - 0s 9ms/step - loss: 0.1973 - accuracy: 0.9413 - val_loss: 0.1722 - val_accuracy: 0.9506\n",
            "Epoch 93/100\n",
            "50/50 [==============================] - 0s 9ms/step - loss: 0.1992 - accuracy: 0.9433 - val_loss: 0.1831 - val_accuracy: 0.9508\n",
            "Epoch 94/100\n",
            "50/50 [==============================] - 0s 9ms/step - loss: 0.1991 - accuracy: 0.9423 - val_loss: 0.1692 - val_accuracy: 0.9522\n",
            "Epoch 95/100\n",
            "50/50 [==============================] - 0s 9ms/step - loss: 0.2053 - accuracy: 0.9401 - val_loss: 0.1792 - val_accuracy: 0.9504\n",
            "Epoch 96/100\n",
            "50/50 [==============================] - 0s 9ms/step - loss: 0.2002 - accuracy: 0.9407 - val_loss: 0.1620 - val_accuracy: 0.9574\n",
            "Epoch 97/100\n",
            "50/50 [==============================] - 0s 9ms/step - loss: 0.1909 - accuracy: 0.9441 - val_loss: 0.1646 - val_accuracy: 0.9552\n",
            "Epoch 98/100\n",
            "50/50 [==============================] - 0s 9ms/step - loss: 0.2048 - accuracy: 0.9410 - val_loss: 0.1622 - val_accuracy: 0.9550\n",
            "Epoch 99/100\n",
            "50/50 [==============================] - 0s 9ms/step - loss: 0.2157 - accuracy: 0.9372 - val_loss: 0.1745 - val_accuracy: 0.9476\n",
            "Epoch 100/100\n",
            "50/50 [==============================] - 0s 9ms/step - loss: 0.2026 - accuracy: 0.9410 - val_loss: 0.1533 - val_accuracy: 0.9568\n"
          ],
          "name": "stdout"
        }
      ]
    },
    {
      "cell_type": "markdown",
      "metadata": {
        "id": "oWCAm0xgzmkE"
      },
      "source": [
        "#생성된 모델을 이용한 추론(평가, 예측)\n"
      ]
    },
    {
      "cell_type": "code",
      "metadata": {
        "id": "GnxTP2eMzRxb",
        "colab": {
          "base_uri": "https://localhost:8080/"
        },
        "outputId": "0b9eb943-9124-4322-c7c7-60b593559405"
      },
      "source": [
        "model.evaluate(x_test, y_test )"
      ],
      "execution_count": 145,
      "outputs": [
        {
          "output_type": "stream",
          "text": [
            "157/157 [==============================] - 0s 1ms/step - loss: 0.2693 - accuracy: 0.9124\n"
          ],
          "name": "stdout"
        },
        {
          "output_type": "execute_result",
          "data": {
            "text/plain": [
              "[0.2692508399486542, 0.9124000072479248]"
            ]
          },
          "metadata": {
            "tags": []
          },
          "execution_count": 145
        }
      ]
    },
    {
      "cell_type": "markdown",
      "metadata": {
        "id": "_uANcounvIun"
      },
      "source": [
        "#모델 수행 히스토리 그래프보기"
      ]
    },
    {
      "cell_type": "code",
      "metadata": {
        "id": "SCBbM_KBMDjO",
        "colab": {
          "base_uri": "https://localhost:8080/",
          "height": 269
        },
        "outputId": "c107156d-e2fb-43c1-db96-386f70bca47d"
      },
      "source": [
        "import matplotlib\n",
        "import matplotlib.pyplot as plt\n",
        "\n",
        "fig, loss_ax =  plt.subplots()\n",
        "acc_ax = loss_ax.twinx()\n",
        "\n",
        "loss_ax.plot(hist.history['loss'], 'y', label='loss')\n",
        "#loss_ax.plot(hist.history['val_loss'], 'g', label='validation loss')\n",
        "acc_ax.plot(hist.history['accuracy'], 'b', label='accuracy')\n",
        "#acc_ax.plot(hist.history['val_accuracy'], 'r', label='validation accuracy')\n",
        "\n",
        "plt.legend(['loss', 'accuracy'])\n",
        "#plt.legend(['train loss', 'train accuracy', 'validation loss', 'validation accuracy'])\n",
        "plt.show()"
      ],
      "execution_count": 146,
      "outputs": [
        {
          "output_type": "display_data",
          "data": {
            "image/png": "[encoded data removed]",
            "text/plain": [
              "<Figure size 432x288 with 2 Axes>"
            ]
          },
          "metadata": {
            "tags": [],
            "needs_background": "light"
          }
        }
      ]
    },
    {
      "cell_type": "markdown",
      "metadata": {
        "id": "kmWHScXJQgSE"
      },
      "source": [
        "#모델 바이러리(Weight) 저장"
      ]
    },
    {
      "cell_type": "code",
      "metadata": {
        "id": "t44H7KrIQoQe"
      },
      "source": [
        "model.save(\"MNIST-Keras-101-Pre_trained.h5\")\n",
        "model.save_weights(\"MNIST-Keras-101-Pre_trained_weights\")"
      ],
      "execution_count": 147,
      "outputs": []
    },
    {
      "cell_type": "markdown",
      "metadata": {
        "id": "UOQQwtFmRMoJ"
      },
      "source": [
        "#저장된 모델 로드\n"
      ]
    },
    {
      "cell_type": "code",
      "metadata": {
        "id": "4cWH_rcCRP7A",
        "outputId": "979b6ba8-a635-4779-8fa4-338de3a0ed8f",
        "colab": {
          "base_uri": "https://localhost:8080/"
        }
      },
      "source": [
        "from keras.models import load_model\n",
        "\n",
        "ts_model = load_model(\"MNIST-Keras-101-Pre_trained.h5\")\n",
        "\n",
        "ts_model.summary()"
      ],
      "execution_count": 148,
      "outputs": [
        {
          "output_type": "stream",
          "text": [
            "Model: \"sequential_10\"\n",
            "_________________________________________________________________\n",
            "Layer (type)                 Output Shape              Param #   \n",
            "=================================================================\n",
            "dense_27 (Dense)             (None, 32)                25120     \n",
            "_________________________________________________________________\n",
            "dense_28 (Dense)             (None, 32)                1056      \n",
            "_________________________________________________________________\n",
            "dense_29 (Dense)             (None, 10)                330       \n",
            "=================================================================\n",
            "Total params: 26,506\n",
            "Trainable params: 26,506\n",
            "Non-trainable params: 0\n",
            "_________________________________________________________________\n"
          ],
          "name": "stdout"
        }
      ]
    },
    {
      "cell_type": "markdown",
      "metadata": {
        "id": "gum-itSIRQX9"
      },
      "source": [
        "#로드된 모델에 새로운 데이타 Re-Training(Transfer Learning)\n"
      ]
    },
    {
      "cell_type": "code",
      "metadata": {
        "id": "Za-OTrT4RaSp",
        "outputId": "d2bae36e-0d0e-4ba7-8d15-34dce040a945",
        "colab": {
          "base_uri": "https://localhost:8080/"
        }
      },
      "source": [
        "hist=ts_model.fit(x=tx_train, y=ty_train, batch_size=1000, epochs=100, validation_data=(x_val, y_val))"
      ],
      "execution_count": 149,
      "outputs": [
        {
          "output_type": "stream",
          "text": [
            "Epoch 1/100\n",
            "10/10 [==============================] - 0s 30ms/step - loss: 0.2018 - accuracy: 0.9414 - val_loss: 0.1657 - val_accuracy: 0.9548\n",
            "Epoch 2/100\n",
            "10/10 [==============================] - 0s 14ms/step - loss: 0.2051 - accuracy: 0.9388 - val_loss: 0.1626 - val_accuracy: 0.9568\n",
            "Epoch 3/100\n",
            "10/10 [==============================] - 0s 14ms/step - loss: 0.2062 - accuracy: 0.9409 - val_loss: 0.1611 - val_accuracy: 0.9558\n",
            "Epoch 4/100\n",
            "10/10 [==============================] - 0s 14ms/step - loss: 0.2031 - accuracy: 0.9417 - val_loss: 0.1712 - val_accuracy: 0.9502\n",
            "Epoch 5/100\n",
            "10/10 [==============================] - 0s 13ms/step - loss: 0.2094 - accuracy: 0.9385 - val_loss: 0.1600 - val_accuracy: 0.9560\n",
            "Epoch 6/100\n",
            "10/10 [==============================] - 0s 15ms/step - loss: 0.1952 - accuracy: 0.9431 - val_loss: 0.1613 - val_accuracy: 0.9558\n",
            "Epoch 7/100\n",
            "10/10 [==============================] - 0s 14ms/step - loss: 0.1931 - accuracy: 0.9445 - val_loss: 0.1679 - val_accuracy: 0.9518\n",
            "Epoch 8/100\n",
            "10/10 [==============================] - 0s 13ms/step - loss: 0.1945 - accuracy: 0.9434 - val_loss: 0.1537 - val_accuracy: 0.9550\n",
            "Epoch 9/100\n",
            "10/10 [==============================] - 0s 13ms/step - loss: 0.1928 - accuracy: 0.9455 - val_loss: 0.1666 - val_accuracy: 0.9520\n",
            "Epoch 10/100\n",
            "10/10 [==============================] - 0s 13ms/step - loss: 0.2037 - accuracy: 0.9405 - val_loss: 0.1645 - val_accuracy: 0.9524\n",
            "Epoch 11/100\n",
            "10/10 [==============================] - 0s 15ms/step - loss: 0.1941 - accuracy: 0.9442 - val_loss: 0.1611 - val_accuracy: 0.9556\n",
            "Epoch 12/100\n",
            "10/10 [==============================] - 0s 15ms/step - loss: 0.1889 - accuracy: 0.9441 - val_loss: 0.1727 - val_accuracy: 0.9522\n",
            "Epoch 13/100\n",
            "10/10 [==============================] - 0s 14ms/step - loss: 0.1923 - accuracy: 0.9445 - val_loss: 0.1623 - val_accuracy: 0.9550\n",
            "Epoch 14/100\n",
            "10/10 [==============================] - 0s 14ms/step - loss: 0.1903 - accuracy: 0.9466 - val_loss: 0.1621 - val_accuracy: 0.9536\n",
            "Epoch 15/100\n",
            "10/10 [==============================] - 0s 15ms/step - loss: 0.1832 - accuracy: 0.9483 - val_loss: 0.1590 - val_accuracy: 0.9544\n",
            "Epoch 16/100\n",
            "10/10 [==============================] - 0s 13ms/step - loss: 0.1751 - accuracy: 0.9502 - val_loss: 0.1574 - val_accuracy: 0.9540\n",
            "Epoch 17/100\n",
            "10/10 [==============================] - 0s 14ms/step - loss: 0.1820 - accuracy: 0.9488 - val_loss: 0.1676 - val_accuracy: 0.9522\n",
            "Epoch 18/100\n",
            "10/10 [==============================] - 0s 14ms/step - loss: 0.1780 - accuracy: 0.9500 - val_loss: 0.1676 - val_accuracy: 0.9524\n",
            "Epoch 19/100\n",
            "10/10 [==============================] - 0s 13ms/step - loss: 0.1787 - accuracy: 0.9483 - val_loss: 0.1552 - val_accuracy: 0.9552\n",
            "Epoch 20/100\n",
            "10/10 [==============================] - 0s 13ms/step - loss: 0.1728 - accuracy: 0.9500 - val_loss: 0.1590 - val_accuracy: 0.9556\n",
            "Epoch 21/100\n",
            "10/10 [==============================] - 0s 14ms/step - loss: 0.1734 - accuracy: 0.9505 - val_loss: 0.1584 - val_accuracy: 0.9542\n",
            "Epoch 22/100\n",
            "10/10 [==============================] - 0s 13ms/step - loss: 0.1729 - accuracy: 0.9508 - val_loss: 0.1560 - val_accuracy: 0.9556\n",
            "Epoch 23/100\n",
            "10/10 [==============================] - 0s 13ms/step - loss: 0.1680 - accuracy: 0.9537 - val_loss: 0.1604 - val_accuracy: 0.9538\n",
            "Epoch 24/100\n",
            "10/10 [==============================] - 0s 14ms/step - loss: 0.1786 - accuracy: 0.9486 - val_loss: 0.1594 - val_accuracy: 0.9552\n",
            "Epoch 25/100\n",
            "10/10 [==============================] - 0s 14ms/step - loss: 0.1657 - accuracy: 0.9540 - val_loss: 0.1530 - val_accuracy: 0.9578\n",
            "Epoch 26/100\n",
            "10/10 [==============================] - 0s 14ms/step - loss: 0.1641 - accuracy: 0.9538 - val_loss: 0.1585 - val_accuracy: 0.9552\n",
            "Epoch 27/100\n",
            "10/10 [==============================] - 0s 13ms/step - loss: 0.1735 - accuracy: 0.9507 - val_loss: 0.1622 - val_accuracy: 0.9536\n",
            "Epoch 28/100\n",
            "10/10 [==============================] - 0s 15ms/step - loss: 0.1602 - accuracy: 0.9559 - val_loss: 0.1537 - val_accuracy: 0.9554\n",
            "Epoch 29/100\n",
            "10/10 [==============================] - 0s 14ms/step - loss: 0.1614 - accuracy: 0.9551 - val_loss: 0.1508 - val_accuracy: 0.9580\n",
            "Epoch 30/100\n",
            "10/10 [==============================] - 0s 14ms/step - loss: 0.1693 - accuracy: 0.9510 - val_loss: 0.1533 - val_accuracy: 0.9586\n",
            "Epoch 31/100\n",
            "10/10 [==============================] - 0s 14ms/step - loss: 0.1662 - accuracy: 0.9541 - val_loss: 0.1519 - val_accuracy: 0.9584\n",
            "Epoch 32/100\n",
            "10/10 [==============================] - 0s 13ms/step - loss: 0.1613 - accuracy: 0.9556 - val_loss: 0.1491 - val_accuracy: 0.9588\n",
            "Epoch 33/100\n",
            "10/10 [==============================] - 0s 13ms/step - loss: 0.1528 - accuracy: 0.9572 - val_loss: 0.1483 - val_accuracy: 0.9606\n",
            "Epoch 34/100\n",
            "10/10 [==============================] - 0s 14ms/step - loss: 0.1512 - accuracy: 0.9582 - val_loss: 0.1558 - val_accuracy: 0.9570\n",
            "Epoch 35/100\n",
            "10/10 [==============================] - 0s 13ms/step - loss: 0.1603 - accuracy: 0.9559 - val_loss: 0.1541 - val_accuracy: 0.9564\n",
            "Epoch 36/100\n",
            "10/10 [==============================] - 0s 14ms/step - loss: 0.1576 - accuracy: 0.9558 - val_loss: 0.1555 - val_accuracy: 0.9578\n",
            "Epoch 37/100\n",
            "10/10 [==============================] - 0s 13ms/step - loss: 0.1535 - accuracy: 0.9580 - val_loss: 0.1535 - val_accuracy: 0.9584\n",
            "Epoch 38/100\n",
            "10/10 [==============================] - 0s 14ms/step - loss: 0.1508 - accuracy: 0.9590 - val_loss: 0.1573 - val_accuracy: 0.9558\n",
            "Epoch 39/100\n",
            "10/10 [==============================] - 0s 13ms/step - loss: 0.1536 - accuracy: 0.9566 - val_loss: 0.1543 - val_accuracy: 0.9556\n",
            "Epoch 40/100\n",
            "10/10 [==============================] - 0s 29ms/step - loss: 0.1524 - accuracy: 0.9581 - val_loss: 0.1557 - val_accuracy: 0.9534\n",
            "Epoch 41/100\n",
            "10/10 [==============================] - 0s 13ms/step - loss: 0.1476 - accuracy: 0.9595 - val_loss: 0.1582 - val_accuracy: 0.9542\n",
            "Epoch 42/100\n",
            "10/10 [==============================] - 0s 14ms/step - loss: 0.1500 - accuracy: 0.9585 - val_loss: 0.1559 - val_accuracy: 0.9560\n",
            "Epoch 43/100\n",
            "10/10 [==============================] - 0s 14ms/step - loss: 0.1529 - accuracy: 0.9574 - val_loss: 0.1603 - val_accuracy: 0.9532\n",
            "Epoch 44/100\n",
            "10/10 [==============================] - 0s 13ms/step - loss: 0.1489 - accuracy: 0.9593 - val_loss: 0.1551 - val_accuracy: 0.9556\n",
            "Epoch 45/100\n",
            "10/10 [==============================] - 0s 13ms/step - loss: 0.1467 - accuracy: 0.9611 - val_loss: 0.1525 - val_accuracy: 0.9576\n",
            "Epoch 46/100\n",
            "10/10 [==============================] - 0s 14ms/step - loss: 0.1482 - accuracy: 0.9589 - val_loss: 0.1487 - val_accuracy: 0.9600\n",
            "Epoch 47/100\n",
            "10/10 [==============================] - 0s 13ms/step - loss: 0.1448 - accuracy: 0.9617 - val_loss: 0.1537 - val_accuracy: 0.9562\n",
            "Epoch 48/100\n",
            "10/10 [==============================] - 0s 13ms/step - loss: 0.1425 - accuracy: 0.9619 - val_loss: 0.1595 - val_accuracy: 0.9550\n",
            "Epoch 49/100\n",
            "10/10 [==============================] - 0s 13ms/step - loss: 0.1412 - accuracy: 0.9629 - val_loss: 0.1543 - val_accuracy: 0.9560\n",
            "Epoch 50/100\n",
            "10/10 [==============================] - 0s 14ms/step - loss: 0.1436 - accuracy: 0.9627 - val_loss: 0.1553 - val_accuracy: 0.9560\n",
            "Epoch 51/100\n",
            "10/10 [==============================] - 0s 15ms/step - loss: 0.1343 - accuracy: 0.9649 - val_loss: 0.1560 - val_accuracy: 0.9548\n",
            "Epoch 52/100\n",
            "10/10 [==============================] - 0s 13ms/step - loss: 0.1384 - accuracy: 0.9638 - val_loss: 0.1569 - val_accuracy: 0.9534\n",
            "Epoch 53/100\n",
            "10/10 [==============================] - 0s 14ms/step - loss: 0.1378 - accuracy: 0.9642 - val_loss: 0.1538 - val_accuracy: 0.9570\n",
            "Epoch 54/100\n",
            "10/10 [==============================] - 0s 14ms/step - loss: 0.1376 - accuracy: 0.9627 - val_loss: 0.1556 - val_accuracy: 0.9558\n",
            "Epoch 55/100\n",
            "10/10 [==============================] - 0s 13ms/step - loss: 0.1380 - accuracy: 0.9635 - val_loss: 0.1606 - val_accuracy: 0.9532\n",
            "Epoch 56/100\n",
            "10/10 [==============================] - 0s 13ms/step - loss: 0.1433 - accuracy: 0.9614 - val_loss: 0.1585 - val_accuracy: 0.9544\n",
            "Epoch 57/100\n",
            "10/10 [==============================] - 0s 15ms/step - loss: 0.1450 - accuracy: 0.9592 - val_loss: 0.1582 - val_accuracy: 0.9542\n",
            "Epoch 58/100\n",
            "10/10 [==============================] - 0s 14ms/step - loss: 0.1369 - accuracy: 0.9633 - val_loss: 0.1567 - val_accuracy: 0.9566\n",
            "Epoch 59/100\n",
            "10/10 [==============================] - 0s 13ms/step - loss: 0.1338 - accuracy: 0.9644 - val_loss: 0.1547 - val_accuracy: 0.9568\n",
            "Epoch 60/100\n",
            "10/10 [==============================] - 0s 15ms/step - loss: 0.1315 - accuracy: 0.9653 - val_loss: 0.1513 - val_accuracy: 0.9604\n",
            "Epoch 61/100\n",
            "10/10 [==============================] - 0s 15ms/step - loss: 0.1294 - accuracy: 0.9657 - val_loss: 0.1496 - val_accuracy: 0.9584\n",
            "Epoch 62/100\n",
            "10/10 [==============================] - 0s 14ms/step - loss: 0.1262 - accuracy: 0.9677 - val_loss: 0.1509 - val_accuracy: 0.9596\n",
            "Epoch 63/100\n",
            "10/10 [==============================] - 0s 14ms/step - loss: 0.1308 - accuracy: 0.9656 - val_loss: 0.1541 - val_accuracy: 0.9568\n",
            "Epoch 64/100\n",
            "10/10 [==============================] - 0s 14ms/step - loss: 0.1311 - accuracy: 0.9648 - val_loss: 0.1526 - val_accuracy: 0.9574\n",
            "Epoch 65/100\n",
            "10/10 [==============================] - 0s 13ms/step - loss: 0.1299 - accuracy: 0.9654 - val_loss: 0.1488 - val_accuracy: 0.9588\n",
            "Epoch 66/100\n",
            "10/10 [==============================] - 0s 14ms/step - loss: 0.1327 - accuracy: 0.9662 - val_loss: 0.1514 - val_accuracy: 0.9584\n",
            "Epoch 67/100\n",
            "10/10 [==============================] - 0s 13ms/step - loss: 0.1290 - accuracy: 0.9664 - val_loss: 0.1591 - val_accuracy: 0.9540\n",
            "Epoch 68/100\n",
            "10/10 [==============================] - 0s 13ms/step - loss: 0.1287 - accuracy: 0.9657 - val_loss: 0.1548 - val_accuracy: 0.9558\n",
            "Epoch 69/100\n",
            "10/10 [==============================] - 0s 14ms/step - loss: 0.1285 - accuracy: 0.9665 - val_loss: 0.1532 - val_accuracy: 0.9560\n",
            "Epoch 70/100\n",
            "10/10 [==============================] - 0s 13ms/step - loss: 0.1303 - accuracy: 0.9660 - val_loss: 0.1516 - val_accuracy: 0.9574\n",
            "Epoch 71/100\n",
            "10/10 [==============================] - 0s 14ms/step - loss: 0.1292 - accuracy: 0.9655 - val_loss: 0.1474 - val_accuracy: 0.9600\n",
            "Epoch 72/100\n",
            "10/10 [==============================] - 0s 14ms/step - loss: 0.1292 - accuracy: 0.9676 - val_loss: 0.1532 - val_accuracy: 0.9582\n",
            "Epoch 73/100\n",
            "10/10 [==============================] - 0s 14ms/step - loss: 0.1274 - accuracy: 0.9673 - val_loss: 0.1510 - val_accuracy: 0.9560\n",
            "Epoch 74/100\n",
            "10/10 [==============================] - 0s 14ms/step - loss: 0.1277 - accuracy: 0.9667 - val_loss: 0.1486 - val_accuracy: 0.9578\n",
            "Epoch 75/100\n",
            "10/10 [==============================] - 0s 14ms/step - loss: 0.1279 - accuracy: 0.9677 - val_loss: 0.1470 - val_accuracy: 0.9582\n",
            "Epoch 76/100\n",
            "10/10 [==============================] - 0s 13ms/step - loss: 0.1269 - accuracy: 0.9669 - val_loss: 0.1521 - val_accuracy: 0.9582\n",
            "Epoch 77/100\n",
            "10/10 [==============================] - 0s 14ms/step - loss: 0.1258 - accuracy: 0.9675 - val_loss: 0.1538 - val_accuracy: 0.9542\n",
            "Epoch 78/100\n",
            "10/10 [==============================] - 0s 13ms/step - loss: 0.1249 - accuracy: 0.9673 - val_loss: 0.1470 - val_accuracy: 0.9590\n",
            "Epoch 79/100\n",
            "10/10 [==============================] - 0s 14ms/step - loss: 0.1272 - accuracy: 0.9672 - val_loss: 0.1503 - val_accuracy: 0.9582\n",
            "Epoch 80/100\n",
            "10/10 [==============================] - 0s 13ms/step - loss: 0.1261 - accuracy: 0.9668 - val_loss: 0.1563 - val_accuracy: 0.9554\n",
            "Epoch 81/100\n",
            "10/10 [==============================] - 0s 14ms/step - loss: 0.1298 - accuracy: 0.9643 - val_loss: 0.1487 - val_accuracy: 0.9596\n",
            "Epoch 82/100\n",
            "10/10 [==============================] - 0s 13ms/step - loss: 0.1267 - accuracy: 0.9656 - val_loss: 0.1532 - val_accuracy: 0.9574\n",
            "Epoch 83/100\n",
            "10/10 [==============================] - 0s 13ms/step - loss: 0.1251 - accuracy: 0.9658 - val_loss: 0.1444 - val_accuracy: 0.9602\n",
            "Epoch 84/100\n",
            "10/10 [==============================] - 0s 14ms/step - loss: 0.1231 - accuracy: 0.9668 - val_loss: 0.1503 - val_accuracy: 0.9582\n",
            "Epoch 85/100\n",
            "10/10 [==============================] - 0s 14ms/step - loss: 0.1216 - accuracy: 0.9688 - val_loss: 0.1500 - val_accuracy: 0.9576\n",
            "Epoch 86/100\n",
            "10/10 [==============================] - 0s 13ms/step - loss: 0.1200 - accuracy: 0.9686 - val_loss: 0.1492 - val_accuracy: 0.9576\n",
            "Epoch 87/100\n",
            "10/10 [==============================] - 0s 15ms/step - loss: 0.1197 - accuracy: 0.9688 - val_loss: 0.1481 - val_accuracy: 0.9584\n",
            "Epoch 88/100\n",
            "10/10 [==============================] - 0s 13ms/step - loss: 0.1197 - accuracy: 0.9687 - val_loss: 0.1497 - val_accuracy: 0.9584\n",
            "Epoch 89/100\n",
            "10/10 [==============================] - 0s 14ms/step - loss: 0.1199 - accuracy: 0.9682 - val_loss: 0.1514 - val_accuracy: 0.9564\n",
            "Epoch 90/100\n",
            "10/10 [==============================] - 0s 14ms/step - loss: 0.1217 - accuracy: 0.9663 - val_loss: 0.1470 - val_accuracy: 0.9594\n",
            "Epoch 91/100\n",
            "10/10 [==============================] - 0s 13ms/step - loss: 0.1213 - accuracy: 0.9688 - val_loss: 0.1476 - val_accuracy: 0.9582\n",
            "Epoch 92/100\n",
            "10/10 [==============================] - 0s 13ms/step - loss: 0.1191 - accuracy: 0.9694 - val_loss: 0.1473 - val_accuracy: 0.9598\n",
            "Epoch 93/100\n",
            "10/10 [==============================] - 0s 14ms/step - loss: 0.1185 - accuracy: 0.9691 - val_loss: 0.1473 - val_accuracy: 0.9572\n",
            "Epoch 94/100\n",
            "10/10 [==============================] - 0s 14ms/step - loss: 0.1187 - accuracy: 0.9694 - val_loss: 0.1472 - val_accuracy: 0.9584\n",
            "Epoch 95/100\n",
            "10/10 [==============================] - 0s 14ms/step - loss: 0.1155 - accuracy: 0.9701 - val_loss: 0.1451 - val_accuracy: 0.9584\n",
            "Epoch 96/100\n",
            "10/10 [==============================] - 0s 14ms/step - loss: 0.1179 - accuracy: 0.9705 - val_loss: 0.1460 - val_accuracy: 0.9588\n",
            "Epoch 97/100\n",
            "10/10 [==============================] - 0s 14ms/step - loss: 0.1208 - accuracy: 0.9685 - val_loss: 0.1447 - val_accuracy: 0.9584\n",
            "Epoch 98/100\n",
            "10/10 [==============================] - 0s 27ms/step - loss: 0.1168 - accuracy: 0.9691 - val_loss: 0.1472 - val_accuracy: 0.9568\n",
            "Epoch 99/100\n",
            "10/10 [==============================] - 0s 15ms/step - loss: 0.1151 - accuracy: 0.9698 - val_loss: 0.1528 - val_accuracy: 0.9556\n",
            "Epoch 100/100\n",
            "10/10 [==============================] - 0s 13ms/step - loss: 0.1165 - accuracy: 0.9684 - val_loss: 0.1497 - val_accuracy: 0.9568\n"
          ],
          "name": "stdout"
        }
      ]
    },
    {
      "cell_type": "code",
      "metadata": {
        "id": "kctpWPoVVdfT",
        "outputId": "40c5bd82-d9e5-4752-b6f3-de670b1cc81d",
        "colab": {
          "base_uri": "https://localhost:8080/"
        }
      },
      "source": [
        "ts_model.evaluate(x_test, y_test)"
      ],
      "execution_count": 150,
      "outputs": [
        {
          "output_type": "stream",
          "text": [
            "157/157 [==============================] - 0s 1ms/step - loss: 0.2619 - accuracy: 0.9202\n"
          ],
          "name": "stdout"
        },
        {
          "output_type": "execute_result",
          "data": {
            "text/plain": [
              "[0.26193633675575256, 0.920199990272522]"
            ]
          },
          "metadata": {
            "tags": []
          },
          "execution_count": 150
        }
      ]
    }
  ]
}