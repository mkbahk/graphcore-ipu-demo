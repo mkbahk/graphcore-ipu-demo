{
  "nbformat": 4,
  "nbformat_minor": 0,
  "metadata": {
    "colab": {
      "name": "MNIST-Keras-101-Sample-JSH.ipynb",
      "provenance": [],
      "collapsed_sections": [],
      "authorship_tag": "ABX9TyMoiMJgeDGs8VYYeHwbwY67",
      "include_colab_link": true
    },
    "kernelspec": {
      "name": "python3",
      "display_name": "Python 3"
    }
  },
  "cells": [
    {
      "cell_type": "markdown",
      "metadata": {
        "id": "view-in-github",
        "colab_type": "text"
      },
      "source": [
        "<a href=\"https://colab.research.google.com/github/mkbahk/graphcore-ipu-demo/blob/main/MNIST_Keras_101_Sample_JSH.ipynb\" target=\"_parent\"><img src=\"https://colab.research.google.com/assets/colab-badge.svg\" alt=\"Open In Colab\"/></a>"
      ]
    },
    {
      "cell_type": "markdown",
      "metadata": {
        "id": "c7GMXBHQvU7l"
      },
      "source": [
        "#Module Import"
      ]
    },
    {
      "cell_type": "code",
      "metadata": {
        "id": "57Lmu3UgvJoH"
      },
      "source": [
        "from tensorflow import keras\n",
        "from keras.models import load_model"
      ],
      "execution_count": 193,
      "outputs": []
    },
    {
      "cell_type": "markdown",
      "metadata": {
        "id": "f2o6ghk3vgj3"
      },
      "source": [
        "#Load MNIST DataSet\n"
      ]
    },
    {
      "cell_type": "code",
      "metadata": {
        "id": "UQ-Zd6MFvnP0",
        "colab": {
          "base_uri": "https://localhost:8080/"
        },
        "outputId": "56a213e8-d559-4c9a-af96-cbc27dff3576"
      },
      "source": [
        "(x_train, y_train), (x_test, y_test) = keras.datasets.mnist.load_data()\n",
        "\n",
        "print(\"# of x_train\", len(x_train))\n",
        "print(\"# of y_train\", len(y_train))\n",
        "print(\"# of x_test\", len(x_test))\n",
        "print(\"# of y_test\", len(y_test))"
      ],
      "execution_count": 194,
      "outputs": [
        {
          "output_type": "stream",
          "text": [
            "# of x_train 60000\n",
            "# of y_train 60000\n",
            "# of x_test 10000\n",
            "# of y_test 10000\n"
          ],
          "name": "stdout"
        }
      ]
    },
    {
      "cell_type": "markdown",
      "metadata": {
        "id": "raERFh4uJque"
      },
      "source": [
        "#Transfer Learning 데모를 위하 Training Set을 2개로 슬라이싱\n",
        "\n"
      ]
    },
    {
      "cell_type": "code",
      "metadata": {
        "colab": {
          "base_uri": "https://localhost:8080/"
        },
        "id": "WpIloZblJzFw",
        "outputId": "34899f55-9c0d-4f1d-cb27-5a2b17a5320c"
      },
      "source": [
        "tx_train = x_train[50000:]\n",
        "ty_train = y_train[50000:]\n",
        "\n",
        "x_train = x_train[0:50000]\n",
        "y_train = y_train[0:50000]\n",
        "\n",
        "print(\"# of x_train\", len(x_train))\n",
        "print(\"# of y_train\", len(y_train))\n",
        "\n",
        "print(\"# of tx_train\", len(tx_train))\n",
        "print(\"# of ty_train\", len(ty_train))"
      ],
      "execution_count": 195,
      "outputs": [
        {
          "output_type": "stream",
          "text": [
            "# of x_train 50000\n",
            "# of y_train 50000\n",
            "# of tx_train 10000\n",
            "# of ty_train 10000\n"
          ],
          "name": "stdout"
        }
      ]
    },
    {
      "cell_type": "markdown",
      "metadata": {
        "id": "cKMIfSetEwYQ"
      },
      "source": [
        "#ValidationSet을 위한 TestSet 슬라이싱"
      ]
    },
    {
      "cell_type": "code",
      "metadata": {
        "colab": {
          "base_uri": "https://localhost:8080/"
        },
        "id": "Gzz_2UlcE3Se",
        "outputId": "b3af3423-c539-4431-dea6-fda8f5d1e140"
      },
      "source": [
        "x_val = x_test[5000:]\n",
        "y_val = y_test[5000:]\n",
        "\n",
        "x_test = x_test[0:5000]\n",
        "y_test = y_test[0:5000]\n",
        "\n",
        "print(\"# of x_test\", len(x_test))\n",
        "print(\"# of y_test\", len(y_test))\n",
        "\n",
        "print(\"# of x_val\", len(x_val))\n",
        "print(\"# of y_val\", len(y_val))"
      ],
      "execution_count": 196,
      "outputs": [
        {
          "output_type": "stream",
          "text": [
            "# of x_test 5000\n",
            "# of y_test 5000\n",
            "# of x_val 5000\n",
            "# of y_val 5000\n"
          ],
          "name": "stdout"
        }
      ]
    },
    {
      "cell_type": "code",
      "metadata": {
        "id": "0Tklx1amapQb",
        "colab": {
          "base_uri": "https://localhost:8080/"
        },
        "outputId": "694a1f41-3331-44b4-c015-62e33af21e41"
      },
      "source": [
        "for i in range(5):\n",
        "  print(y_train[i])\n",
        "#end of for"
      ],
      "execution_count": 197,
      "outputs": [
        {
          "output_type": "stream",
          "text": [
            "5\n",
            "0\n",
            "4\n",
            "1\n",
            "9\n"
          ],
          "name": "stdout"
        }
      ]
    },
    {
      "cell_type": "code",
      "metadata": {
        "id": "bjNWl5tCW9lJ",
        "colab": {
          "base_uri": "https://localhost:8080/",
          "height": 1000
        },
        "outputId": "4039a4df-f37d-499e-f742-0c9ac3dea9d7"
      },
      "source": [
        "import matplotlib.pyplot as plt\n",
        "\n",
        "image_index = 1 # You may select anything up to 60,000\n",
        "\n",
        "print(x_train[image_index], \"\\n\\n\") # The label is 0\n",
        "print(x_test[image_index], \"\\n\\n\") # The label is 2\n",
        "\n",
        "print(y_train[image_index], \"\\n\\n\")\n",
        "print(y_test[image_index], \"\\n\\n\")\n",
        "\n",
        "print(\"x_train\", x_train.shape, \"x_test\", x_test.shape, \"리스트(배열,행렬)\\n\\n\")\n",
        "print(\"y_train\", y_train.shape, \"y_test\", y_test.shape, \"리스트(배열,행렬)\\n\\n\")\n",
        "\n",
        "\n",
        "plt.imshow(x_train[image_index], cmap='Greys')\n",
        "\n"
      ],
      "execution_count": 198,
      "outputs": [
        {
          "output_type": "stream",
          "text": [
            "[[  0   0   0   0   0   0   0   0   0   0   0   0   0   0   0   0   0   0\n",
            "    0   0   0   0   0   0   0   0   0   0]\n",
            " [  0   0   0   0   0   0   0   0   0   0   0   0   0   0   0   0   0   0\n",
            "    0   0   0   0   0   0   0   0   0   0]\n",
            " [  0   0   0   0   0   0   0   0   0   0   0   0   0   0   0   0   0   0\n",
            "    0   0   0   0   0   0   0   0   0   0]\n",
            " [  0   0   0   0   0   0   0   0   0   0   0   0   0   0   0   0   0   0\n",
            "    0   0   0   0   0   0   0   0   0   0]\n",
            " [  0   0   0   0   0   0   0   0   0   0   0   0   0   0   0  51 159 253\n",
            "  159  50   0   0   0   0   0   0   0   0]\n",
            " [  0   0   0   0   0   0   0   0   0   0   0   0   0   0  48 238 252 252\n",
            "  252 237   0   0   0   0   0   0   0   0]\n",
            " [  0   0   0   0   0   0   0   0   0   0   0   0   0  54 227 253 252 239\n",
            "  233 252  57   6   0   0   0   0   0   0]\n",
            " [  0   0   0   0   0   0   0   0   0   0   0  10  60 224 252 253 252 202\n",
            "   84 252 253 122   0   0   0   0   0   0]\n",
            " [  0   0   0   0   0   0   0   0   0   0   0 163 252 252 252 253 252 252\n",
            "   96 189 253 167   0   0   0   0   0   0]\n",
            " [  0   0   0   0   0   0   0   0   0   0  51 238 253 253 190 114 253 228\n",
            "   47  79 255 168   0   0   0   0   0   0]\n",
            " [  0   0   0   0   0   0   0   0   0  48 238 252 252 179  12  75 121  21\n",
            "    0   0 253 243  50   0   0   0   0   0]\n",
            " [  0   0   0   0   0   0   0   0  38 165 253 233 208  84   0   0   0   0\n",
            "    0   0 253 252 165   0   0   0   0   0]\n",
            " [  0   0   0   0   0   0   0   7 178 252 240  71  19  28   0   0   0   0\n",
            "    0   0 253 252 195   0   0   0   0   0]\n",
            " [  0   0   0   0   0   0   0  57 252 252  63   0   0   0   0   0   0   0\n",
            "    0   0 253 252 195   0   0   0   0   0]\n",
            " [  0   0   0   0   0   0   0 198 253 190   0   0   0   0   0   0   0   0\n",
            "    0   0 255 253 196   0   0   0   0   0]\n",
            " [  0   0   0   0   0   0  76 246 252 112   0   0   0   0   0   0   0   0\n",
            "    0   0 253 252 148   0   0   0   0   0]\n",
            " [  0   0   0   0   0   0  85 252 230  25   0   0   0   0   0   0   0   0\n",
            "    7 135 253 186  12   0   0   0   0   0]\n",
            " [  0   0   0   0   0   0  85 252 223   0   0   0   0   0   0   0   0   7\n",
            "  131 252 225  71   0   0   0   0   0   0]\n",
            " [  0   0   0   0   0   0  85 252 145   0   0   0   0   0   0   0  48 165\n",
            "  252 173   0   0   0   0   0   0   0   0]\n",
            " [  0   0   0   0   0   0  86 253 225   0   0   0   0   0   0 114 238 253\n",
            "  162   0   0   0   0   0   0   0   0   0]\n",
            " [  0   0   0   0   0   0  85 252 249 146  48  29  85 178 225 253 223 167\n",
            "   56   0   0   0   0   0   0   0   0   0]\n",
            " [  0   0   0   0   0   0  85 252 252 252 229 215 252 252 252 196 130   0\n",
            "    0   0   0   0   0   0   0   0   0   0]\n",
            " [  0   0   0   0   0   0  28 199 252 252 253 252 252 233 145   0   0   0\n",
            "    0   0   0   0   0   0   0   0   0   0]\n",
            " [  0   0   0   0   0   0   0  25 128 252 253 252 141  37   0   0   0   0\n",
            "    0   0   0   0   0   0   0   0   0   0]\n",
            " [  0   0   0   0   0   0   0   0   0   0   0   0   0   0   0   0   0   0\n",
            "    0   0   0   0   0   0   0   0   0   0]\n",
            " [  0   0   0   0   0   0   0   0   0   0   0   0   0   0   0   0   0   0\n",
            "    0   0   0   0   0   0   0   0   0   0]\n",
            " [  0   0   0   0   0   0   0   0   0   0   0   0   0   0   0   0   0   0\n",
            "    0   0   0   0   0   0   0   0   0   0]\n",
            " [  0   0   0   0   0   0   0   0   0   0   0   0   0   0   0   0   0   0\n",
            "    0   0   0   0   0   0   0   0   0   0]] \n",
            "\n",
            "\n",
            "[[  0   0   0   0   0   0   0   0   0   0   0   0   0   0   0   0   0   0\n",
            "    0   0   0   0   0   0   0   0   0   0]\n",
            " [  0   0   0   0   0   0   0   0   0   0   0   0   0   0   0   0   0   0\n",
            "    0   0   0   0   0   0   0   0   0   0]\n",
            " [  0   0   0   0   0   0   0   0   0   0   0   0   0   0   0   0   0   0\n",
            "    0   0   0   0   0   0   0   0   0   0]\n",
            " [  0   0   0   0   0   0   0   0   0   0 116 125 171 255 255 150  93   0\n",
            "    0   0   0   0   0   0   0   0   0   0]\n",
            " [  0   0   0   0   0   0   0   0   0 169 253 253 253 253 253 253 218  30\n",
            "    0   0   0   0   0   0   0   0   0   0]\n",
            " [  0   0   0   0   0   0   0   0 169 253 253 253 213 142 176 253 253 122\n",
            "    0   0   0   0   0   0   0   0   0   0]\n",
            " [  0   0   0   0   0   0   0  52 250 253 210  32  12   0   6 206 253 140\n",
            "    0   0   0   0   0   0   0   0   0   0]\n",
            " [  0   0   0   0   0   0   0  77 251 210  25   0   0   0 122 248 253  65\n",
            "    0   0   0   0   0   0   0   0   0   0]\n",
            " [  0   0   0   0   0   0   0   0  31  18   0   0   0   0 209 253 253  65\n",
            "    0   0   0   0   0   0   0   0   0   0]\n",
            " [  0   0   0   0   0   0   0   0   0   0   0   0   0 117 247 253 198  10\n",
            "    0   0   0   0   0   0   0   0   0   0]\n",
            " [  0   0   0   0   0   0   0   0   0   0   0   0  76 247 253 231  63   0\n",
            "    0   0   0   0   0   0   0   0   0   0]\n",
            " [  0   0   0   0   0   0   0   0   0   0   0   0 128 253 253 144   0   0\n",
            "    0   0   0   0   0   0   0   0   0   0]\n",
            " [  0   0   0   0   0   0   0   0   0   0   0 176 246 253 159  12   0   0\n",
            "    0   0   0   0   0   0   0   0   0   0]\n",
            " [  0   0   0   0   0   0   0   0   0   0  25 234 253 233  35   0   0   0\n",
            "    0   0   0   0   0   0   0   0   0   0]\n",
            " [  0   0   0   0   0   0   0   0   0   0 198 253 253 141   0   0   0   0\n",
            "    0   0   0   0   0   0   0   0   0   0]\n",
            " [  0   0   0   0   0   0   0   0   0  78 248 253 189  12   0   0   0   0\n",
            "    0   0   0   0   0   0   0   0   0   0]\n",
            " [  0   0   0   0   0   0   0   0  19 200 253 253 141   0   0   0   0   0\n",
            "    0   0   0   0   0   0   0   0   0   0]\n",
            " [  0   0   0   0   0   0   0   0 134 253 253 173  12   0   0   0   0   0\n",
            "    0   0   0   0   0   0   0   0   0   0]\n",
            " [  0   0   0   0   0   0   0   0 248 253 253  25   0   0   0   0   0   0\n",
            "    0   0   0   0   0   0   0   0   0   0]\n",
            " [  0   0   0   0   0   0   0   0 248 253 253  43  20  20  20  20   5   0\n",
            "    5  20  20  37 150 150 150 147  10   0]\n",
            " [  0   0   0   0   0   0   0   0 248 253 253 253 253 253 253 253 168 143\n",
            "  166 253 253 253 253 253 253 253 123   0]\n",
            " [  0   0   0   0   0   0   0   0 174 253 253 253 253 253 253 253 253 253\n",
            "  253 253 249 247 247 169 117 117  57   0]\n",
            " [  0   0   0   0   0   0   0   0   0 118 123 123 123 166 253 253 253 155\n",
            "  123 123  41   0   0   0   0   0   0   0]\n",
            " [  0   0   0   0   0   0   0   0   0   0   0   0   0   0   0   0   0   0\n",
            "    0   0   0   0   0   0   0   0   0   0]\n",
            " [  0   0   0   0   0   0   0   0   0   0   0   0   0   0   0   0   0   0\n",
            "    0   0   0   0   0   0   0   0   0   0]\n",
            " [  0   0   0   0   0   0   0   0   0   0   0   0   0   0   0   0   0   0\n",
            "    0   0   0   0   0   0   0   0   0   0]\n",
            " [  0   0   0   0   0   0   0   0   0   0   0   0   0   0   0   0   0   0\n",
            "    0   0   0   0   0   0   0   0   0   0]\n",
            " [  0   0   0   0   0   0   0   0   0   0   0   0   0   0   0   0   0   0\n",
            "    0   0   0   0   0   0   0   0   0   0]] \n",
            "\n",
            "\n",
            "0 \n",
            "\n",
            "\n",
            "2 \n",
            "\n",
            "\n",
            "x_train (50000, 28, 28) x_test (5000, 28, 28) 리스트(배열,행렬)\n",
            "\n",
            "\n",
            "y_train (50000,) y_test (5000,) 리스트(배열,행렬)\n",
            "\n",
            "\n"
          ],
          "name": "stdout"
        },
        {
          "output_type": "execute_result",
          "data": {
            "text/plain": [
              "<matplotlib.image.AxesImage at 0x7fc7465f7240>"
            ]
          },
          "metadata": {
            "tags": []
          },
          "execution_count": 198
        },
        {
          "output_type": "display_data",
          "data": {
            "image/png": "[encoded data removed]",
            "text/plain": [
              "<Figure size 432x288 with 1 Axes>"
            ]
          },
          "metadata": {
            "tags": [],
            "needs_background": "light"
          }
        }
      ]
    },
    {
      "cell_type": "markdown",
      "metadata": {
        "id": "vUDbkQ6FwIu9"
      },
      "source": [
        "#one-hot enconding 수행<br>\n",
        "5 --> 0 0 0 0 0 1 0 0 0 0<br>\n",
        "1 --> 0 1 0 0 0 0 0 0 0 0<br>\n"
      ]
    },
    {
      "cell_type": "code",
      "metadata": {
        "id": "fEv9hkBBwEJj",
        "colab": {
          "base_uri": "https://localhost:8080/"
        },
        "outputId": "73ce9302-67e9-475f-d8f6-14a3912f8f67"
      },
      "source": [
        "y_train = keras.utils.to_categorical(y=y_train, num_classes = 10)\n",
        "ty_train = keras.utils.to_categorical(y=ty_train, num_classes = 10)\n",
        "y_test = keras.utils.to_categorical(y=y_test, num_classes=10)\n",
        "y_val = keras.utils.to_categorical(y=y_val, num_classes=10)\n",
        "\n",
        "#리스트 데이타들 출력해 보기\n",
        "for j in range(2):\n",
        "   print(\"\\n=====Y Train Value======\", y_train[j])\n",
        "#end of for\n",
        "\n",
        "for t in range(2):\n",
        "   print(\"\\n=====TY Train Value======\", ty_train[j])\n",
        "#end of for\n",
        "\n",
        "for k in range(2):\n",
        "   print(\"\\n=====Y Test Value======\", y_test[k])\n",
        "#end of for\n",
        "\n",
        "for v in range(2):\n",
        "   print(\"\\n=====Y Val Value======\", y_val[v])\n",
        "#end of for"
      ],
      "execution_count": 199,
      "outputs": [
        {
          "output_type": "stream",
          "text": [
            "\n",
            "=====Y Train Value====== [0. 0. 0. 0. 0. 1. 0. 0. 0. 0.]\n",
            "\n",
            "=====Y Train Value====== [1. 0. 0. 0. 0. 0. 0. 0. 0. 0.]\n",
            "\n",
            "=====TY Train Value====== [0. 0. 0. 0. 0. 0. 0. 0. 1. 0.]\n",
            "\n",
            "=====TY Train Value====== [0. 0. 0. 0. 0. 0. 0. 0. 1. 0.]\n",
            "\n",
            "=====Y Test Value====== [0. 0. 0. 0. 0. 0. 0. 1. 0. 0.]\n",
            "\n",
            "=====Y Test Value====== [0. 0. 1. 0. 0. 0. 0. 0. 0. 0.]\n",
            "\n",
            "=====Y Val Value====== [0. 0. 0. 1. 0. 0. 0. 0. 0. 0.]\n",
            "\n",
            "=====Y Val Value====== [0. 0. 0. 0. 0. 0. 0. 0. 0. 1.]\n"
          ],
          "name": "stdout"
        }
      ]
    },
    {
      "cell_type": "markdown",
      "metadata": {
        "id": "PWfwt_clw7Vt"
      },
      "source": [
        "#DataSet 형변환\n"
      ]
    },
    {
      "cell_type": "code",
      "metadata": {
        "id": "ZgegW8bww2bo",
        "colab": {
          "base_uri": "https://localhost:8080/"
        },
        "outputId": "a0372a80-41d5-4dc6-db27-c0fe040b4e32"
      },
      "source": [
        "x_train = x_train.reshape(50000, 28*28)\n",
        "tx_train = tx_train.reshape(10000, 28*28)\n",
        "\n",
        "x_test = x_test.reshape(5000, 28*28)\n",
        "x_val = x_val.reshape(5000, 28*28)\n",
        "\n",
        "print(x_train.shape, tx_train.shape,  x_test.shape, x_val.shape)\n",
        "print(y_train.shape, ty_train.shape, y_test.shape, x_val.shape)"
      ],
      "execution_count": 200,
      "outputs": [
        {
          "output_type": "stream",
          "text": [
            "(50000, 784) (10000, 784) (5000, 784) (5000, 784)\n",
            "(50000, 10) (10000, 10) (5000, 10) (5000, 784)\n"
          ],
          "name": "stdout"
        }
      ]
    },
    {
      "cell_type": "code",
      "metadata": {
        "id": "ZP3f4krFIO-N"
      },
      "source": [
        "# https://www.youtube.com/watch?v=UOvPeC8WOt8"
      ],
      "execution_count": 201,
      "outputs": []
    },
    {
      "cell_type": "markdown",
      "metadata": {
        "id": "t3iM_wFCxmfm"
      },
      "source": [
        "#모델 구조 생성\n"
      ]
    },
    {
      "cell_type": "code",
      "metadata": {
        "id": "dgYYrPFlxI1i"
      },
      "source": [
        "model = keras.Sequential()\n",
        "model.add(keras.layers.Dense(32, activation=\"sigmoid\", input_shape=(28*28,)))\n",
        "model.add(keras.layers.Dense(32, activation=\"sigmoid\"))\n",
        "model.add(keras.layers.Dense(10, activation=\"sigmoid\"))"
      ],
      "execution_count": 202,
      "outputs": []
    },
    {
      "cell_type": "markdown",
      "metadata": {
        "id": "-9VWPnAlNM17"
      },
      "source": [
        "모델구조 #보기"
      ]
    },
    {
      "cell_type": "code",
      "metadata": {
        "id": "uuoRRK3tNWej"
      },
      "source": [
        "model.compile(optimizer=keras.optimizers.SGD(learning_rate=0.1), loss=\"categorical_crossentropy\", metrics=['accuracy'])"
      ],
      "execution_count": 203,
      "outputs": []
    },
    {
      "cell_type": "markdown",
      "metadata": {
        "id": "Tmnw3IsqyYfc"
      },
      "source": [
        "#모델구성요소 컴파일 및 구조보기\n",
        "<br>파라메터 숫자: \n",
        "<br>dense_3: (28x28) x 32+32(bias) = 25120\n",
        "<br>dense_4: 32x32+32(bias) = 1056\n",
        "<br>dense_5: 32x10+10(bias) = 30"
      ]
    },
    {
      "cell_type": "code",
      "metadata": {
        "id": "6fpe0OuhyXW7",
        "colab": {
          "base_uri": "https://localhost:8080/"
        },
        "outputId": "7966e619-0af5-40d4-8cd8-e3f5968fc320"
      },
      "source": [
        "model.summary()"
      ],
      "execution_count": 204,
      "outputs": [
        {
          "output_type": "stream",
          "text": [
            "Model: \"sequential_13\"\n",
            "_________________________________________________________________\n",
            "Layer (type)                 Output Shape              Param #   \n",
            "=================================================================\n",
            "dense_36 (Dense)             (None, 32)                25120     \n",
            "_________________________________________________________________\n",
            "dense_37 (Dense)             (None, 32)                1056      \n",
            "_________________________________________________________________\n",
            "dense_38 (Dense)             (None, 10)                330       \n",
            "=================================================================\n",
            "Total params: 26,506\n",
            "Trainable params: 26,506\n",
            "Non-trainable params: 0\n",
            "_________________________________________________________________\n"
          ],
          "name": "stdout"
        }
      ]
    },
    {
      "cell_type": "markdown",
      "metadata": {
        "id": "O2_lwPmly8bG"
      },
      "source": [
        "#모델 훈련\n"
      ]
    },
    {
      "cell_type": "code",
      "metadata": {
        "id": "DBBANgGMyy-f",
        "colab": {
          "base_uri": "https://localhost:8080/"
        },
        "outputId": "d7d5789e-4c6a-4cf0-fb7d-ac788d8eed00"
      },
      "source": [
        "hist=model.fit(x=x_train, y=y_train, batch_size=1000, epochs=100, validation_data=(x_val, y_val))"
      ],
      "execution_count": 205,
      "outputs": [
        {
          "output_type": "stream",
          "text": [
            "Epoch 1/100\n",
            "50/50 [==============================] - 1s 12ms/step - loss: 2.2694 - accuracy: 0.2288 - val_loss: 1.9835 - val_accuracy: 0.5736\n",
            "Epoch 2/100\n",
            "50/50 [==============================] - 0s 9ms/step - loss: 1.9339 - accuracy: 0.5660 - val_loss: 1.6982 - val_accuracy: 0.7034\n",
            "Epoch 3/100\n",
            "50/50 [==============================] - 0s 9ms/step - loss: 1.6671 - accuracy: 0.6748 - val_loss: 1.4337 - val_accuracy: 0.7816\n",
            "Epoch 4/100\n",
            "50/50 [==============================] - 0s 9ms/step - loss: 1.4215 - accuracy: 0.7455 - val_loss: 1.2062 - val_accuracy: 0.8358\n",
            "Epoch 5/100\n",
            "50/50 [==============================] - 0s 9ms/step - loss: 1.2168 - accuracy: 0.7895 - val_loss: 1.0214 - val_accuracy: 0.8664\n",
            "Epoch 6/100\n",
            "50/50 [==============================] - 0s 8ms/step - loss: 1.0481 - accuracy: 0.8220 - val_loss: 0.8753 - val_accuracy: 0.8740\n",
            "Epoch 7/100\n",
            "50/50 [==============================] - 0s 9ms/step - loss: 0.9090 - accuracy: 0.8447 - val_loss: 0.7674 - val_accuracy: 0.8880\n",
            "Epoch 8/100\n",
            "50/50 [==============================] - 0s 9ms/step - loss: 0.8039 - accuracy: 0.8571 - val_loss: 0.6677 - val_accuracy: 0.9002\n",
            "Epoch 9/100\n",
            "50/50 [==============================] - 0s 9ms/step - loss: 0.7197 - accuracy: 0.8660 - val_loss: 0.5903 - val_accuracy: 0.9084\n",
            "Epoch 10/100\n",
            "50/50 [==============================] - 0s 9ms/step - loss: 0.6476 - accuracy: 0.8755 - val_loss: 0.5406 - val_accuracy: 0.9088\n",
            "Epoch 11/100\n",
            "50/50 [==============================] - 0s 9ms/step - loss: 0.6006 - accuracy: 0.8766 - val_loss: 0.4856 - val_accuracy: 0.9172\n",
            "Epoch 12/100\n",
            "50/50 [==============================] - 0s 9ms/step - loss: 0.5511 - accuracy: 0.8852 - val_loss: 0.4500 - val_accuracy: 0.9206\n",
            "Epoch 13/100\n",
            "50/50 [==============================] - 0s 9ms/step - loss: 0.5172 - accuracy: 0.8896 - val_loss: 0.4208 - val_accuracy: 0.9202\n",
            "Epoch 14/100\n",
            "50/50 [==============================] - 0s 9ms/step - loss: 0.4976 - accuracy: 0.8884 - val_loss: 0.3933 - val_accuracy: 0.9290\n",
            "Epoch 15/100\n",
            "50/50 [==============================] - 0s 9ms/step - loss: 0.4662 - accuracy: 0.8964 - val_loss: 0.3704 - val_accuracy: 0.9250\n",
            "Epoch 16/100\n",
            "50/50 [==============================] - 0s 9ms/step - loss: 0.4504 - accuracy: 0.8937 - val_loss: 0.3549 - val_accuracy: 0.9280\n",
            "Epoch 17/100\n",
            "50/50 [==============================] - 0s 9ms/step - loss: 0.4320 - accuracy: 0.8994 - val_loss: 0.3453 - val_accuracy: 0.9214\n",
            "Epoch 18/100\n",
            "50/50 [==============================] - 0s 9ms/step - loss: 0.4122 - accuracy: 0.9011 - val_loss: 0.3318 - val_accuracy: 0.9246\n",
            "Epoch 19/100\n",
            "50/50 [==============================] - 0s 9ms/step - loss: 0.4026 - accuracy: 0.9024 - val_loss: 0.3202 - val_accuracy: 0.9312\n",
            "Epoch 20/100\n",
            "50/50 [==============================] - 0s 9ms/step - loss: 0.3947 - accuracy: 0.9043 - val_loss: 0.2992 - val_accuracy: 0.9334\n",
            "Epoch 21/100\n",
            "50/50 [==============================] - 0s 9ms/step - loss: 0.3794 - accuracy: 0.9060 - val_loss: 0.3005 - val_accuracy: 0.9342\n",
            "Epoch 22/100\n",
            "50/50 [==============================] - 0s 9ms/step - loss: 0.3760 - accuracy: 0.9041 - val_loss: 0.2950 - val_accuracy: 0.9372\n",
            "Epoch 23/100\n",
            "50/50 [==============================] - 0s 9ms/step - loss: 0.3625 - accuracy: 0.9087 - val_loss: 0.2963 - val_accuracy: 0.9294\n",
            "Epoch 24/100\n",
            "50/50 [==============================] - 0s 9ms/step - loss: 0.3551 - accuracy: 0.9089 - val_loss: 0.2869 - val_accuracy: 0.9338\n",
            "Epoch 25/100\n",
            "50/50 [==============================] - 0s 9ms/step - loss: 0.3431 - accuracy: 0.9138 - val_loss: 0.2682 - val_accuracy: 0.9396\n",
            "Epoch 26/100\n",
            "50/50 [==============================] - 0s 9ms/step - loss: 0.3398 - accuracy: 0.9119 - val_loss: 0.2679 - val_accuracy: 0.9374\n",
            "Epoch 27/100\n",
            "50/50 [==============================] - 0s 9ms/step - loss: 0.3322 - accuracy: 0.9139 - val_loss: 0.2711 - val_accuracy: 0.9362\n",
            "Epoch 28/100\n",
            "50/50 [==============================] - 0s 9ms/step - loss: 0.3296 - accuracy: 0.9128 - val_loss: 0.2661 - val_accuracy: 0.9372\n",
            "Epoch 29/100\n",
            "50/50 [==============================] - 0s 9ms/step - loss: 0.3202 - accuracy: 0.9153 - val_loss: 0.2543 - val_accuracy: 0.9406\n",
            "Epoch 30/100\n",
            "50/50 [==============================] - 0s 10ms/step - loss: 0.3141 - accuracy: 0.9173 - val_loss: 0.2530 - val_accuracy: 0.9370\n",
            "Epoch 31/100\n",
            "50/50 [==============================] - 0s 9ms/step - loss: 0.3135 - accuracy: 0.9164 - val_loss: 0.2474 - val_accuracy: 0.9378\n",
            "Epoch 32/100\n",
            "50/50 [==============================] - 0s 9ms/step - loss: 0.3108 - accuracy: 0.9170 - val_loss: 0.2434 - val_accuracy: 0.9404\n",
            "Epoch 33/100\n",
            "50/50 [==============================] - 0s 9ms/step - loss: 0.3108 - accuracy: 0.9161 - val_loss: 0.2506 - val_accuracy: 0.9412\n",
            "Epoch 34/100\n",
            "50/50 [==============================] - 0s 9ms/step - loss: 0.3082 - accuracy: 0.9151 - val_loss: 0.2376 - val_accuracy: 0.9444\n",
            "Epoch 35/100\n",
            "50/50 [==============================] - 0s 9ms/step - loss: 0.2973 - accuracy: 0.9199 - val_loss: 0.2369 - val_accuracy: 0.9398\n",
            "Epoch 36/100\n",
            "50/50 [==============================] - 0s 9ms/step - loss: 0.2917 - accuracy: 0.9225 - val_loss: 0.2339 - val_accuracy: 0.9424\n",
            "Epoch 37/100\n",
            "50/50 [==============================] - 1s 13ms/step - loss: 0.2920 - accuracy: 0.9201 - val_loss: 0.2239 - val_accuracy: 0.9456\n",
            "Epoch 38/100\n",
            "50/50 [==============================] - 0s 9ms/step - loss: 0.2787 - accuracy: 0.9249 - val_loss: 0.2289 - val_accuracy: 0.9416\n",
            "Epoch 39/100\n",
            "50/50 [==============================] - 0s 9ms/step - loss: 0.2841 - accuracy: 0.9227 - val_loss: 0.2305 - val_accuracy: 0.9416\n",
            "Epoch 40/100\n",
            "50/50 [==============================] - 0s 9ms/step - loss: 0.2877 - accuracy: 0.9209 - val_loss: 0.2277 - val_accuracy: 0.9430\n",
            "Epoch 41/100\n",
            "50/50 [==============================] - 0s 9ms/step - loss: 0.2787 - accuracy: 0.9239 - val_loss: 0.2142 - val_accuracy: 0.9454\n",
            "Epoch 42/100\n",
            "50/50 [==============================] - 0s 9ms/step - loss: 0.2703 - accuracy: 0.9259 - val_loss: 0.2094 - val_accuracy: 0.9470\n",
            "Epoch 43/100\n",
            "50/50 [==============================] - 0s 9ms/step - loss: 0.2650 - accuracy: 0.9279 - val_loss: 0.2212 - val_accuracy: 0.9412\n",
            "Epoch 44/100\n",
            "50/50 [==============================] - 0s 9ms/step - loss: 0.2714 - accuracy: 0.9251 - val_loss: 0.2207 - val_accuracy: 0.9422\n",
            "Epoch 45/100\n",
            "50/50 [==============================] - 0s 9ms/step - loss: 0.2620 - accuracy: 0.9293 - val_loss: 0.2174 - val_accuracy: 0.9444\n",
            "Epoch 46/100\n",
            "50/50 [==============================] - 0s 9ms/step - loss: 0.2597 - accuracy: 0.9285 - val_loss: 0.2200 - val_accuracy: 0.9424\n",
            "Epoch 47/100\n",
            "50/50 [==============================] - 0s 9ms/step - loss: 0.2609 - accuracy: 0.9281 - val_loss: 0.2106 - val_accuracy: 0.9442\n",
            "Epoch 48/100\n",
            "50/50 [==============================] - 0s 9ms/step - loss: 0.2624 - accuracy: 0.9274 - val_loss: 0.2112 - val_accuracy: 0.9466\n",
            "Epoch 49/100\n",
            "50/50 [==============================] - 0s 9ms/step - loss: 0.2585 - accuracy: 0.9277 - val_loss: 0.2070 - val_accuracy: 0.9460\n",
            "Epoch 50/100\n",
            "50/50 [==============================] - 0s 9ms/step - loss: 0.2514 - accuracy: 0.9304 - val_loss: 0.2058 - val_accuracy: 0.9498\n",
            "Epoch 51/100\n",
            "50/50 [==============================] - 0s 9ms/step - loss: 0.2592 - accuracy: 0.9254 - val_loss: 0.2113 - val_accuracy: 0.9430\n",
            "Epoch 52/100\n",
            "50/50 [==============================] - 0s 9ms/step - loss: 0.2544 - accuracy: 0.9285 - val_loss: 0.1972 - val_accuracy: 0.9488\n",
            "Epoch 53/100\n",
            "50/50 [==============================] - 0s 9ms/step - loss: 0.2555 - accuracy: 0.9284 - val_loss: 0.2053 - val_accuracy: 0.9458\n",
            "Epoch 54/100\n",
            "50/50 [==============================] - 0s 9ms/step - loss: 0.2520 - accuracy: 0.9293 - val_loss: 0.2073 - val_accuracy: 0.9462\n",
            "Epoch 55/100\n",
            "50/50 [==============================] - 0s 9ms/step - loss: 0.2421 - accuracy: 0.9330 - val_loss: 0.1978 - val_accuracy: 0.9482\n",
            "Epoch 56/100\n",
            "50/50 [==============================] - 0s 9ms/step - loss: 0.2396 - accuracy: 0.9329 - val_loss: 0.1931 - val_accuracy: 0.9490\n",
            "Epoch 57/100\n",
            "50/50 [==============================] - 0s 9ms/step - loss: 0.2394 - accuracy: 0.9332 - val_loss: 0.1895 - val_accuracy: 0.9492\n",
            "Epoch 58/100\n",
            "50/50 [==============================] - 0s 9ms/step - loss: 0.2340 - accuracy: 0.9346 - val_loss: 0.1892 - val_accuracy: 0.9496\n",
            "Epoch 59/100\n",
            "50/50 [==============================] - 0s 9ms/step - loss: 0.2371 - accuracy: 0.9332 - val_loss: 0.1902 - val_accuracy: 0.9484\n",
            "Epoch 60/100\n",
            "50/50 [==============================] - 0s 10ms/step - loss: 0.2314 - accuracy: 0.9352 - val_loss: 0.1945 - val_accuracy: 0.9482\n",
            "Epoch 61/100\n",
            "50/50 [==============================] - 0s 9ms/step - loss: 0.2334 - accuracy: 0.9352 - val_loss: 0.2035 - val_accuracy: 0.9480\n",
            "Epoch 62/100\n",
            "50/50 [==============================] - 0s 9ms/step - loss: 0.2397 - accuracy: 0.9325 - val_loss: 0.1911 - val_accuracy: 0.9482\n",
            "Epoch 63/100\n",
            "50/50 [==============================] - 0s 9ms/step - loss: 0.2300 - accuracy: 0.9351 - val_loss: 0.1993 - val_accuracy: 0.9448\n",
            "Epoch 64/100\n",
            "50/50 [==============================] - 0s 9ms/step - loss: 0.2365 - accuracy: 0.9342 - val_loss: 0.1975 - val_accuracy: 0.9464\n",
            "Epoch 65/100\n",
            "50/50 [==============================] - 0s 9ms/step - loss: 0.2283 - accuracy: 0.9352 - val_loss: 0.1851 - val_accuracy: 0.9474\n",
            "Epoch 66/100\n",
            "50/50 [==============================] - 0s 9ms/step - loss: 0.2302 - accuracy: 0.9342 - val_loss: 0.1925 - val_accuracy: 0.9468\n",
            "Epoch 67/100\n",
            "50/50 [==============================] - 0s 9ms/step - loss: 0.2291 - accuracy: 0.9351 - val_loss: 0.1904 - val_accuracy: 0.9514\n",
            "Epoch 68/100\n",
            "50/50 [==============================] - 0s 9ms/step - loss: 0.2191 - accuracy: 0.9394 - val_loss: 0.1896 - val_accuracy: 0.9476\n",
            "Epoch 69/100\n",
            "50/50 [==============================] - 0s 9ms/step - loss: 0.2233 - accuracy: 0.9360 - val_loss: 0.1883 - val_accuracy: 0.9492\n",
            "Epoch 70/100\n",
            "50/50 [==============================] - 0s 9ms/step - loss: 0.2199 - accuracy: 0.9382 - val_loss: 0.1763 - val_accuracy: 0.9532\n",
            "Epoch 71/100\n",
            "50/50 [==============================] - 0s 9ms/step - loss: 0.2271 - accuracy: 0.9355 - val_loss: 0.1805 - val_accuracy: 0.9520\n",
            "Epoch 72/100\n",
            "50/50 [==============================] - 0s 9ms/step - loss: 0.2244 - accuracy: 0.9362 - val_loss: 0.1789 - val_accuracy: 0.9508\n",
            "Epoch 73/100\n",
            "50/50 [==============================] - 0s 9ms/step - loss: 0.2212 - accuracy: 0.9380 - val_loss: 0.1729 - val_accuracy: 0.9526\n",
            "Epoch 74/100\n",
            "50/50 [==============================] - 0s 9ms/step - loss: 0.2190 - accuracy: 0.9379 - val_loss: 0.1907 - val_accuracy: 0.9472\n",
            "Epoch 75/100\n",
            "50/50 [==============================] - 0s 9ms/step - loss: 0.2173 - accuracy: 0.9366 - val_loss: 0.1766 - val_accuracy: 0.9506\n",
            "Epoch 76/100\n",
            "50/50 [==============================] - 0s 9ms/step - loss: 0.2224 - accuracy: 0.9346 - val_loss: 0.1656 - val_accuracy: 0.9558\n",
            "Epoch 77/100\n",
            "50/50 [==============================] - 0s 9ms/step - loss: 0.2127 - accuracy: 0.9399 - val_loss: 0.1758 - val_accuracy: 0.9490\n",
            "Epoch 78/100\n",
            "50/50 [==============================] - 0s 9ms/step - loss: 0.2199 - accuracy: 0.9373 - val_loss: 0.1798 - val_accuracy: 0.9494\n",
            "Epoch 79/100\n",
            "50/50 [==============================] - 0s 9ms/step - loss: 0.2200 - accuracy: 0.9363 - val_loss: 0.1804 - val_accuracy: 0.9484\n",
            "Epoch 80/100\n",
            "50/50 [==============================] - 0s 9ms/step - loss: 0.2174 - accuracy: 0.9375 - val_loss: 0.1639 - val_accuracy: 0.9548\n",
            "Epoch 81/100\n",
            "50/50 [==============================] - 0s 9ms/step - loss: 0.2142 - accuracy: 0.9374 - val_loss: 0.1698 - val_accuracy: 0.9502\n",
            "Epoch 82/100\n",
            "50/50 [==============================] - 0s 9ms/step - loss: 0.2113 - accuracy: 0.9385 - val_loss: 0.1660 - val_accuracy: 0.9526\n",
            "Epoch 83/100\n",
            "50/50 [==============================] - 1s 12ms/step - loss: 0.2057 - accuracy: 0.9402 - val_loss: 0.1651 - val_accuracy: 0.9530\n",
            "Epoch 84/100\n",
            "50/50 [==============================] - 0s 9ms/step - loss: 0.2062 - accuracy: 0.9412 - val_loss: 0.1656 - val_accuracy: 0.9566\n",
            "Epoch 85/100\n",
            "50/50 [==============================] - 0s 9ms/step - loss: 0.2117 - accuracy: 0.9390 - val_loss: 0.1678 - val_accuracy: 0.9504\n",
            "Epoch 86/100\n",
            "50/50 [==============================] - 0s 10ms/step - loss: 0.2054 - accuracy: 0.9405 - val_loss: 0.1599 - val_accuracy: 0.9560\n",
            "Epoch 87/100\n",
            "50/50 [==============================] - 0s 9ms/step - loss: 0.2034 - accuracy: 0.9422 - val_loss: 0.1676 - val_accuracy: 0.9520\n",
            "Epoch 88/100\n",
            "50/50 [==============================] - 0s 9ms/step - loss: 0.1994 - accuracy: 0.9426 - val_loss: 0.1741 - val_accuracy: 0.9540\n",
            "Epoch 89/100\n",
            "50/50 [==============================] - 0s 9ms/step - loss: 0.2055 - accuracy: 0.9403 - val_loss: 0.1838 - val_accuracy: 0.9486\n",
            "Epoch 90/100\n",
            "50/50 [==============================] - 0s 9ms/step - loss: 0.2082 - accuracy: 0.9411 - val_loss: 0.1687 - val_accuracy: 0.9538\n",
            "Epoch 91/100\n",
            "50/50 [==============================] - 0s 9ms/step - loss: 0.2033 - accuracy: 0.9412 - val_loss: 0.1771 - val_accuracy: 0.9504\n",
            "Epoch 92/100\n",
            "50/50 [==============================] - 0s 9ms/step - loss: 0.2023 - accuracy: 0.9409 - val_loss: 0.1641 - val_accuracy: 0.9558\n",
            "Epoch 93/100\n",
            "50/50 [==============================] - 0s 9ms/step - loss: 0.2010 - accuracy: 0.9426 - val_loss: 0.1627 - val_accuracy: 0.9572\n",
            "Epoch 94/100\n",
            "50/50 [==============================] - 0s 9ms/step - loss: 0.1945 - accuracy: 0.9450 - val_loss: 0.1695 - val_accuracy: 0.9550\n",
            "Epoch 95/100\n",
            "50/50 [==============================] - 0s 9ms/step - loss: 0.1995 - accuracy: 0.9422 - val_loss: 0.1678 - val_accuracy: 0.9550\n",
            "Epoch 96/100\n",
            "50/50 [==============================] - 0s 9ms/step - loss: 0.1976 - accuracy: 0.9428 - val_loss: 0.1572 - val_accuracy: 0.9578\n",
            "Epoch 97/100\n",
            "50/50 [==============================] - 0s 9ms/step - loss: 0.2022 - accuracy: 0.9413 - val_loss: 0.1680 - val_accuracy: 0.9556\n",
            "Epoch 98/100\n",
            "50/50 [==============================] - 0s 9ms/step - loss: 0.2023 - accuracy: 0.9422 - val_loss: 0.1616 - val_accuracy: 0.9578\n",
            "Epoch 99/100\n",
            "50/50 [==============================] - 0s 9ms/step - loss: 0.1909 - accuracy: 0.9459 - val_loss: 0.1721 - val_accuracy: 0.9530\n",
            "Epoch 100/100\n",
            "50/50 [==============================] - 0s 9ms/step - loss: 0.1911 - accuracy: 0.9439 - val_loss: 0.1683 - val_accuracy: 0.9536\n"
          ],
          "name": "stdout"
        }
      ]
    },
    {
      "cell_type": "markdown",
      "metadata": {
        "id": "oWCAm0xgzmkE"
      },
      "source": [
        "#생성된 모델을 이용한 추론(평가, 예측)\n"
      ]
    },
    {
      "cell_type": "code",
      "metadata": {
        "id": "GnxTP2eMzRxb",
        "colab": {
          "base_uri": "https://localhost:8080/"
        },
        "outputId": "51e2c76d-f4a9-4075-d0b2-79ebe2b7cbc8"
      },
      "source": [
        "model.evaluate(x_test, y_test )"
      ],
      "execution_count": 206,
      "outputs": [
        {
          "output_type": "stream",
          "text": [
            "157/157 [==============================] - 0s 2ms/step - loss: 0.2882 - accuracy: 0.9134\n"
          ],
          "name": "stdout"
        },
        {
          "output_type": "execute_result",
          "data": {
            "text/plain": [
              "[0.2881587743759155, 0.9133999943733215]"
            ]
          },
          "metadata": {
            "tags": []
          },
          "execution_count": 206
        }
      ]
    },
    {
      "cell_type": "markdown",
      "metadata": {
        "id": "_uANcounvIun"
      },
      "source": [
        "#모델 수행 히스토리 그래프보기"
      ]
    },
    {
      "cell_type": "code",
      "metadata": {
        "id": "SCBbM_KBMDjO",
        "colab": {
          "base_uri": "https://localhost:8080/",
          "height": 268
        },
        "outputId": "ccc74d5c-bc3b-486e-a67d-83c7f9104fd1"
      },
      "source": [
        "import matplotlib\n",
        "import matplotlib.pyplot as plt\n",
        "\n",
        "fig, loss_ax =  plt.subplots()\n",
        "acc_ax = loss_ax.twinx()\n",
        "\n",
        "loss_ax.plot(hist.history['loss'], 'y', label='loss')\n",
        "#loss_ax.plot(hist.history['val_loss'], 'g', label='validation loss')\n",
        "acc_ax.plot(hist.history['accuracy'], 'b', label='accuracy')\n",
        "#acc_ax.plot(hist.history['val_accuracy'], 'r', label='validation accuracy')\n",
        "\n",
        "plt.legend(['loss', 'accuracy'])\n",
        "#plt.legend(['train loss', 'train accuracy', 'validation loss', 'validation accuracy'])\n",
        "plt.show()"
      ],
      "execution_count": 207,
      "outputs": [
        {
          "output_type": "display_data",
          "data": {
            "image/png": "[encoded data removed]",
            "text/plain": [
              "<Figure size 432x288 with 2 Axes>"
            ]
          },
          "metadata": {
            "tags": [],
            "needs_background": "light"
          }
        }
      ]
    },
    {
      "cell_type": "markdown",
      "metadata": {
        "id": "kmWHScXJQgSE"
      },
      "source": [
        "#모델 바이러리(Weight) 저장"
      ]
    },
    {
      "cell_type": "code",
      "metadata": {
        "id": "t44H7KrIQoQe"
      },
      "source": [
        "model.save_weights(\"MNIST-Keras-101-Pre_trained_weights\")"
      ],
      "execution_count": 208,
      "outputs": []
    },
    {
      "cell_type": "markdown",
      "metadata": {
        "id": "UOQQwtFmRMoJ"
      },
      "source": [
        "#저장된 모델 로드\n"
      ]
    },
    {
      "cell_type": "code",
      "metadata": {
        "colab": {
          "base_uri": "https://localhost:8080/"
        },
        "id": "4cWH_rcCRP7A",
        "outputId": "0d510db7-e5c5-4748-d614-1a3ac4c79ccc"
      },
      "source": [
        "\n",
        "ts_model = load_model(\"MNIST-Keras-101-Pre_trained.h5\")\n",
        "ts_model.summary()"
      ],
      "execution_count": 209,
      "outputs": [
        {
          "output_type": "stream",
          "text": [
            "Model: \"sequential_12\"\n",
            "_________________________________________________________________\n",
            "Layer (type)                 Output Shape              Param #   \n",
            "=================================================================\n",
            "dense_33 (Dense)             (None, 32)                25120     \n",
            "_________________________________________________________________\n",
            "dense_34 (Dense)             (None, 32)                1056      \n",
            "_________________________________________________________________\n",
            "dense_35 (Dense)             (None, 10)                330       \n",
            "=================================================================\n",
            "Total params: 26,506\n",
            "Trainable params: 26,506\n",
            "Non-trainable params: 0\n",
            "_________________________________________________________________\n"
          ],
          "name": "stdout"
        }
      ]
    },
    {
      "cell_type": "markdown",
      "metadata": {
        "id": "gum-itSIRQX9"
      },
      "source": [
        "#로드된 모델에 새로운 데이타 Re-Training(Transfer Learning)\n"
      ]
    },
    {
      "cell_type": "code",
      "metadata": {
        "colab": {
          "base_uri": "https://localhost:8080/"
        },
        "id": "Za-OTrT4RaSp",
        "outputId": "e64db013-4bc3-4ced-d2df-33da02fcb71c"
      },
      "source": [
        "hist=ts_model.fit(x=tx_train, y=ty_train, batch_size=1000, epochs=100, validation_data=(x_val, y_val))"
      ],
      "execution_count": 210,
      "outputs": [
        {
          "output_type": "stream",
          "text": [
            "Epoch 1/100\n",
            "10/10 [==============================] - 0s 29ms/step - loss: 0.2194 - accuracy: 0.9358 - val_loss: 0.1771 - val_accuracy: 0.9502\n",
            "Epoch 2/100\n",
            "10/10 [==============================] - 0s 14ms/step - loss: 0.2165 - accuracy: 0.9367 - val_loss: 0.1733 - val_accuracy: 0.9518\n",
            "Epoch 3/100\n",
            "10/10 [==============================] - 0s 14ms/step - loss: 0.2175 - accuracy: 0.9373 - val_loss: 0.1694 - val_accuracy: 0.9528\n",
            "Epoch 4/100\n",
            "10/10 [==============================] - 0s 14ms/step - loss: 0.2110 - accuracy: 0.9390 - val_loss: 0.1640 - val_accuracy: 0.9580\n",
            "Epoch 5/100\n",
            "10/10 [==============================] - 0s 14ms/step - loss: 0.2049 - accuracy: 0.9404 - val_loss: 0.1631 - val_accuracy: 0.9542\n",
            "Epoch 6/100\n",
            "10/10 [==============================] - 0s 16ms/step - loss: 0.2058 - accuracy: 0.9403 - val_loss: 0.1720 - val_accuracy: 0.9522\n",
            "Epoch 7/100\n",
            "10/10 [==============================] - 0s 13ms/step - loss: 0.1979 - accuracy: 0.9438 - val_loss: 0.1738 - val_accuracy: 0.9518\n",
            "Epoch 8/100\n",
            "10/10 [==============================] - 0s 15ms/step - loss: 0.1977 - accuracy: 0.9427 - val_loss: 0.1666 - val_accuracy: 0.9518\n",
            "Epoch 9/100\n",
            "10/10 [==============================] - 0s 13ms/step - loss: 0.1959 - accuracy: 0.9442 - val_loss: 0.1794 - val_accuracy: 0.9500\n",
            "Epoch 10/100\n",
            "10/10 [==============================] - 0s 14ms/step - loss: 0.1941 - accuracy: 0.9435 - val_loss: 0.1689 - val_accuracy: 0.9504\n",
            "Epoch 11/100\n",
            "10/10 [==============================] - 0s 13ms/step - loss: 0.1928 - accuracy: 0.9441 - val_loss: 0.1650 - val_accuracy: 0.9516\n",
            "Epoch 12/100\n",
            "10/10 [==============================] - 0s 14ms/step - loss: 0.1930 - accuracy: 0.9439 - val_loss: 0.1617 - val_accuracy: 0.9572\n",
            "Epoch 13/100\n",
            "10/10 [==============================] - 0s 13ms/step - loss: 0.1928 - accuracy: 0.9447 - val_loss: 0.1619 - val_accuracy: 0.9552\n",
            "Epoch 14/100\n",
            "10/10 [==============================] - 0s 14ms/step - loss: 0.1856 - accuracy: 0.9476 - val_loss: 0.1546 - val_accuracy: 0.9582\n",
            "Epoch 15/100\n",
            "10/10 [==============================] - 0s 13ms/step - loss: 0.1826 - accuracy: 0.9481 - val_loss: 0.1607 - val_accuracy: 0.9554\n",
            "Epoch 16/100\n",
            "10/10 [==============================] - 0s 15ms/step - loss: 0.1849 - accuracy: 0.9461 - val_loss: 0.1562 - val_accuracy: 0.9568\n",
            "Epoch 17/100\n",
            "10/10 [==============================] - 0s 14ms/step - loss: 0.1831 - accuracy: 0.9466 - val_loss: 0.1661 - val_accuracy: 0.9550\n",
            "Epoch 18/100\n",
            "10/10 [==============================] - 0s 15ms/step - loss: 0.1858 - accuracy: 0.9468 - val_loss: 0.1626 - val_accuracy: 0.9554\n",
            "Epoch 19/100\n",
            "10/10 [==============================] - 0s 14ms/step - loss: 0.1805 - accuracy: 0.9503 - val_loss: 0.1559 - val_accuracy: 0.9588\n",
            "Epoch 20/100\n",
            "10/10 [==============================] - 0s 14ms/step - loss: 0.1800 - accuracy: 0.9490 - val_loss: 0.1633 - val_accuracy: 0.9562\n",
            "Epoch 21/100\n",
            "10/10 [==============================] - 0s 15ms/step - loss: 0.1860 - accuracy: 0.9477 - val_loss: 0.1583 - val_accuracy: 0.9568\n",
            "Epoch 22/100\n",
            "10/10 [==============================] - 0s 31ms/step - loss: 0.1746 - accuracy: 0.9522 - val_loss: 0.1662 - val_accuracy: 0.9560\n",
            "Epoch 23/100\n",
            "10/10 [==============================] - 0s 14ms/step - loss: 0.1801 - accuracy: 0.9490 - val_loss: 0.1750 - val_accuracy: 0.9504\n",
            "Epoch 24/100\n",
            "10/10 [==============================] - 0s 14ms/step - loss: 0.1914 - accuracy: 0.9461 - val_loss: 0.1701 - val_accuracy: 0.9516\n",
            "Epoch 25/100\n",
            "10/10 [==============================] - 0s 14ms/step - loss: 0.1782 - accuracy: 0.9488 - val_loss: 0.1581 - val_accuracy: 0.9554\n",
            "Epoch 26/100\n",
            "10/10 [==============================] - 0s 15ms/step - loss: 0.1706 - accuracy: 0.9512 - val_loss: 0.1589 - val_accuracy: 0.9570\n",
            "Epoch 27/100\n",
            "10/10 [==============================] - 0s 14ms/step - loss: 0.1713 - accuracy: 0.9504 - val_loss: 0.1663 - val_accuracy: 0.9516\n",
            "Epoch 28/100\n",
            "10/10 [==============================] - 0s 15ms/step - loss: 0.1749 - accuracy: 0.9491 - val_loss: 0.1597 - val_accuracy: 0.9552\n",
            "Epoch 29/100\n",
            "10/10 [==============================] - 0s 14ms/step - loss: 0.1646 - accuracy: 0.9528 - val_loss: 0.1655 - val_accuracy: 0.9522\n",
            "Epoch 30/100\n",
            "10/10 [==============================] - 0s 13ms/step - loss: 0.1668 - accuracy: 0.9526 - val_loss: 0.1580 - val_accuracy: 0.9560\n",
            "Epoch 31/100\n",
            "10/10 [==============================] - 0s 14ms/step - loss: 0.1606 - accuracy: 0.9555 - val_loss: 0.1535 - val_accuracy: 0.9556\n",
            "Epoch 32/100\n",
            "10/10 [==============================] - 0s 14ms/step - loss: 0.1630 - accuracy: 0.9532 - val_loss: 0.1555 - val_accuracy: 0.9550\n",
            "Epoch 33/100\n",
            "10/10 [==============================] - 0s 13ms/step - loss: 0.1664 - accuracy: 0.9514 - val_loss: 0.1551 - val_accuracy: 0.9558\n",
            "Epoch 34/100\n",
            "10/10 [==============================] - 0s 15ms/step - loss: 0.1691 - accuracy: 0.9533 - val_loss: 0.1549 - val_accuracy: 0.9568\n",
            "Epoch 35/100\n",
            "10/10 [==============================] - 0s 14ms/step - loss: 0.1607 - accuracy: 0.9546 - val_loss: 0.1541 - val_accuracy: 0.9576\n",
            "Epoch 36/100\n",
            "10/10 [==============================] - 0s 14ms/step - loss: 0.1584 - accuracy: 0.9556 - val_loss: 0.1530 - val_accuracy: 0.9586\n",
            "Epoch 37/100\n",
            "10/10 [==============================] - 0s 13ms/step - loss: 0.1585 - accuracy: 0.9560 - val_loss: 0.1585 - val_accuracy: 0.9550\n",
            "Epoch 38/100\n",
            "10/10 [==============================] - 0s 14ms/step - loss: 0.1579 - accuracy: 0.9568 - val_loss: 0.1540 - val_accuracy: 0.9562\n",
            "Epoch 39/100\n",
            "10/10 [==============================] - 0s 14ms/step - loss: 0.1515 - accuracy: 0.9577 - val_loss: 0.1577 - val_accuracy: 0.9548\n",
            "Epoch 40/100\n",
            "10/10 [==============================] - 0s 13ms/step - loss: 0.1504 - accuracy: 0.9584 - val_loss: 0.1578 - val_accuracy: 0.9552\n",
            "Epoch 41/100\n",
            "10/10 [==============================] - 0s 15ms/step - loss: 0.1533 - accuracy: 0.9576 - val_loss: 0.1597 - val_accuracy: 0.9554\n",
            "Epoch 42/100\n",
            "10/10 [==============================] - 0s 14ms/step - loss: 0.1520 - accuracy: 0.9581 - val_loss: 0.1579 - val_accuracy: 0.9562\n",
            "Epoch 43/100\n",
            "10/10 [==============================] - 0s 15ms/step - loss: 0.1483 - accuracy: 0.9603 - val_loss: 0.1582 - val_accuracy: 0.9550\n",
            "Epoch 44/100\n",
            "10/10 [==============================] - 0s 15ms/step - loss: 0.1500 - accuracy: 0.9592 - val_loss: 0.1550 - val_accuracy: 0.9566\n",
            "Epoch 45/100\n",
            "10/10 [==============================] - 0s 16ms/step - loss: 0.1500 - accuracy: 0.9577 - val_loss: 0.1584 - val_accuracy: 0.9560\n",
            "Epoch 46/100\n",
            "10/10 [==============================] - 0s 15ms/step - loss: 0.1450 - accuracy: 0.9604 - val_loss: 0.1582 - val_accuracy: 0.9572\n",
            "Epoch 47/100\n",
            "10/10 [==============================] - 0s 14ms/step - loss: 0.1525 - accuracy: 0.9573 - val_loss: 0.1570 - val_accuracy: 0.9566\n",
            "Epoch 48/100\n",
            "10/10 [==============================] - 0s 15ms/step - loss: 0.1448 - accuracy: 0.9605 - val_loss: 0.1718 - val_accuracy: 0.9520\n",
            "Epoch 49/100\n",
            "10/10 [==============================] - 0s 14ms/step - loss: 0.1554 - accuracy: 0.9547 - val_loss: 0.1647 - val_accuracy: 0.9540\n",
            "Epoch 50/100\n",
            "10/10 [==============================] - 0s 14ms/step - loss: 0.1494 - accuracy: 0.9581 - val_loss: 0.1526 - val_accuracy: 0.9580\n",
            "Epoch 51/100\n",
            "10/10 [==============================] - 0s 14ms/step - loss: 0.1459 - accuracy: 0.9595 - val_loss: 0.1536 - val_accuracy: 0.9574\n",
            "Epoch 52/100\n",
            "10/10 [==============================] - 0s 14ms/step - loss: 0.1435 - accuracy: 0.9608 - val_loss: 0.1495 - val_accuracy: 0.9594\n",
            "Epoch 53/100\n",
            "10/10 [==============================] - 0s 13ms/step - loss: 0.1431 - accuracy: 0.9613 - val_loss: 0.1585 - val_accuracy: 0.9554\n",
            "Epoch 54/100\n",
            "10/10 [==============================] - 0s 15ms/step - loss: 0.1464 - accuracy: 0.9595 - val_loss: 0.1543 - val_accuracy: 0.9584\n",
            "Epoch 55/100\n",
            "10/10 [==============================] - 0s 14ms/step - loss: 0.1433 - accuracy: 0.9622 - val_loss: 0.1517 - val_accuracy: 0.9590\n",
            "Epoch 56/100\n",
            "10/10 [==============================] - 0s 15ms/step - loss: 0.1406 - accuracy: 0.9619 - val_loss: 0.1590 - val_accuracy: 0.9560\n",
            "Epoch 57/100\n",
            "10/10 [==============================] - 0s 14ms/step - loss: 0.1419 - accuracy: 0.9608 - val_loss: 0.1554 - val_accuracy: 0.9564\n",
            "Epoch 58/100\n",
            "10/10 [==============================] - 0s 14ms/step - loss: 0.1425 - accuracy: 0.9602 - val_loss: 0.1554 - val_accuracy: 0.9566\n",
            "Epoch 59/100\n",
            "10/10 [==============================] - 0s 13ms/step - loss: 0.1415 - accuracy: 0.9612 - val_loss: 0.1535 - val_accuracy: 0.9572\n",
            "Epoch 60/100\n",
            "10/10 [==============================] - 0s 15ms/step - loss: 0.1408 - accuracy: 0.9618 - val_loss: 0.1521 - val_accuracy: 0.9586\n",
            "Epoch 61/100\n",
            "10/10 [==============================] - 0s 14ms/step - loss: 0.1397 - accuracy: 0.9619 - val_loss: 0.1521 - val_accuracy: 0.9574\n",
            "Epoch 62/100\n",
            "10/10 [==============================] - 0s 14ms/step - loss: 0.1389 - accuracy: 0.9617 - val_loss: 0.1573 - val_accuracy: 0.9564\n",
            "Epoch 63/100\n",
            "10/10 [==============================] - 0s 15ms/step - loss: 0.1374 - accuracy: 0.9625 - val_loss: 0.1589 - val_accuracy: 0.9576\n",
            "Epoch 64/100\n",
            "10/10 [==============================] - 0s 14ms/step - loss: 0.1367 - accuracy: 0.9635 - val_loss: 0.1543 - val_accuracy: 0.9562\n",
            "Epoch 65/100\n",
            "10/10 [==============================] - 0s 13ms/step - loss: 0.1358 - accuracy: 0.9637 - val_loss: 0.1535 - val_accuracy: 0.9560\n",
            "Epoch 66/100\n",
            "10/10 [==============================] - 0s 13ms/step - loss: 0.1323 - accuracy: 0.9639 - val_loss: 0.1567 - val_accuracy: 0.9562\n",
            "Epoch 67/100\n",
            "10/10 [==============================] - 0s 14ms/step - loss: 0.1334 - accuracy: 0.9645 - val_loss: 0.1632 - val_accuracy: 0.9532\n",
            "Epoch 68/100\n",
            "10/10 [==============================] - 0s 14ms/step - loss: 0.1366 - accuracy: 0.9628 - val_loss: 0.1618 - val_accuracy: 0.9564\n",
            "Epoch 69/100\n",
            "10/10 [==============================] - 0s 14ms/step - loss: 0.1353 - accuracy: 0.9627 - val_loss: 0.1517 - val_accuracy: 0.9578\n",
            "Epoch 70/100\n",
            "10/10 [==============================] - 0s 15ms/step - loss: 0.1320 - accuracy: 0.9647 - val_loss: 0.1492 - val_accuracy: 0.9588\n",
            "Epoch 71/100\n",
            "10/10 [==============================] - 0s 14ms/step - loss: 0.1291 - accuracy: 0.9672 - val_loss: 0.1494 - val_accuracy: 0.9568\n",
            "Epoch 72/100\n",
            "10/10 [==============================] - 0s 14ms/step - loss: 0.1275 - accuracy: 0.9667 - val_loss: 0.1476 - val_accuracy: 0.9586\n",
            "Epoch 73/100\n",
            "10/10 [==============================] - 0s 14ms/step - loss: 0.1267 - accuracy: 0.9663 - val_loss: 0.1465 - val_accuracy: 0.9576\n",
            "Epoch 74/100\n",
            "10/10 [==============================] - 0s 14ms/step - loss: 0.1257 - accuracy: 0.9664 - val_loss: 0.1485 - val_accuracy: 0.9584\n",
            "Epoch 75/100\n",
            "10/10 [==============================] - 0s 15ms/step - loss: 0.1274 - accuracy: 0.9667 - val_loss: 0.1543 - val_accuracy: 0.9562\n",
            "Epoch 76/100\n",
            "10/10 [==============================] - 0s 15ms/step - loss: 0.1268 - accuracy: 0.9668 - val_loss: 0.1486 - val_accuracy: 0.9576\n",
            "Epoch 77/100\n",
            "10/10 [==============================] - 0s 16ms/step - loss: 0.1249 - accuracy: 0.9670 - val_loss: 0.1485 - val_accuracy: 0.9578\n",
            "Epoch 78/100\n",
            "10/10 [==============================] - 0s 14ms/step - loss: 0.1258 - accuracy: 0.9670 - val_loss: 0.1497 - val_accuracy: 0.9580\n",
            "Epoch 79/100\n",
            "10/10 [==============================] - 0s 14ms/step - loss: 0.1264 - accuracy: 0.9665 - val_loss: 0.1478 - val_accuracy: 0.9572\n",
            "Epoch 80/100\n",
            "10/10 [==============================] - 0s 29ms/step - loss: 0.1279 - accuracy: 0.9658 - val_loss: 0.1446 - val_accuracy: 0.9610\n",
            "Epoch 81/100\n",
            "10/10 [==============================] - 0s 14ms/step - loss: 0.1223 - accuracy: 0.9686 - val_loss: 0.1445 - val_accuracy: 0.9596\n",
            "Epoch 82/100\n",
            "10/10 [==============================] - 0s 16ms/step - loss: 0.1243 - accuracy: 0.9677 - val_loss: 0.1490 - val_accuracy: 0.9594\n",
            "Epoch 83/100\n",
            "10/10 [==============================] - 0s 15ms/step - loss: 0.1229 - accuracy: 0.9687 - val_loss: 0.1486 - val_accuracy: 0.9570\n",
            "Epoch 84/100\n",
            "10/10 [==============================] - 0s 15ms/step - loss: 0.1269 - accuracy: 0.9667 - val_loss: 0.1551 - val_accuracy: 0.9538\n",
            "Epoch 85/100\n",
            "10/10 [==============================] - 0s 14ms/step - loss: 0.1298 - accuracy: 0.9647 - val_loss: 0.1540 - val_accuracy: 0.9568\n",
            "Epoch 86/100\n",
            "10/10 [==============================] - 0s 15ms/step - loss: 0.1266 - accuracy: 0.9667 - val_loss: 0.1490 - val_accuracy: 0.9590\n",
            "Epoch 87/100\n",
            "10/10 [==============================] - 0s 14ms/step - loss: 0.1225 - accuracy: 0.9687 - val_loss: 0.1555 - val_accuracy: 0.9554\n",
            "Epoch 88/100\n",
            "10/10 [==============================] - 0s 15ms/step - loss: 0.1232 - accuracy: 0.9672 - val_loss: 0.1512 - val_accuracy: 0.9578\n",
            "Epoch 89/100\n",
            "10/10 [==============================] - 0s 14ms/step - loss: 0.1216 - accuracy: 0.9683 - val_loss: 0.1504 - val_accuracy: 0.9580\n",
            "Epoch 90/100\n",
            "10/10 [==============================] - 0s 14ms/step - loss: 0.1202 - accuracy: 0.9684 - val_loss: 0.1517 - val_accuracy: 0.9572\n",
            "Epoch 91/100\n",
            "10/10 [==============================] - 0s 16ms/step - loss: 0.1182 - accuracy: 0.9699 - val_loss: 0.1501 - val_accuracy: 0.9582\n",
            "Epoch 92/100\n",
            "10/10 [==============================] - 0s 15ms/step - loss: 0.1168 - accuracy: 0.9709 - val_loss: 0.1517 - val_accuracy: 0.9564\n",
            "Epoch 93/100\n",
            "10/10 [==============================] - 0s 16ms/step - loss: 0.1176 - accuracy: 0.9692 - val_loss: 0.1509 - val_accuracy: 0.9584\n",
            "Epoch 94/100\n",
            "10/10 [==============================] - 0s 15ms/step - loss: 0.1192 - accuracy: 0.9690 - val_loss: 0.1547 - val_accuracy: 0.9574\n",
            "Epoch 95/100\n",
            "10/10 [==============================] - 0s 16ms/step - loss: 0.1222 - accuracy: 0.9677 - val_loss: 0.1506 - val_accuracy: 0.9576\n",
            "Epoch 96/100\n",
            "10/10 [==============================] - 0s 15ms/step - loss: 0.1212 - accuracy: 0.9677 - val_loss: 0.1521 - val_accuracy: 0.9578\n",
            "Epoch 97/100\n",
            "10/10 [==============================] - 0s 17ms/step - loss: 0.1192 - accuracy: 0.9698 - val_loss: 0.1496 - val_accuracy: 0.9600\n",
            "Epoch 98/100\n",
            "10/10 [==============================] - 0s 15ms/step - loss: 0.1155 - accuracy: 0.9705 - val_loss: 0.1490 - val_accuracy: 0.9580\n",
            "Epoch 99/100\n",
            "10/10 [==============================] - 0s 16ms/step - loss: 0.1108 - accuracy: 0.9715 - val_loss: 0.1475 - val_accuracy: 0.9592\n",
            "Epoch 100/100\n",
            "10/10 [==============================] - 0s 15ms/step - loss: 0.1139 - accuracy: 0.9704 - val_loss: 0.1500 - val_accuracy: 0.9586\n"
          ],
          "name": "stdout"
        }
      ]
    },
    {
      "cell_type": "code",
      "metadata": {
        "colab": {
          "base_uri": "https://localhost:8080/"
        },
        "id": "kctpWPoVVdfT",
        "outputId": "3a9a8c0c-5806-4f60-bdd2-1962991a07e4"
      },
      "source": [
        "ts_model.evaluate(x_test, y_test)"
      ],
      "execution_count": 211,
      "outputs": [
        {
          "output_type": "stream",
          "text": [
            "157/157 [==============================] - 0s 2ms/step - loss: 0.2589 - accuracy: 0.9240\n"
          ],
          "name": "stdout"
        },
        {
          "output_type": "execute_result",
          "data": {
            "text/plain": [
              "[0.25889918208122253, 0.9240000247955322]"
            ]
          },
          "metadata": {
            "tags": []
          },
          "execution_count": 211
        }
      ]
    },
    {
      "cell_type": "code",
      "metadata": {
        "id": "aKfJLRG0XFJm"
      },
      "source": [
        "model.save(\"MNIST-Keras-101-Transfer_learned.h5\")\n",
        "model.save_weights(\"MNIST-Keras-101-Transfer_learned_weights\")"
      ],
      "execution_count": 212,
      "outputs": []
    }
  ]
}