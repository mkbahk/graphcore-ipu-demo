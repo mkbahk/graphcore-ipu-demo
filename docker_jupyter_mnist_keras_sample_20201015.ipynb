{
 "cells": [
  {
   "cell_type": "markdown",
   "metadata": {
    "colab_type": "text",
    "id": "view-in-github"
   },
   "source": [
    "<a href=\"https://colab.research.google.com/github/mkbahk/graphcore-ipu-demo/blob/main/docker_jupyter_mnist_keras_sample_20201015.ipynb\" target=\"_parent\"><img src=\"https://colab.research.google.com/assets/colab-badge.svg\" alt=\"Open In Colab\"/></a>"
   ]
  },
  {
   "cell_type": "markdown",
   "metadata": {
    "id": "HvvR8sQ5TWdn"
   },
   "source": [
    "[도커내의 jupyter notebook접근하는 방법]\n",
    "\n",
    "\n",
    "**$docker inspect f21be | grep IPAddress**\n",
    "            \"SecondaryIPAddresses\": null,\n",
    "            \"IPAddress\": \"172.17.0.3\",\n",
    "                    \"IPAddress\": \"172.17.0.3\",\n",
    "\n",
    "**$sudo iptables -A DOCKER -p tcp --dport 8888 -j ACCEPT -d 172.17.0.3**\n",
    "\n",
    "**$sudo iptables -t nat -nL**\n",
    "\n",
    "Chain DOCKER (1 references)\n",
    "target     prot opt source               destination         \n",
    "ACCEPT     tcp  --  0.0.0.0/0            172.17.0.3           tcp dpt:8888\n",
    "\n",
    "\n",
    "**$ sudo iptables -t nat -A DOCKER -p tcp --dport 8888 -j DNAT --to 172.17.0.3:8888**\n",
    "\n",
    "**$ sudo iptables -t nat -A POSTROUTING -p tcp --dport 8888 -j MASQUERADE -s 172.17.0.3 -d 172.17.0.3**\n",
    "\n",
    "\n",
    "Chain POSTROUTING (policy ACCEPT)\n",
    "target     prot opt source               destination         \n",
    "MASQUERADE  all  --  172.17.0.0/16        0.0.0.0/0           \n",
    "MASQUERADE  tcp  --  172.17.0.3           172.17.0.3           tcp dpt:8888\n",
    "Chain DOCKER (2 references)\n",
    "target     prot opt source               destination         \n",
    "RETURN     all  --  0.0.0.0/0            0.0.0.0/0           \n",
    "DNAT       tcp  --  0.0.0.0/0            0.0.0.0/0            tcp dpt:8888 to:172.17.0.3:8888\n",
    "\n",
    "\n",
    "\n",
    "[도커안에서 jupyter-notebook실행]\n",
    "\n",
    "**root@bad3da9c3d34:/# jupyter notebook --ip=0.0.0.0 --port=8888 --allow-root &   **\n",
    "\n",
    "    \n",
    "    To access the notebook, open this file in a browser:\n",
    "        file:///root/.local/share/jupyter/runtime/nbserver-25-open.html\n",
    "    Or copy and paste one of these URLs:\n",
    "        http://bad3da9c3d34:9999/?token=6ad47b1335106ca93bf28e7a2916925ad10ffa886cfaf67e\n",
    "     or http://127.0.0.1:9999/?token=6ad47b1335106ca93bf28e7a2916925ad10ffa886cfaf67e\n",
    "     \n",
    "\n",
    "\n",
    "[브라우저에서 접속하는 방법]\n",
    "\n",
    "\n",
    "**http://호스트ip:9999/?Token=6ad47b1335106ca93bf28e7a2916925ad10ffa886cfaf67e**\n"
   ]
  },
  {
   "cell_type": "code",
   "execution_count": 10,
   "metadata": {
    "id": "XaCPYQv6S2RN"
   },
   "outputs": [],
   "source": [
    "# Module Import\n",
    "from tensorflow import keras"
   ]
  },
  {
   "cell_type": "code",
   "execution_count": 11,
   "metadata": {
    "id": "6OU_LQVrS48R"
   },
   "outputs": [],
   "source": [
    "# Load MNIST DataSet\n",
    "(x_train, y_train), (x_test, y_test) = keras.datasets.mnist.load_data()"
   ]
  },
  {
   "cell_type": "code",
   "execution_count": 12,
   "metadata": {
    "id": "MBMWqo5tS5ef"
   },
   "outputs": [],
   "source": [
    "# one-hot enconding 수행\n",
    "# 5 --> 0 0 0 0 0 1 0 0 0 0\n",
    "# 1 --> 0 1 0 0 0 0 0 0 0 0\n",
    "y_train = keras.utils.to_categorical(y=y_train, num_classes = 10)\n",
    "y_test = keras.utils.to_categorical(y=y_test, num_classes=10)"
   ]
  },
  {
   "cell_type": "code",
   "execution_count": 13,
   "metadata": {
    "colab": {
     "base_uri": "https://localhost:8080/",
     "height": 52
    },
    "id": "zJ2TWwhqS6Mh",
    "outputId": "12be23ba-221b-4a83-f140-29c6345116c4"
   },
   "outputs": [
    {
     "name": "stdout",
     "output_type": "stream",
     "text": [
      "(60000, 10) (10000, 10)\n",
      "(60000, 784) (10000, 784)\n"
     ]
    }
   ],
   "source": [
    "#Reshaping DataSet\n",
    "x_train = x_train.reshape(60000, 28*28)\n",
    "x_test = x_test.reshape(10000, 28*28)\n",
    "print(y_train.shape, y_test.shape)\n",
    "print(x_train.shape, x_test.shape)"
   ]
  },
  {
   "cell_type": "code",
   "execution_count": 14,
   "metadata": {
    "id": "V40JbBGFS6ba"
   },
   "outputs": [],
   "source": [
    "#모델생성\n",
    "model = keras.Sequential()\n",
    "model.add(keras.layers.Dense(32, activation=\"sigmoid\", input_shape=(28*28,)))\n",
    "model.add(keras.layers.Dense(32, activation=\"sigmoid\"))\n",
    "model.add(keras.layers.Dense(10, activation=\"sigmoid\"))"
   ]
  },
  {
   "cell_type": "code",
   "execution_count": 15,
   "metadata": {
    "colab": {
     "base_uri": "https://localhost:8080/",
     "height": 265
    },
    "id": "u8cPfWNUS6CC",
    "outputId": "214e9a29-97d7-4d86-bb30-a9e47d252d0a"
   },
   "outputs": [
    {
     "name": "stdout",
     "output_type": "stream",
     "text": [
      "Model: \"sequential_1\"\n",
      "_________________________________________________________________\n",
      "Layer (type)                 Output Shape              Param #   \n",
      "=================================================================\n",
      "dense_3 (Dense)              (None, 32)                25120     \n",
      "_________________________________________________________________\n",
      "dense_4 (Dense)              (None, 32)                1056      \n",
      "_________________________________________________________________\n",
      "dense_5 (Dense)              (None, 10)                330       \n",
      "=================================================================\n",
      "Total params: 26,506\n",
      "Trainable params: 26,506\n",
      "Non-trainable params: 0\n",
      "_________________________________________________________________\n"
     ]
    }
   ],
   "source": [
    "#모델컴파일\n",
    "model.compile(optimizer=keras.optimizers.SGD(learning_rate=0.1), loss=\"categorical_crossentropy\", metrics=['accuracy'])\n",
    "model.summary()"
   ]
  },
  {
   "cell_type": "code",
   "execution_count": 16,
   "metadata": {
    "colab": {
     "base_uri": "https://localhost:8080/",
     "height": 409
    },
    "id": "5lmNClkFS5T9",
    "outputId": "d4c71be0-bd42-438c-dfd1-f8166296ddd9"
   },
   "outputs": [
    {
     "name": "stdout",
     "output_type": "stream",
     "text": [
      "Epoch 1/10\n",
      "469/469 [==============================] - 1s 3ms/step - loss: 1.6944 - accuracy: 0.6008 - val_loss: 1.1035 - val_accuracy: 0.7427\n",
      "Epoch 2/10\n",
      "469/469 [==============================] - 1s 3ms/step - loss: 0.8452 - accuracy: 0.8087 - val_loss: 0.6657 - val_accuracy: 0.8398\n",
      "Epoch 3/10\n",
      "469/469 [==============================] - 1s 3ms/step - loss: 0.6331 - accuracy: 0.8355 - val_loss: 0.5790 - val_accuracy: 0.8476\n",
      "Epoch 4/10\n",
      "469/469 [==============================] - 1s 3ms/step - loss: 0.5789 - accuracy: 0.8382 - val_loss: 0.5522 - val_accuracy: 0.8446\n",
      "Epoch 5/10\n",
      "469/469 [==============================] - 1s 3ms/step - loss: 0.5265 - accuracy: 0.8478 - val_loss: 0.5232 - val_accuracy: 0.8469\n",
      "Epoch 6/10\n",
      "469/469 [==============================] - 1s 3ms/step - loss: 0.5236 - accuracy: 0.8464 - val_loss: 0.5550 - val_accuracy: 0.8407\n",
      "Epoch 7/10\n",
      "469/469 [==============================] - 1s 3ms/step - loss: 0.5139 - accuracy: 0.8493 - val_loss: 0.5009 - val_accuracy: 0.8491\n",
      "Epoch 8/10\n",
      "469/469 [==============================] - 1s 3ms/step - loss: 0.5147 - accuracy: 0.8440 - val_loss: 0.5016 - val_accuracy: 0.8462\n",
      "Epoch 9/10\n",
      "469/469 [==============================] - 1s 2ms/step - loss: 0.5143 - accuracy: 0.8439 - val_loss: 0.4848 - val_accuracy: 0.8501\n",
      "Epoch 10/10\n",
      "469/469 [==============================] - 1s 2ms/step - loss: 0.4981 - accuracy: 0.8452 - val_loss: 0.4638 - val_accuracy: 0.8578\n"
     ]
    },
    {
     "data": {
      "text/plain": [
       "<tensorflow.python.keras.callbacks.History at 0x7fd6a2614c50>"
      ]
     },
     "execution_count": 16,
     "metadata": {
      "tags": []
     },
     "output_type": "execute_result"
    }
   ],
   "source": [
    "#모델훈련\n",
    "model.fit(x=x_train, y=y_train, batch_size=128, epochs=10, validation_data=(x_test, y_test))"
   ]
  },
  {
   "cell_type": "code",
   "execution_count": 17,
   "metadata": {
    "colab": {
     "base_uri": "https://localhost:8080/",
     "height": 52
    },
    "id": "sy__pQIcS4k6",
    "outputId": "7cb9ce08-5740-4326-8e18-66d2f729ac58"
   },
   "outputs": [
    {
     "name": "stdout",
     "output_type": "stream",
     "text": [
      "313/313 [==============================] - 0s 1ms/step - loss: 0.4638 - accuracy: 0.8578\n"
     ]
    },
    {
     "data": {
      "text/plain": [
       "[0.4637678563594818, 0.8578000068664551]"
      ]
     },
     "execution_count": 17,
     "metadata": {
      "tags": []
     },
     "output_type": "execute_result"
    }
   ],
   "source": [
    "#모델 평가\n",
    "model.evaluate(x_test, y_test )"
   ]
  },
  {
   "cell_type": "markdown",
   "metadata": {
    "id": "gmCakG_vTL75"
   },
   "source": [
    "END OF CODE"
   ]
  }
 ],
 "metadata": {
  "colab": {
   "authorship_tag": "ABX9TyPJlt/cWKb2eEu4FDgtso4U",
   "collapsed_sections": [],
   "include_colab_link": true,
   "name": "docker-jupyter-mnist-keras-sample-20201015.ipynb",
   "provenance": []
  },
  "kernelspec": {
   "display_name": "Python 3",
   "language": "python",
   "name": "python3"
  },
  "language_info": {
   "codemirror_mode": {
    "name": "ipython",
    "version": 3
   },
   "file_extension": ".py",
   "mimetype": "text/x-python",
   "name": "python",
   "nbconvert_exporter": "python",
   "pygments_lexer": "ipython3",
   "version": "3.6.9"
  }
 },
 "nbformat": 4,
 "nbformat_minor": 4
}
