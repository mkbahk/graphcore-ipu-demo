{
  "nbformat": 4,
  "nbformat_minor": 0,
  "metadata": {
    "colab": {
      "name": "docker-jupyter-mnist-keras-sample-20201015.ipynb",
      "provenance": [],
      "collapsed_sections": [],
      "authorship_tag": "ABX9TyPJlt/cWKb2eEu4FDgtso4U",
      "include_colab_link": true
    },
    "kernelspec": {
      "display_name": "Python 3",
      "language": "python",
      "name": "python3"
    },
    "language_info": {
      "codemirror_mode": {
        "name": "ipython",
        "version": 3
      },
      "file_extension": ".py",
      "mimetype": "text/x-python",
      "name": "python",
      "nbconvert_exporter": "python",
      "pygments_lexer": "ipython3",
      "version": "3.6.9"
    }
  },
  "cells": [
    {
      "cell_type": "markdown",
      "metadata": {
        "id": "view-in-github",
        "colab_type": "text"
      },
      "source": [
        "<a href=\"https://colab.research.google.com/github/mkbahk/graphcore-ipu-demo/blob/main/docker_jupyter_mnist_keras_sample_20201015.ipynb\" target=\"_parent\"><img src=\"https://colab.research.google.com/assets/colab-badge.svg\" alt=\"Open In Colab\"/></a>"
      ]
    },
    {
      "cell_type": "markdown",
      "metadata": {
        "id": "HvvR8sQ5TWdn"
      },
      "source": [
        "[도커내의 jupyter notebook접근하는 방법]\n",
        "\n",
        "\n",
        "**$docker inspect f21be | grep IPAddress**\n",
        "            \"SecondaryIPAddresses\": null,\n",
        "            \"IPAddress\": \"172.17.0.3\",\n",
        "                    \"IPAddress\": \"172.17.0.3\",\n",
        "\n",
        "**$sudo iptables -A DOCKER -p tcp --dport 8888 -j ACCEPT -d 172.17.0.3**\n",
        "\n",
        "**$sudo iptables -t nat -nL**\n",
        "\n",
        "Chain DOCKER (1 references)\n",
        "target     prot opt source               destination         \n",
        "ACCEPT     tcp  --  0.0.0.0/0            172.17.0.3           tcp dpt:8888\n",
        "\n",
        "\n",
        "**$ sudo iptables -t nat -A DOCKER -p tcp --dport 8888 -j DNAT --to 172.17.0.3:8888**\n",
        "\n",
        "**$ sudo iptables -t nat -A POSTROUTING -p tcp --dport 8888 -j MASQUERADE -s 172.17.0.3 -d 172.17.0.3**\n",
        "\n",
        "\n",
        "Chain POSTROUTING (policy ACCEPT)\n",
        "target     prot opt source               destination         \n",
        "MASQUERADE  all  --  172.17.0.0/16        0.0.0.0/0           \n",
        "MASQUERADE  tcp  --  172.17.0.3           172.17.0.3           tcp dpt:8888\n",
        "Chain DOCKER (2 references)\n",
        "target     prot opt source               destination         \n",
        "RETURN     all  --  0.0.0.0/0            0.0.0.0/0           \n",
        "DNAT       tcp  --  0.0.0.0/0            0.0.0.0/0            tcp dpt:8888 to:172.17.0.3:8888\n",
        "\n",
        "\n",
        "\n",
        "[도커안에서 jupyter-notebook실행]\n",
        "\n",
        "**root@bad3da9c3d34:/# jupyter notebook --ip=0.0.0.0 --port=8888 --allow-root &   **\n",
        "\n",
        "    \n",
        "    To access the notebook, open this file in a browser:\n",
        "        file:///root/.local/share/jupyter/runtime/nbserver-25-open.html\n",
        "    Or copy and paste one of these URLs:\n",
        "        http://bad3da9c3d34:9999/?token=6ad47b1335106ca93bf28e7a2916925ad10ffa886cfaf67e\n",
        "     or http://127.0.0.1:9999/?token=6ad47b1335106ca93bf28e7a2916925ad10ffa886cfaf67e\n",
        "     \n",
        "\n",
        "\n",
        "[브라우저에서 접속하는 방법]\n",
        "\n",
        "\n",
        "**http://호스트ip:9999/?Token=6ad47b1335106ca93bf28e7a2916925ad10ffa886cfaf67e**\n"
      ]
    },
    {
      "cell_type": "code",
      "metadata": {
        "id": "XaCPYQv6S2RN"
      },
      "source": [
        "# Module Import\n",
        "from tensorflow import keras"
      ],
      "execution_count": null,
      "outputs": []
    },
    {
      "cell_type": "code",
      "metadata": {
        "id": "6OU_LQVrS48R"
      },
      "source": [
        "# Load MNIST DataSet\n",
        "(x_train, y_train), (x_test, y_test) = keras.datasets.mnist.load_data()"
      ],
      "execution_count": null,
      "outputs": []
    },
    {
      "cell_type": "code",
      "metadata": {
        "id": "MBMWqo5tS5ef"
      },
      "source": [
        "# one-hot enconding 수행\n",
        "# 5 --> 0 0 0 0 0 1 0 0 0 0\n",
        "# 1 --> 0 1 0 0 0 0 0 0 0 0\n",
        "y_train = keras.utils.to_categorical(y=y_train, num_classes = 10)\n",
        "y_test = keras.utils.to_categorical(y=y_test, num_classes=10)"
      ],
      "execution_count": null,
      "outputs": []
    },
    {
      "cell_type": "code",
      "metadata": {
        "id": "zJ2TWwhqS6Mh"
      },
      "source": [
        "#Reshaping DataSet\n",
        "x_train = x_train.reshape(60000, 28*28)\n",
        "x_test = x_test.reshape(10000, 28*28)\n",
        "print(y_train.shape, y_test.shape)\n",
        "print(x_train.shape, x_test.shape)"
      ],
      "execution_count": null,
      "outputs": []
    },
    {
      "cell_type": "code",
      "metadata": {
        "id": "V40JbBGFS6ba"
      },
      "source": [
        "#모델생성\n",
        "model = keras.Sequential()\n",
        "model.add(keras.layers.Dense(32, activation=\"sigmoid\", input_shape=(28*28,)))\n",
        "model.add(keras.layers.Dense(32, activation=\"sigmoid\"))\n",
        "model.add(keras.layers.Dense(10, activation=\"sigmoid\"))"
      ],
      "execution_count": null,
      "outputs": []
    },
    {
      "cell_type": "code",
      "metadata": {
        "id": "u8cPfWNUS6CC"
      },
      "source": [
        "#모델컴파일\n",
        "model.compile(optimizer=keras.optimizers.SGD(learning_rate=0.1), loss=\"categorical_crossentropy\", metrics=['accuracy'])\n",
        "model.summary()"
      ],
      "execution_count": null,
      "outputs": []
    },
    {
      "cell_type": "code",
      "metadata": {
        "id": "5lmNClkFS5T9"
      },
      "source": [
        "#모델훈련\n",
        "model.fit(x=x_train, y=y_train, batch_size=128, epochs=10, validation_data=(x_test, y_test))"
      ],
      "execution_count": null,
      "outputs": []
    },
    {
      "cell_type": "code",
      "metadata": {
        "id": "sy__pQIcS4k6"
      },
      "source": [
        "#모델 평가\n",
        "model.evaluate(x_test, y_test )"
      ],
      "execution_count": null,
      "outputs": []
    },
    {
      "cell_type": "markdown",
      "metadata": {
        "id": "gmCakG_vTL75"
      },
      "source": [
        "END OF CODE"
      ]
    }
  ]
}