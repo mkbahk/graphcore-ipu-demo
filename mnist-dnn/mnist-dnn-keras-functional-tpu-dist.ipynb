{
 "cells": [
  {
   "cell_type": "markdown",
   "metadata": {
    "colab_type": "text",
    "id": "view-in-github"
   },
   "source": [
    "<a href=\"https://colab.research.google.com/github/mkbahk/graphcore-ipu-demo/blob/main/mnist_tpu_dist.ipynb\" target=\"_parent\"><img src=\"https://colab.research.google.com/assets/colab-badge.svg\" alt=\"Open In Colab\"/></a>"
   ]
  },
  {
   "cell_type": "code",
   "execution_count": 1,
   "metadata": {
    "colab": {
     "base_uri": "https://localhost:8080/"
    },
    "id": "FpvUOuC3j27n",
    "outputId": "967dcd37-bc72-4cdc-a84b-8924c8de6d48"
   },
   "outputs": [
    {
     "name": "stdout",
     "output_type": "stream",
     "text": [
      "Tensorflow version 2.3.0\n",
      "[PhysicalDevice(name='/physical_device:CPU:0', device_type='CPU')]\n",
      "[]\n",
      "INFO:tensorflow:Initializing the TPU system: grpc://10.52.65.58:8470\n"
     ]
    },
    {
     "name": "stderr",
     "output_type": "stream",
     "text": [
      "INFO:tensorflow:Initializing the TPU system: grpc://10.52.65.58:8470\n"
     ]
    },
    {
     "name": "stdout",
     "output_type": "stream",
     "text": [
      "INFO:tensorflow:Clearing out eager caches\n"
     ]
    },
    {
     "name": "stderr",
     "output_type": "stream",
     "text": [
      "INFO:tensorflow:Clearing out eager caches\n"
     ]
    },
    {
     "name": "stdout",
     "output_type": "stream",
     "text": [
      "INFO:tensorflow:Finished initializing TPU system.\n"
     ]
    },
    {
     "name": "stderr",
     "output_type": "stream",
     "text": [
      "INFO:tensorflow:Finished initializing TPU system.\n"
     ]
    },
    {
     "name": "stdout",
     "output_type": "stream",
     "text": [
      "INFO:tensorflow:Found TPU system:\n"
     ]
    },
    {
     "name": "stderr",
     "output_type": "stream",
     "text": [
      "INFO:tensorflow:Found TPU system:\n"
     ]
    },
    {
     "name": "stdout",
     "output_type": "stream",
     "text": [
      "INFO:tensorflow:*** Num TPU Cores: 8\n"
     ]
    },
    {
     "name": "stderr",
     "output_type": "stream",
     "text": [
      "INFO:tensorflow:*** Num TPU Cores: 8\n"
     ]
    },
    {
     "name": "stdout",
     "output_type": "stream",
     "text": [
      "INFO:tensorflow:*** Num TPU Workers: 1\n"
     ]
    },
    {
     "name": "stderr",
     "output_type": "stream",
     "text": [
      "INFO:tensorflow:*** Num TPU Workers: 1\n"
     ]
    },
    {
     "name": "stdout",
     "output_type": "stream",
     "text": [
      "INFO:tensorflow:*** Num TPU Cores Per Worker: 8\n"
     ]
    },
    {
     "name": "stderr",
     "output_type": "stream",
     "text": [
      "INFO:tensorflow:*** Num TPU Cores Per Worker: 8\n"
     ]
    },
    {
     "name": "stdout",
     "output_type": "stream",
     "text": [
      "INFO:tensorflow:*** Available Device: _DeviceAttributes(/job:localhost/replica:0/task:0/device:CPU:0, CPU, 0, 0)\n"
     ]
    },
    {
     "name": "stderr",
     "output_type": "stream",
     "text": [
      "INFO:tensorflow:*** Available Device: _DeviceAttributes(/job:localhost/replica:0/task:0/device:CPU:0, CPU, 0, 0)\n"
     ]
    },
    {
     "name": "stdout",
     "output_type": "stream",
     "text": [
      "INFO:tensorflow:*** Available Device: _DeviceAttributes(/job:localhost/replica:0/task:0/device:XLA_CPU:0, XLA_CPU, 0, 0)\n"
     ]
    },
    {
     "name": "stderr",
     "output_type": "stream",
     "text": [
      "INFO:tensorflow:*** Available Device: _DeviceAttributes(/job:localhost/replica:0/task:0/device:XLA_CPU:0, XLA_CPU, 0, 0)\n"
     ]
    },
    {
     "name": "stdout",
     "output_type": "stream",
     "text": [
      "INFO:tensorflow:*** Available Device: _DeviceAttributes(/job:worker/replica:0/task:0/device:CPU:0, CPU, 0, 0)\n"
     ]
    },
    {
     "name": "stderr",
     "output_type": "stream",
     "text": [
      "INFO:tensorflow:*** Available Device: _DeviceAttributes(/job:worker/replica:0/task:0/device:CPU:0, CPU, 0, 0)\n"
     ]
    },
    {
     "name": "stdout",
     "output_type": "stream",
     "text": [
      "INFO:tensorflow:*** Available Device: _DeviceAttributes(/job:worker/replica:0/task:0/device:TPU:0, TPU, 0, 0)\n"
     ]
    },
    {
     "name": "stderr",
     "output_type": "stream",
     "text": [
      "INFO:tensorflow:*** Available Device: _DeviceAttributes(/job:worker/replica:0/task:0/device:TPU:0, TPU, 0, 0)\n"
     ]
    },
    {
     "name": "stdout",
     "output_type": "stream",
     "text": [
      "INFO:tensorflow:*** Available Device: _DeviceAttributes(/job:worker/replica:0/task:0/device:TPU:1, TPU, 0, 0)\n"
     ]
    },
    {
     "name": "stderr",
     "output_type": "stream",
     "text": [
      "INFO:tensorflow:*** Available Device: _DeviceAttributes(/job:worker/replica:0/task:0/device:TPU:1, TPU, 0, 0)\n"
     ]
    },
    {
     "name": "stdout",
     "output_type": "stream",
     "text": [
      "INFO:tensorflow:*** Available Device: _DeviceAttributes(/job:worker/replica:0/task:0/device:TPU:2, TPU, 0, 0)\n"
     ]
    },
    {
     "name": "stderr",
     "output_type": "stream",
     "text": [
      "INFO:tensorflow:*** Available Device: _DeviceAttributes(/job:worker/replica:0/task:0/device:TPU:2, TPU, 0, 0)\n"
     ]
    },
    {
     "name": "stdout",
     "output_type": "stream",
     "text": [
      "INFO:tensorflow:*** Available Device: _DeviceAttributes(/job:worker/replica:0/task:0/device:TPU:3, TPU, 0, 0)\n"
     ]
    },
    {
     "name": "stderr",
     "output_type": "stream",
     "text": [
      "INFO:tensorflow:*** Available Device: _DeviceAttributes(/job:worker/replica:0/task:0/device:TPU:3, TPU, 0, 0)\n"
     ]
    },
    {
     "name": "stdout",
     "output_type": "stream",
     "text": [
      "INFO:tensorflow:*** Available Device: _DeviceAttributes(/job:worker/replica:0/task:0/device:TPU:4, TPU, 0, 0)\n"
     ]
    },
    {
     "name": "stderr",
     "output_type": "stream",
     "text": [
      "INFO:tensorflow:*** Available Device: _DeviceAttributes(/job:worker/replica:0/task:0/device:TPU:4, TPU, 0, 0)\n"
     ]
    },
    {
     "name": "stdout",
     "output_type": "stream",
     "text": [
      "INFO:tensorflow:*** Available Device: _DeviceAttributes(/job:worker/replica:0/task:0/device:TPU:5, TPU, 0, 0)\n"
     ]
    },
    {
     "name": "stderr",
     "output_type": "stream",
     "text": [
      "INFO:tensorflow:*** Available Device: _DeviceAttributes(/job:worker/replica:0/task:0/device:TPU:5, TPU, 0, 0)\n"
     ]
    },
    {
     "name": "stdout",
     "output_type": "stream",
     "text": [
      "INFO:tensorflow:*** Available Device: _DeviceAttributes(/job:worker/replica:0/task:0/device:TPU:6, TPU, 0, 0)\n"
     ]
    },
    {
     "name": "stderr",
     "output_type": "stream",
     "text": [
      "INFO:tensorflow:*** Available Device: _DeviceAttributes(/job:worker/replica:0/task:0/device:TPU:6, TPU, 0, 0)\n"
     ]
    },
    {
     "name": "stdout",
     "output_type": "stream",
     "text": [
      "INFO:tensorflow:*** Available Device: _DeviceAttributes(/job:worker/replica:0/task:0/device:TPU:7, TPU, 0, 0)\n"
     ]
    },
    {
     "name": "stderr",
     "output_type": "stream",
     "text": [
      "INFO:tensorflow:*** Available Device: _DeviceAttributes(/job:worker/replica:0/task:0/device:TPU:7, TPU, 0, 0)\n"
     ]
    },
    {
     "name": "stdout",
     "output_type": "stream",
     "text": [
      "INFO:tensorflow:*** Available Device: _DeviceAttributes(/job:worker/replica:0/task:0/device:TPU_SYSTEM:0, TPU_SYSTEM, 0, 0)\n"
     ]
    },
    {
     "name": "stderr",
     "output_type": "stream",
     "text": [
      "INFO:tensorflow:*** Available Device: _DeviceAttributes(/job:worker/replica:0/task:0/device:TPU_SYSTEM:0, TPU_SYSTEM, 0, 0)\n"
     ]
    },
    {
     "name": "stdout",
     "output_type": "stream",
     "text": [
      "INFO:tensorflow:*** Available Device: _DeviceAttributes(/job:worker/replica:0/task:0/device:XLA_CPU:0, XLA_CPU, 0, 0)\n"
     ]
    },
    {
     "name": "stderr",
     "output_type": "stream",
     "text": [
      "INFO:tensorflow:*** Available Device: _DeviceAttributes(/job:worker/replica:0/task:0/device:XLA_CPU:0, XLA_CPU, 0, 0)\n"
     ]
    }
   ],
   "source": [
    "%tensorflow_version 2.x\n",
    "import tensorflow as tf\n",
    "\n",
    "from tensorflow import keras\n",
    "import time\n",
    "import os\n",
    "\n",
    "print(\"Tensorflow version \" + tf.__version__)\n",
    "print(tf.config.list_physical_devices(\"CPU\"))\n",
    "print(tf.config.list_physical_devices(\"GPU\"))\n",
    "\n",
    "\n",
    "resolver = tf.distribute.cluster_resolver.TPUClusterResolver(tpu='grpc://'+os.environ['COLAB_TPU_ADDR'])\n",
    "#Connect to the TPU handle and initialise it\n",
    "tf.config.experimental_connect_to_cluster(resolver)\n",
    "tf.tpu.experimental.initialize_tpu_system(resolver)\n",
    "strategy = tf.distribute.TPUStrategy(resolver)"
   ]
  },
  {
   "cell_type": "code",
   "execution_count": 2,
   "metadata": {
    "id": "HCGy1S8_mPnV"
   },
   "outputs": [],
   "source": [
    "start = time.time() # 시작 시간 저장"
   ]
  },
  {
   "cell_type": "code",
   "execution_count": 3,
   "metadata": {
    "id": "bVgp531qczsO"
   },
   "outputs": [],
   "source": [
    "if tf.__version__[0] != '2':\n",
    "    raise ImportError(\"TensorFlow 2 is required for this example\")"
   ]
  },
  {
   "cell_type": "code",
   "execution_count": 4,
   "metadata": {
    "colab": {
     "base_uri": "https://localhost:8080/"
    },
    "id": "nHDDw4H8c2qJ",
    "outputId": "8dd46884-3eb1-402b-f19e-e4a0ad462e4f"
   },
   "outputs": [
    {
     "name": "stdout",
     "output_type": "stream",
     "text": [
      "Downloading data from https://storage.googleapis.com/tensorflow/tf-keras-datasets/mnist.npz\n",
      "11493376/11490434 [==============================] - 0s 0us/step\n"
     ]
    }
   ],
   "source": [
    "# The input data and labels.\n",
    "mnist = tf.keras.datasets.mnist\n",
    "\n",
    "(x_train, y_train), (x_test, y_test) = mnist.load_data()\n",
    "(x_train, x_test) = (x_train / 255.0, x_test / 255.0)\n",
    "\n",
    "# Add a channels dimension.\n",
    "x_train = x_train[..., tf.newaxis]\n",
    "x_test = x_test[..., tf.newaxis]"
   ]
  },
  {
   "cell_type": "code",
   "execution_count": 5,
   "metadata": {
    "id": "eKKTURm8c5jP"
   },
   "outputs": [],
   "source": [
    "def create_train_dataset():\n",
    "    print(\"==============================Processing Training DataSet==============================\\n\\n\")\n",
    "    train_ds = tf.data.Dataset.from_tensor_slices((x_train, y_train)).shuffle(60000).batch(32, drop_remainder=True)\n",
    "    train_ds = train_ds.map(lambda d, l: (tf.cast(d, tf.float32), tf.cast(l, tf.float32)))\n",
    "    return train_ds.repeat()\n",
    "\n",
    "def create_test_dataset():\n",
    "    print(\"==============================Processing Test  DataSet==============================\\n\\n\")\n",
    "    test_ds = tf.data.Dataset.from_tensor_slices((x_test, y_test)).shuffle(10000).batch(32, drop_remainder=True)\n",
    "    test_ds = test_ds.map(lambda d, l: (tf.cast(d, tf.float32), tf.cast(l, tf.float32)))\n",
    "    return test_ds.repeat()"
   ]
  },
  {
   "cell_type": "code",
   "execution_count": 6,
   "metadata": {
    "id": "fuP7KABnc8rV"
   },
   "outputs": [],
   "source": [
    "# Create the model using the IPU-specific Sequential class instead of the\n",
    "# standard tf.keras.Sequential class\n",
    "def create_model():\n",
    "    model = tf.keras.Sequential([\n",
    "        keras.layers.Flatten(),\n",
    "        keras.layers.Dense(128, activation='relu'),\n",
    "        keras.layers.Dense(256, activation='relu'),\n",
    "        keras.layers.Dense(128, activation='relu'),\n",
    "        keras.layers.Dense(10, activation='softmax')])\n",
    "    \n",
    "    model.compile(loss = tf.keras.losses.SparseCategoricalCrossentropy(), \n",
    "                  optimizer = tf.keras.optimizers.Adam(), \n",
    "                  experimental_steps_per_execution = 50, \n",
    "                  metrics=['sparse_categorical_accuracy'])\n",
    "    return model"
   ]
  },
  {
   "cell_type": "code",
   "execution_count": 7,
   "metadata": {
    "id": "Jw6kNn_kc_IK"
   },
   "outputs": [],
   "source": [
    "def main():\n",
    "      # Get the training dataset.\n",
    "      print(\"==============================Getting Training DataSet==============================\\n\\n\")\n",
    "      ds1 = create_train_dataset()\n",
    "      print(\"==============================Getting Test DataSet==============================\\n\\n\")\n",
    "      ds2 = create_test_dataset()\n",
    "\n",
    "      with strategy.scope():   \n",
    "        # Create an instance of the model.\n",
    "        print(\"==============================Building Model & Compile ==============================\\n\\n\")\n",
    "        model = create_model()\n",
    "      #end of with\n",
    "      \n",
    "      print(\"==============================Model Training ==============================\\n\\n\")\n",
    "      model.fit(ds1, steps_per_epoch=2000, epochs=50)\n",
    "\n",
    "      print(\"\\n\\n==============================Checking the result==============================\\n\\n\")\n",
    "      loss, accuracy = model.evaluate(ds2, steps=1000)\n",
    "      print(\"Validation loss: {}\".format(loss))\n",
    "      print(\"Validation accuracy: {}%\".format(100.0 * accuracy))\n",
    "      print(\"\\n\\n==============================Job Done by TPU !!!==============================\")"
   ]
  },
  {
   "cell_type": "code",
   "execution_count": 8,
   "metadata": {
    "colab": {
     "base_uri": "https://localhost:8080/"
    },
    "id": "08N38eYodElH",
    "outputId": "58ac40c7-a7cf-44ee-8a15-d3c15bdb73fa"
   },
   "outputs": [
    {
     "name": "stdout",
     "output_type": "stream",
     "text": [
      "==============================Getting Training DataSet==============================\n",
      "\n",
      "\n",
      "==============================Processing Training DataSet==============================\n",
      "\n",
      "\n",
      "==============================Getting Test DataSet==============================\n",
      "\n",
      "\n",
      "==============================Processing Test  DataSet==============================\n",
      "\n",
      "\n",
      "==============================Building Model & Compile ==============================\n",
      "\n",
      "\n",
      "==============================Model Training ==============================\n",
      "\n",
      "\n",
      "Epoch 1/50\n",
      "2000/2000 [==============================] - 5s 3ms/step - loss: 0.2115 - sparse_categorical_accuracy: 0.9362\n",
      "Epoch 2/50\n",
      "2000/2000 [==============================] - 4s 2ms/step - loss: 0.0909 - sparse_categorical_accuracy: 0.9722\n",
      "Epoch 3/50\n",
      "2000/2000 [==============================] - 4s 2ms/step - loss: 0.0660 - sparse_categorical_accuracy: 0.9791\n",
      "Epoch 4/50\n",
      "2000/2000 [==============================] - 4s 2ms/step - loss: 0.0517 - sparse_categorical_accuracy: 0.9830\n",
      "Epoch 5/50\n",
      "2000/2000 [==============================] - 4s 2ms/step - loss: 0.0416 - sparse_categorical_accuracy: 0.9866\n",
      "Epoch 6/50\n",
      "2000/2000 [==============================] - 4s 2ms/step - loss: 0.0352 - sparse_categorical_accuracy: 0.9888\n",
      "Epoch 7/50\n",
      "2000/2000 [==============================] - 4s 2ms/step - loss: 0.0313 - sparse_categorical_accuracy: 0.9901\n",
      "Epoch 8/50\n",
      "2000/2000 [==============================] - 4s 2ms/step - loss: 0.0268 - sparse_categorical_accuracy: 0.9912\n",
      "Epoch 9/50\n",
      "2000/2000 [==============================] - 4s 2ms/step - loss: 0.0235 - sparse_categorical_accuracy: 0.9923\n",
      "Epoch 10/50\n",
      "2000/2000 [==============================] - 4s 2ms/step - loss: 0.0219 - sparse_categorical_accuracy: 0.9934\n",
      "Epoch 11/50\n",
      "2000/2000 [==============================] - 4s 2ms/step - loss: 0.0213 - sparse_categorical_accuracy: 0.9935\n",
      "Epoch 12/50\n",
      "2000/2000 [==============================] - 4s 2ms/step - loss: 0.0199 - sparse_categorical_accuracy: 0.9940\n",
      "Epoch 13/50\n",
      "2000/2000 [==============================] - 4s 2ms/step - loss: 0.0176 - sparse_categorical_accuracy: 0.9945\n",
      "Epoch 14/50\n",
      "2000/2000 [==============================] - 4s 2ms/step - loss: 0.0169 - sparse_categorical_accuracy: 0.9949\n",
      "Epoch 15/50\n",
      "2000/2000 [==============================] - 4s 2ms/step - loss: 0.0146 - sparse_categorical_accuracy: 0.9958\n",
      "Epoch 16/50\n",
      "2000/2000 [==============================] - 4s 2ms/step - loss: 0.0145 - sparse_categorical_accuracy: 0.9955\n",
      "Epoch 17/50\n",
      "2000/2000 [==============================] - 4s 2ms/step - loss: 0.0152 - sparse_categorical_accuracy: 0.9955\n",
      "Epoch 18/50\n",
      "2000/2000 [==============================] - 4s 2ms/step - loss: 0.0116 - sparse_categorical_accuracy: 0.9963\n",
      "Epoch 19/50\n",
      "2000/2000 [==============================] - 4s 2ms/step - loss: 0.0158 - sparse_categorical_accuracy: 0.9957\n",
      "Epoch 20/50\n",
      "2000/2000 [==============================] - 4s 2ms/step - loss: 0.0116 - sparse_categorical_accuracy: 0.9968\n",
      "Epoch 21/50\n",
      "2000/2000 [==============================] - 4s 2ms/step - loss: 0.0117 - sparse_categorical_accuracy: 0.9966\n",
      "Epoch 22/50\n",
      "2000/2000 [==============================] - 4s 2ms/step - loss: 0.0122 - sparse_categorical_accuracy: 0.9967\n",
      "Epoch 23/50\n",
      "2000/2000 [==============================] - 4s 2ms/step - loss: 0.0136 - sparse_categorical_accuracy: 0.9961\n",
      "Epoch 24/50\n",
      "2000/2000 [==============================] - 4s 2ms/step - loss: 0.0100 - sparse_categorical_accuracy: 0.9973\n",
      "Epoch 25/50\n",
      "2000/2000 [==============================] - 4s 2ms/step - loss: 0.0118 - sparse_categorical_accuracy: 0.9966\n",
      "Epoch 26/50\n",
      "2000/2000 [==============================] - 4s 2ms/step - loss: 0.0109 - sparse_categorical_accuracy: 0.9971\n",
      "Epoch 27/50\n",
      "2000/2000 [==============================] - 4s 2ms/step - loss: 0.0106 - sparse_categorical_accuracy: 0.9974\n",
      "Epoch 28/50\n",
      "2000/2000 [==============================] - 4s 2ms/step - loss: 0.0117 - sparse_categorical_accuracy: 0.9970\n",
      "Epoch 29/50\n",
      "2000/2000 [==============================] - 4s 2ms/step - loss: 0.0114 - sparse_categorical_accuracy: 0.9971\n",
      "Epoch 30/50\n",
      "2000/2000 [==============================] - 4s 2ms/step - loss: 0.0099 - sparse_categorical_accuracy: 0.9973\n",
      "Epoch 31/50\n",
      "2000/2000 [==============================] - 4s 2ms/step - loss: 0.0099 - sparse_categorical_accuracy: 0.9975\n",
      "Epoch 32/50\n",
      "2000/2000 [==============================] - 4s 2ms/step - loss: 0.0091 - sparse_categorical_accuracy: 0.9977\n",
      "Epoch 33/50\n",
      "2000/2000 [==============================] - 4s 2ms/step - loss: 0.0087 - sparse_categorical_accuracy: 0.9977\n",
      "Epoch 34/50\n",
      "2000/2000 [==============================] - 4s 2ms/step - loss: 0.0112 - sparse_categorical_accuracy: 0.9970\n",
      "Epoch 35/50\n",
      "2000/2000 [==============================] - 4s 2ms/step - loss: 0.0077 - sparse_categorical_accuracy: 0.9980\n",
      "Epoch 36/50\n",
      "2000/2000 [==============================] - 4s 2ms/step - loss: 0.0092 - sparse_categorical_accuracy: 0.9975\n",
      "Epoch 37/50\n",
      "2000/2000 [==============================] - 4s 2ms/step - loss: 0.0077 - sparse_categorical_accuracy: 0.9980\n",
      "Epoch 38/50\n",
      "2000/2000 [==============================] - 4s 2ms/step - loss: 0.0107 - sparse_categorical_accuracy: 0.9975\n",
      "Epoch 39/50\n",
      "2000/2000 [==============================] - 4s 2ms/step - loss: 0.0102 - sparse_categorical_accuracy: 0.9978\n",
      "Epoch 40/50\n",
      "2000/2000 [==============================] - 4s 2ms/step - loss: 0.0094 - sparse_categorical_accuracy: 0.9978\n",
      "Epoch 41/50\n",
      "2000/2000 [==============================] - 4s 2ms/step - loss: 0.0085 - sparse_categorical_accuracy: 0.9981\n",
      "Epoch 42/50\n",
      "2000/2000 [==============================] - 4s 2ms/step - loss: 0.0103 - sparse_categorical_accuracy: 0.9978\n",
      "Epoch 43/50\n",
      "2000/2000 [==============================] - 4s 2ms/step - loss: 0.0063 - sparse_categorical_accuracy: 0.9986\n",
      "Epoch 44/50\n",
      "2000/2000 [==============================] - 4s 2ms/step - loss: 0.0111 - sparse_categorical_accuracy: 0.9973\n",
      "Epoch 45/50\n",
      "2000/2000 [==============================] - 4s 2ms/step - loss: 0.0080 - sparse_categorical_accuracy: 0.9980\n",
      "Epoch 46/50\n",
      "2000/2000 [==============================] - 5s 2ms/step - loss: 0.0079 - sparse_categorical_accuracy: 0.9980\n",
      "Epoch 47/50\n",
      "2000/2000 [==============================] - 4s 2ms/step - loss: 0.0083 - sparse_categorical_accuracy: 0.9979\n",
      "Epoch 48/50\n",
      "2000/2000 [==============================] - 5s 2ms/step - loss: 0.0093 - sparse_categorical_accuracy: 0.9979\n",
      "Epoch 49/50\n",
      "2000/2000 [==============================] - 5s 2ms/step - loss: 0.0084 - sparse_categorical_accuracy: 0.9980\n",
      "Epoch 50/50\n",
      "2000/2000 [==============================] - 5s 2ms/step - loss: 0.0066 - sparse_categorical_accuracy: 0.9984\n",
      "\n",
      "\n",
      "==============================Checking the result==============================\n",
      "\n",
      "\n",
      "1000/1000 [==============================] - 2s 2ms/step - loss: 0.1672 - sparse_categorical_accuracy: 0.9828\n",
      "Validation loss: 0.16719619929790497\n",
      "Validation accuracy: 98.28125238418579%\n",
      "\n",
      "\n",
      "==============================Job Done by TPU !!!==============================\n"
     ]
    }
   ],
   "source": [
    "if __name__ == '__main__':\n",
    "    main()"
   ]
  },
  {
   "cell_type": "code",
   "execution_count": 9,
   "metadata": {
    "colab": {
     "base_uri": "https://localhost:8080/"
    },
    "id": "xsAhmmdbdhg0",
    "outputId": "dc6d371e-67f3-47a1-a85e-5f793c8b29c1"
   },
   "outputs": [
    {
     "name": "stdout",
     "output_type": "stream",
     "text": [
      "실행시간 : 235.56749176979065 (초)\n"
     ]
    }
   ],
   "source": [
    "print(\"실행시간 :\", time.time() - start,\"(초)\")  # 현재시각 - 시작시간 = 실행 시간"
   ]
  }
 ],
 "metadata": {
  "accelerator": "TPU",
  "colab": {
   "collapsed_sections": [],
   "include_colab_link": true,
   "name": "mnist-tpu-dist.ipynb",
   "provenance": []
  },
  "kernelspec": {
   "display_name": "Python 3",
   "language": "python",
   "name": "python3"
  },
  "language_info": {
   "codemirror_mode": {
    "name": "ipython",
    "version": 3
   },
   "file_extension": ".py",
   "mimetype": "text/x-python",
   "name": "python",
   "nbconvert_exporter": "python",
   "pygments_lexer": "ipython3",
   "version": "3.6.9"
  }
 },
 "nbformat": 4,
 "nbformat_minor": 4
}