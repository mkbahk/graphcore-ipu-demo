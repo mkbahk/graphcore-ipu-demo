{
  "nbformat": 4,
  "nbformat_minor": 5,
  "metadata": {
    "kernelspec": {
      "display_name": "Python 3",
      "language": "python",
      "name": "python3"
    },
    "language_info": {
      "codemirror_mode": {
        "name": "ipython",
        "version": 3
      },
      "file_extension": ".py",
      "mimetype": "text/x-python",
      "name": "python",
      "nbconvert_exporter": "python",
      "pygments_lexer": "ipython3",
      "version": "3.6.9"
    },
    "toc-autonumbering": true,
    "toc-showcode": true,
    "toc-showmarkdowntxt": true,
    "colab": {
      "name": "mnist-cnn-keras-subclass-cpu.ipynb",
      "provenance": [],
      "include_colab_link": true
    }
  },
  "cells": [
    {
      "cell_type": "markdown",
      "metadata": {
        "id": "view-in-github",
        "colab_type": "text"
      },
      "source": [
        "<a href=\"https://colab.research.google.com/github/mkbahk/graphcore-ipu-demo/blob/main/mnist-cnn-keras-subclass-cpu.ipynb\" target=\"_parent\"><img src=\"https://colab.research.google.com/assets/colab-badge.svg\" alt=\"Open In Colab\"/></a>"
      ]
    },
    {
      "cell_type": "markdown",
      "metadata": {
        "id": "likely-courage"
      },
      "source": [
        "MNIST CNN Subclassing 모델 학습"
      ],
      "id": "likely-courage"
    },
    {
      "cell_type": "markdown",
      "metadata": {
        "id": "recent-change"
      },
      "source": [
        "1. Importing Libraries\n",
        "<br>tensorflow 2.3.0\n",
        "<br>keras 2.4.0"
      ],
      "id": "recent-change"
    },
    {
      "cell_type": "code",
      "metadata": {
        "id": "korean-bangkok"
      },
      "source": [
        "import tensorflow as tf \n",
        "from tensorflow import keras\n",
        "from tensorflow.keras.utils import to_categorical # one-hot 인코딩\n",
        "import numpy as np\n",
        "import matplotlib.pyplot as plt\n",
        "import os\n",
        "\n",
        "print(tf.__version__)     # 텐서플로우 버전확인 (colab의 기본버전은 1.15.0) --> 2.0 변경 \"%tensorflow_version 2.x\"\n",
        "print(keras.__version__)  # 케라스 버전확인"
      ],
      "id": "korean-bangkok",
      "execution_count": null,
      "outputs": []
    },
    {
      "cell_type": "markdown",
      "metadata": {
        "id": "ethical-chart"
      },
      "source": [
        "2. Hyper Parameters"
      ],
      "id": "ethical-chart"
    },
    {
      "cell_type": "code",
      "metadata": {
        "id": "ordinary-least"
      },
      "source": [
        "learning_rate = 0.001\n",
        "training_epochs = 15\n",
        "batch_size = 100"
      ],
      "id": "ordinary-least",
      "execution_count": null,
      "outputs": []
    },
    {
      "cell_type": "markdown",
      "metadata": {
        "id": "patent-prairie"
      },
      "source": [
        "3. MNIST Data Processing"
      ],
      "id": "patent-prairie"
    },
    {
      "cell_type": "code",
      "metadata": {
        "id": "surgical-accused"
      },
      "source": [
        "mnist = keras.datasets.mnist\n",
        "class_names = ['0', '1', '2', '3', '4', '5', '6', '7', '8', '9']"
      ],
      "id": "surgical-accused",
      "execution_count": null,
      "outputs": []
    },
    {
      "cell_type": "code",
      "metadata": {
        "id": "convertible-modification"
      },
      "source": [
        "# MNIST image load (trian, test)\n",
        "(train_images, train_labels), (test_images, test_labels) = mnist.load_data()    \n",
        "\n",
        "# 0~255 중 하나로 표현되는 입력 이미지들의 값을 1 이하가 되도록 정규화    \n",
        "train_images = train_images.astype(np.float32) / 255.\n",
        "test_images = test_images.astype(np.float32) / 255.\n",
        "\n",
        "# np.expand_dims 차원을 변경\n",
        "train_images = np.expand_dims(train_images, axis=-1)\n",
        "test_images = np.expand_dims(test_images, axis=-1)\n",
        "\n",
        "# label을 ont-hot encoding    \n",
        "train_labels = to_categorical(train_labels, 10)\n",
        "test_labels = to_categorical(test_labels, 10) "
      ],
      "id": "convertible-modification",
      "execution_count": null,
      "outputs": []
    },
    {
      "cell_type": "markdown",
      "metadata": {
        "id": "portable-publication"
      },
      "source": [
        "4. Define Model Structure with Class"
      ],
      "id": "portable-publication"
    },
    {
      "cell_type": "code",
      "metadata": {
        "id": "psychological-advice"
      },
      "source": [
        "# model class 구현\n",
        "class ModelStructureCreate(tf.keras.Model): # keras.model 구현\n",
        "    def __init__(self):  # 기본이 되는 층을 구현\n",
        "        # call the parent constructor(class의 tf.keras.Model) \n",
        "        super(ModelStructureCreate, self).__init__() \n",
        "        # initialize the layers\n",
        "        self.conv1 = keras.layers.Conv2D(filters=32, kernel_size=[3, 3], padding='SAME', activation=tf.nn.relu)\n",
        "        self.pool1 = keras.layers.MaxPool2D(padding='SAME')\n",
        "        self.conv2 = keras.layers.Conv2D(filters=64, kernel_size=[3, 3], padding='SAME', activation=tf.nn.relu)\n",
        "        self.pool2 = keras.layers.MaxPool2D(padding='SAME')\n",
        "        self.conv3 = keras.layers.Conv2D(filters=128, kernel_size=[3, 3], padding='SAME', activation=tf.nn.relu)\n",
        "        self.pool3 = keras.layers.MaxPool2D(padding='SAME')\n",
        "        self.pool3_flat = keras.layers.Flatten()\n",
        "        self.dense4 = keras.layers.Dense(units=256, activation=tf.nn.relu)\n",
        "        self.drop4 = keras.layers.Dropout(rate=0.4)\n",
        "        self.dense5 = keras.layers.Dense(units=10, activation=tf.nn.softmax)\n",
        "    #end of def\n",
        "    \n",
        "    \n",
        "    # init에서 만든 층을 불러와서 network 구성 (연산부분을 담당)   \n",
        "    def call(self, inputs, training=False):  # training : training과 test시에 다르게 동작할 때, true면 둘이 동일하게 사용됨\n",
        "        net = self.conv1(inputs)\n",
        "        net = self.pool1(net)\n",
        "        net = self.conv2(net)\n",
        "        net = self.pool2(net)\n",
        "        net = self.conv3(net)\n",
        "        net = self.pool3(net)\n",
        "        net = self.pool3_flat(net)\n",
        "        net = self.dense4(net)\n",
        "        net = self.drop4(net)\n",
        "        net = self.dense5(net)\n",
        "        return net\n",
        "    #end of def\n",
        "#end of Class"
      ],
      "id": "psychological-advice",
      "execution_count": null,
      "outputs": []
    },
    {
      "cell_type": "code",
      "metadata": {
        "id": "arranged-galaxy"
      },
      "source": [
        "model = ModelStructureCreate() # model 클래스를 model 객체로 변경\n",
        "temp_inputs = keras.Input(shape=(28, 28, 1)) # model input image size\n",
        "model(temp_inputs) # model input\n",
        "model.summary() # 모델에 대한 요약 출력해줌"
      ],
      "id": "arranged-galaxy",
      "execution_count": null,
      "outputs": []
    },
    {
      "cell_type": "markdown",
      "metadata": {
        "id": "accurate-defendant"
      },
      "source": [
        "5. Training"
      ],
      "id": "accurate-defendant"
    },
    {
      "cell_type": "code",
      "metadata": {
        "id": "partial-politics"
      },
      "source": [
        "# CNN 모델 구조 확정하고 컴파일 진행\n",
        "model.compile(loss='categorical_crossentropy',      # crossentropy loss\n",
        "              optimizer='adam',                      # adam optimizer\n",
        "              metrics=['accuracy'])                  # 측정값 : accuracy\n",
        "\n",
        "# 학습실행\n",
        "model.fit(train_images, train_labels,                # 입력값\n",
        "          batch_size=batch_size,                      # 1회마다 배치마다 100개 프로세스 \n",
        "          epochs=training_epochs,                     # 15회 학습\n",
        "          verbose=1,                                  # verbose는 학습 중 출력되는 문구를 설정하는 것 \n",
        "          validation_data=(test_images, test_labels)) # test를 val로 사용"
      ],
      "id": "partial-politics",
      "execution_count": null,
      "outputs": []
    },
    {
      "cell_type": "markdown",
      "metadata": {
        "id": "impressive-farmer"
      },
      "source": [
        "6. Inferencing"
      ],
      "id": "impressive-farmer"
    },
    {
      "cell_type": "code",
      "metadata": {
        "id": "placed-toddler"
      },
      "source": [
        "# test 값 결과 확인\n",
        "score = model.evaluate(test_images, test_labels, verbose=1) # verbose가 0 이면 ==== 움직이지 않고, 1이면 ==== 진행 바가 움직임\n",
        "print('Test loss:', score[0])\n",
        "print('Test accuracy:', score[1])"
      ],
      "id": "placed-toddler",
      "execution_count": null,
      "outputs": []
    },
    {
      "cell_type": "code",
      "metadata": {
        "id": "prospective-syndicate"
      },
      "source": [
        "#End of Codes..."
      ],
      "id": "prospective-syndicate",
      "execution_count": null,
      "outputs": []
    }
  ]
}