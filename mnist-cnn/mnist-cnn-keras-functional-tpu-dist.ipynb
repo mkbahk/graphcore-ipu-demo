{
  "nbformat": 4,
  "nbformat_minor": 0,
  "metadata": {
    "colab": {
      "name": "mnist-cnn-keras-functional-tpu-dist.ipynb",
      "private_outputs": true,
      "provenance": [],
      "authorship_tag": "ABX9TyOaCq2jTFpS3uRKVD/bzFx+",
      "include_colab_link": true
    },
    "kernelspec": {
      "name": "python3",
      "display_name": "Python 3"
    },
    "accelerator": "TPU"
  },
  "cells": [
    {
      "cell_type": "markdown",
      "metadata": {
        "id": "view-in-github",
        "colab_type": "text"
      },
      "source": [
        "<a href=\"https://colab.research.google.com/github/mkbahk/graphcore-ipu-demo/blob/main/mnist/mnist_cnn_keras_functional_tpu_dist.ipynb\" target=\"_parent\"><img src=\"https://colab.research.google.com/assets/colab-badge.svg\" alt=\"Open In Colab\"/></a>"
      ]
    },
    {
      "cell_type": "markdown",
      "metadata": {
        "id": "58fmHfvMtTPp"
      },
      "source": [
        "\"\"\"<br>\n",
        "Keras MNIST 예제를 기반으로 작성되었습니다.<br>\n",
        "https://keras.io/examples/vision/mnist_convnet/<br>\n",
        "작성자: 박문기(mkbahk@m e g a zone.com)<br>\n",
        "\"\"\"<br>"
      ]
    },
    {
      "cell_type": "code",
      "metadata": {
        "id": "sCtAj7PXteiZ"
      },
      "source": [
        "# 파이썬 모듈 임포트\n",
        "import numpy as np\n",
        "from tensorflow import keras\n",
        "from tensorflow.keras import layers\n",
        "import tensorflow as tf\n",
        "import time\n",
        "import os"
      ],
      "execution_count": null,
      "outputs": []
    },
    {
      "cell_type": "code",
      "metadata": {
        "id": "84SIgMQJth1B"
      },
      "source": [
        "# 모델/데이타 하이퍼파라메터\n",
        "num_classes = 10\n",
        "input_shape = (28, 28, 1)"
      ],
      "execution_count": null,
      "outputs": []
    },
    {
      "cell_type": "code",
      "metadata": {
        "id": "gtTyunSutiDp"
      },
      "source": [
        "def data_fn():\n",
        "    # 데이타를 훈련과 검증용으로 분리\n",
        "    (x_train, y_train), (x_test, y_test) = keras.datasets.mnist.load_data()\n",
        "\n",
        "    # [0, 1] 범위로 이미지들 조정\n",
        "    x_train = x_train.astype(\"float32\") / 255\n",
        "    x_test = x_test.astype(\"float32\") / 255\n",
        "\n",
        "    # 이미지들이 (28, 28, 1) 형태로 변형하기\n",
        "    x_train = np.expand_dims(x_train, -1)\n",
        "    x_test = np.expand_dims(x_test, -1)\n",
        "\n",
        "    # 클래스 벡터를 이진 클래스 메트릭스들로 변환\n",
        "    y_train = keras.utils.to_categorical(y_train, num_classes)\n",
        "    y_test = keras.utils.to_categorical(y_test, num_classes)\n",
        "\n",
        "    return x_train, y_train, x_test, y_test\n",
        "### end of def:"
      ],
      "execution_count": null,
      "outputs": []
    },
    {
      "cell_type": "code",
      "metadata": {
        "id": "_4fE4KbrtiHw"
      },
      "source": [
        "def functional_model_fn():\n",
        "    # 단순한 합성곱 네트워크 만들기\n",
        "    input_layer = keras.Input(shape=input_shape)\n",
        "   \n",
        "    x = layers.Conv2D(32, kernel_size=(3, 3), activation='relu')(input_layer)\n",
        "    x = layers.MaxPooling2D(pool_size=(2, 2))(x)\n",
        "    x = layers.Conv2D(64, kernel_size=(3, 3), activation='relu')(x)\n",
        "    x = layers.MaxPooling2D(pool_size=(2, 2))(x)\n",
        "    x = layers.Flatten()(x)\n",
        "    x = layers.Dropout(0.5)(x)\n",
        "    \n",
        "    output_layer = layers.Dense(num_classes, activation='softmax')(x)\n",
        "    return keras.Model(input_layer, output_layer)\n",
        "### end of def:"
      ],
      "execution_count": null,
      "outputs": []
    },
    {
      "cell_type": "code",
      "metadata": {
        "id": "cE8ZlRPetiLR"
      },
      "source": [
        "def train_model(model):\n",
        "    # 훈련용 하이퍼파라메터\n",
        "    batch_size = 128\n",
        "    epochs = 100\n",
        "\n",
        "    # 데이타 얻기\n",
        "    x_train, y_train, x_test, y_test = data_fn()\n",
        "\n",
        "    # 훈련을 위해서 모델을 컴파일\n",
        "    model.compile(loss='categorical_crossentropy', optimizer='adam', metrics=['accuracy'])\n",
        "\n",
        "    # 모델을 훈련하기\n",
        "    model.fit(x=x_train, y=y_train, batch_size=batch_size, epochs=epochs)\n",
        "\n",
        "    # 훈련된 모델을 평가하기\n",
        "    eval_out = model.evaluate(x=x_test, y=y_test, batch_size=batch_size)\n",
        "    print(\"Evaluation Loss: %f Evaluation Accuracy: %f\" % tuple(eval_out))\n",
        "### end of def:\n"
      ],
      "execution_count": null,
      "outputs": []
    },
    {
      "cell_type": "code",
      "metadata": {
        "id": "KxRHoFTdtiOo"
      },
      "source": [
        "if __name__ == '__main__':\n",
        "    # TPU System 설정\n",
        "    resolver = tf.distribute.cluster_resolver.TPUClusterResolver(tpu='grpc://'+os.environ['COLAB_TPU_ADDR'])\n",
        "    tf.config.experimental_connect_to_cluster(resolver)\n",
        "    tf.tpu.experimental.initialize_tpu_system(resolver)\n",
        "    \n",
        "    strategy = tf.distribute.TPUStrategy(resolver)\n",
        "    with strategy.scope():\n",
        "        # funcaitonal model 훈련하기\n",
        "        print(\"\\n\\nTraining a Function MNIST Model.\")\n",
        "        start = time.time()\n",
        "        train_model(functional_model_fn())\n",
        "        print(\"Running Time :\", round(time.time() - start, 2),\"(Sec.)\")\n",
        "    ### end of with:\n",
        "### end of if:"
      ],
      "execution_count": null,
      "outputs": []
    },
    {
      "cell_type": "code",
      "metadata": {
        "id": "d89v8BKXtiSP"
      },
      "source": [
        "\"\"\" \n",
        "end of codes \n",
        "\"\"\""
      ],
      "execution_count": null,
      "outputs": []
    }
  ]
}
